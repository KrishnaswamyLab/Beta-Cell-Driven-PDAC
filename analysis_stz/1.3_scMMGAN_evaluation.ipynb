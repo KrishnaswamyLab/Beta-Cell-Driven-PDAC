{
 "cells": [
  {
   "cell_type": "code",
   "execution_count": 26,
   "id": "cdcf135a-e75b-45ba-a2e1-82a83bc1e989",
   "metadata": {},
   "outputs": [],
   "source": [
    "import pandas as pd\n",
    "import scanpy, magic\n",
    "import numpy as np\n",
    "from tqdm import tqdm\n",
    "import sys\n",
    "sys.path.append('/vast/palmer/home.mccleary/av622/Islet-Dynamics/analysis_agedmice/scib/')\n",
    "import scib\n",
    "from sklearn.metrics.pairwise import cosine_similarity\n",
    "from sklearn import decomposition"
   ]
  },
  {
   "cell_type": "markdown",
   "id": "4825eec6-117c-46de-8b2e-65473a2b8cd7",
   "metadata": {},
   "source": [
    "## Get our data"
   ]
  },
  {
   "cell_type": "code",
   "execution_count": 9,
   "id": "73e046a6-aa0e-4d74-9c2b-6a3ba020c59d",
   "metadata": {},
   "outputs": [],
   "source": [
    "adata_beta = scanpy.read_h5ad('../data/beta_run_2.h5ad')"
   ]
  },
  {
   "cell_type": "code",
   "execution_count": 10,
   "id": "47db50fc-1853-42e3-b001-3d4196093b0b",
   "metadata": {},
   "outputs": [],
   "source": [
    "adata_stz = scanpy.read_h5ad('data/stz_beta_ins1_ins2.h5ad')"
   ]
  },
  {
   "cell_type": "markdown",
   "id": "4b87a87f-b2a2-4b7b-bc6e-25ba9588340f",
   "metadata": {},
   "source": [
    "# WT"
   ]
  },
  {
   "cell_type": "code",
   "execution_count": 12,
   "id": "28434958-81fb-4dde-8951-4ef6a288c112",
   "metadata": {},
   "outputs": [],
   "source": [
    "adata_beta_wt = adata_beta[adata_beta.obs['samples'] == 'WT']\n",
    "wt_pc_op = pd.read_pickle('../analysis_archetypes/results/WT_magic_pc_op.pkl')\n",
    "wt_magic_pc_norm = pd.read_pickle('../analysis_archetypes/results/WT_magic_pc_norm.pkl')"
   ]
  },
  {
   "cell_type": "markdown",
   "id": "ac3bcc3b-1b3d-4a0e-8225-355b841f57c7",
   "metadata": {},
   "source": [
    "## Get reference"
   ]
  },
  {
   "cell_type": "code",
   "execution_count": 5,
   "id": "27a43a5e-c080-499d-a4fe-d4cf7365ec02",
   "metadata": {},
   "outputs": [
    {
     "name": "stdout",
     "output_type": "stream",
     "text": [
      "Calculating MAGIC...\n",
      "  Running MAGIC on 5600 cells and 18210 genes.\n",
      "  Calculating graph and diffusion operator...\n"
     ]
    },
    {
     "name": "stderr",
     "output_type": "stream",
     "text": [
      "/gpfs/gibbs/project/krishnaswamy_smita/av622/conda_envs/gspa/lib/python3.8/site-packages/magic/magic.py:650: DeprecationWarning: Call to deprecated method task. (Use TaskLogger.log_task instead) -- Deprecated since version 1.1.0.\n",
      "  with _logger.task(\"MAGIC\"):\n",
      "/gpfs/gibbs/project/krishnaswamy_smita/av622/conda_envs/gspa/lib/python3.8/site-packages/magic/magic.py:381: DeprecationWarning: Call to deprecated method info. (Use TaskLogger.log_info instead) -- Deprecated since version 1.1.0.\n",
      "  _logger.info(\n",
      "/gpfs/gibbs/project/krishnaswamy_smita/av622/conda_envs/gspa/lib/python3.8/site-packages/magic/magic.py:425: UserWarning: Input matrix contains unexpressed genes. Please remove them prior to running MAGIC.\n",
      "  warnings.warn(\n",
      "/gpfs/gibbs/project/krishnaswamy_smita/av622/conda_envs/gspa/lib/python3.8/site-packages/magic/magic.py:436: DeprecationWarning: Call to deprecated method task. (Use TaskLogger.log_task instead) -- Deprecated since version 1.1.0.\n",
      "  with _logger.task(\"graph and diffusion operator\"):\n"
     ]
    },
    {
     "name": "stdout",
     "output_type": "stream",
     "text": [
      "    Calculating PCA...\n",
      "    Calculated PCA in 4.12 seconds.\n",
      "    Calculating KNN search...\n",
      "    Calculated KNN search in 3.24 seconds.\n",
      "    Calculating affinities...\n",
      "    Calculated affinities in 3.22 seconds.\n",
      "  Calculated graph and diffusion operator in 10.69 seconds.\n",
      "  Running MAGIC with `solver='exact'` on 18210-dimensional data may take a long time. Consider denoising specific genes with `genes=<list-like>` or using `solver='approximate'`.\n",
      "  Calculating imputation...\n"
     ]
    },
    {
     "name": "stderr",
     "output_type": "stream",
     "text": [
      "/gpfs/gibbs/project/krishnaswamy_smita/av622/conda_envs/gspa/lib/python3.8/site-packages/magic/magic.py:586: DeprecationWarning: Call to deprecated method warning. (Use TaskLogger.log_warning instead) -- Deprecated since version 1.1.0.\n",
      "  _logger.warning(\n",
      "/gpfs/gibbs/project/krishnaswamy_smita/av622/conda_envs/gspa/lib/python3.8/site-packages/magic/magic.py:748: DeprecationWarning: Call to deprecated method task. (Use TaskLogger.log_task instead) -- Deprecated since version 1.1.0.\n",
      "  with _logger.task(\"imputation\"):\n"
     ]
    },
    {
     "name": "stdout",
     "output_type": "stream",
     "text": [
      "  Calculated imputation in 2.56 seconds.\n",
      "Calculated MAGIC in 13.40 seconds.\n"
     ]
    }
   ],
   "source": [
    "stz = scanpy.read_h5ad('data/stz_beta_ins1_ins2.h5ad')\n",
    "stz_ctrl = stz[stz.obs['groups_named_broad_cond'] == 'beta_Ctrl']\n",
    "magic_op = magic.MAGIC(random_state=42, t=20)\n",
    "stz_ctrl.layers['X_magic'] = magic_op.fit_transform(stz_ctrl.to_df())\n",
    "ref_x = pd.DataFrame(stz_ctrl.layers['X_magic'], index=stz_ctrl.obs_names, columns=stz_ctrl.var_names)"
   ]
  },
  {
   "cell_type": "markdown",
   "id": "21dadd1d-87d6-4b57-bb40-a52498f20334",
   "metadata": {},
   "source": [
    "## Get post correction reference"
   ]
  },
  {
   "cell_type": "code",
   "execution_count": 28,
   "id": "46751989-d107-40b1-8e78-55c24b61cb7c",
   "metadata": {},
   "outputs": [],
   "source": [
    "out = np.load('results/output_stz_to_wt_cycle_1_correspondence_lambda_10_corr_correspondence_training_counter_15000.npz')\n",
    "ctrl_magan = pd.DataFrame(out['stz_to_wt'], index=stz_ctrl.obs_names, columns=adata_beta_wt.var_names)\n",
    "ctrl_magan_magic_pc = wt_pc_op.transform(ctrl_magan)\n",
    "ctrl_magan_magic_pc_norm = ctrl_magan_magic_pc / np.std(ctrl_magan_magic_pc[:, 0])"
   ]
  },
  {
   "cell_type": "markdown",
   "id": "3a18a96c-75c8-42c4-8e73-0078daa79915",
   "metadata": {},
   "source": [
    "## Batch ASW"
   ]
  },
  {
   "cell_type": "code",
   "execution_count": 11,
   "id": "a3d14050-403a-43d8-bd0f-e0e4017630cb",
   "metadata": {},
   "outputs": [],
   "source": [
    "evaluation_summary = pd.DataFrame(columns=['pre_post_corr'])"
   ]
  },
  {
   "cell_type": "code",
   "execution_count": 17,
   "id": "643caadf-eddd-4bf8-bb39-2b30b74aa45b",
   "metadata": {},
   "outputs": [],
   "source": [
    "adata_post_corr = scanpy.AnnData(ctrl_magan)\n",
    "adata_post_all = scanpy.concat((adata_post_corr, adata_beta_wt), label='batch')\n",
    "adata_post_all.obsm['X_pc'] = np.vstack((ctrl_magan_magic_pc_norm, wt_magic_pc_norm))\n",
    "adata_post_all.obs['cell_type'] = 'beta cell'"
   ]
  },
  {
   "cell_type": "code",
   "execution_count": 18,
   "id": "0e17f380-c911-49d0-b628-444ddc347cdc",
   "metadata": {},
   "outputs": [
    {
     "name": "stdout",
     "output_type": "stream",
     "text": [
      "mean silhouette per group:            silhouette_score\n",
      "group                      \n",
      "beta cell          0.915022\n"
     ]
    }
   ],
   "source": [
    "evaluation_summary.loc['Batch ASW'] = scib.me.silhouette_batch(adata_post_all, batch_key='batch', label_key='cell_type', embed='X_pc', )"
   ]
  },
  {
   "cell_type": "markdown",
   "id": "abddb23a-0ef6-48b2-a355-29ab74fbe520",
   "metadata": {},
   "source": [
    "## Cosine similarity"
   ]
  },
  {
   "cell_type": "code",
   "execution_count": 29,
   "id": "129751ce-4971-4634-9033-74f7b1646e0d",
   "metadata": {},
   "outputs": [],
   "source": [
    "ctrl_magan = ctrl_magan.T.set_index(adata_beta_wt.var['names']).T\n",
    "ctrl_magan = ctrl_magan.iloc[:, ~ctrl_magan.columns.duplicated()]"
   ]
  },
  {
   "cell_type": "code",
   "execution_count": 35,
   "id": "a1866071-866c-4a2a-8baf-68bd8cfdda06",
   "metadata": {},
   "outputs": [
    {
     "data": {
      "text/plain": [
       "15553"
      ]
     },
     "execution_count": 35,
     "metadata": {},
     "output_type": "execute_result"
    }
   ],
   "source": [
    "intersection = list(set(ref_x.columns).intersection(ctrl_magan.columns))\n",
    "len(intersection)"
   ]
  },
  {
   "cell_type": "code",
   "execution_count": 36,
   "id": "73cb5eec-6eec-4f6f-86de-d6228b07e78b",
   "metadata": {},
   "outputs": [],
   "source": [
    "ref_x = ref_x[intersection].values\n",
    "post_x = ctrl_magan[intersection].values"
   ]
  },
  {
   "cell_type": "code",
   "execution_count": 37,
   "id": "f7be6e90-f6ce-4a59-a8b2-7eb50acd9a54",
   "metadata": {},
   "outputs": [
    {
     "name": "stderr",
     "output_type": "stream",
     "text": [
      "100%|██████████| 5600/5600 [00:02<00:00, 2743.37it/s]\n"
     ]
    }
   ],
   "source": [
    "pre_post_corr = []\n",
    "for i in tqdm(range(stz_ctrl.n_obs)):\n",
    "    pre_post_corr.append(cosine_similarity(ref_x[i].reshape(1,-1), post_x[i].reshape(1,-1))[0][0])"
   ]
  },
  {
   "cell_type": "code",
   "execution_count": 38,
   "id": "232a8503-9523-4371-a7a7-e7b77680c181",
   "metadata": {},
   "outputs": [],
   "source": [
    "evaluation_summary.loc['Mean cell correlation pre- and post-alignment'] = np.nanmean(pre_post_corr)"
   ]
  },
  {
   "cell_type": "code",
   "execution_count": 39,
   "id": "281c35f2-f674-4693-865b-397fe7ae2cb7",
   "metadata": {},
   "outputs": [],
   "source": [
    "stz_ctrl.obs['pre_post_corr'] = pre_post_corr"
   ]
  },
  {
   "cell_type": "code",
   "execution_count": 43,
   "id": "ad0059c5-6106-45b5-bfee-c7602d58be64",
   "metadata": {},
   "outputs": [],
   "source": [
    "evaluation_summary = pd.concat((evaluation_summary, stz_ctrl.obs[['AT_committment', 'pre_post_corr']].groupby('AT_committment').mean()))"
   ]
  },
  {
   "cell_type": "code",
   "execution_count": 44,
   "id": "1b2ba97b-9c36-4b8c-bd22-9b44456772d2",
   "metadata": {},
   "outputs": [],
   "source": [
    "evaluation_summary.to_csv('results/ctrl_scMMGAN_stats.csv')"
   ]
  },
  {
   "cell_type": "markdown",
   "id": "079d6bcb-2f1f-4300-91db-76e1ea308b3b",
   "metadata": {},
   "source": [
    "# OB/OB"
   ]
  },
  {
   "cell_type": "code",
   "execution_count": 46,
   "id": "f1cf2390-2205-4d30-b5ee-4eb9bbe8d645",
   "metadata": {},
   "outputs": [],
   "source": [
    "adata_beta_obob = adata_beta[adata_beta.obs['samples'] == 'OB/OB']\n",
    "obob_pc_op = pd.read_pickle('../analysis_archetypes/results/OB_OB_magic_pc_op.pkl')\n",
    "obob_magic_pc_norm = pd.read_pickle('../analysis_archetypes/results/OB_OB_magic_pc_norm.pkl')"
   ]
  },
  {
   "cell_type": "markdown",
   "id": "0b5cb4dd-d9eb-436a-b428-4d0673b4b4ed",
   "metadata": {},
   "source": [
    "## Get reference"
   ]
  },
  {
   "cell_type": "code",
   "execution_count": 48,
   "id": "68668d64-e601-4186-b2d9-b5b1cf3f14c5",
   "metadata": {},
   "outputs": [
    {
     "name": "stdout",
     "output_type": "stream",
     "text": [
      "Calculating MAGIC...\n",
      "  Running MAGIC on 1160 cells and 18210 genes.\n",
      "  Calculating graph and diffusion operator...\n",
      "    Calculating PCA...\n"
     ]
    },
    {
     "name": "stderr",
     "output_type": "stream",
     "text": [
      "/gpfs/gibbs/project/krishnaswamy_smita/av622/conda_envs/gspa/lib/python3.8/site-packages/magic/magic.py:650: DeprecationWarning: Call to deprecated method task. (Use TaskLogger.log_task instead) -- Deprecated since version 1.1.0.\n",
      "  with _logger.task(\"MAGIC\"):\n",
      "/gpfs/gibbs/project/krishnaswamy_smita/av622/conda_envs/gspa/lib/python3.8/site-packages/magic/magic.py:381: DeprecationWarning: Call to deprecated method info. (Use TaskLogger.log_info instead) -- Deprecated since version 1.1.0.\n",
      "  _logger.info(\n",
      "/gpfs/gibbs/project/krishnaswamy_smita/av622/conda_envs/gspa/lib/python3.8/site-packages/magic/magic.py:425: UserWarning: Input matrix contains unexpressed genes. Please remove them prior to running MAGIC.\n",
      "  warnings.warn(\n",
      "/gpfs/gibbs/project/krishnaswamy_smita/av622/conda_envs/gspa/lib/python3.8/site-packages/magic/magic.py:436: DeprecationWarning: Call to deprecated method task. (Use TaskLogger.log_task instead) -- Deprecated since version 1.1.0.\n",
      "  with _logger.task(\"graph and diffusion operator\"):\n"
     ]
    },
    {
     "name": "stdout",
     "output_type": "stream",
     "text": [
      "    Calculated PCA in 2.51 seconds.\n",
      "    Calculating KNN search...\n",
      "    Calculated KNN search in 0.13 seconds.\n",
      "    Calculating affinities...\n",
      "    Calculated affinities in 0.13 seconds.\n",
      "  Calculated graph and diffusion operator in 2.79 seconds.\n",
      "  Running MAGIC with `solver='exact'` on 18210-dimensional data may take a long time. Consider denoising specific genes with `genes=<list-like>` or using `solver='approximate'`.\n",
      "  Calculating imputation...\n",
      "  Calculated imputation in 0.17 seconds.\n",
      "Calculated MAGIC in 3.00 seconds.\n"
     ]
    },
    {
     "name": "stderr",
     "output_type": "stream",
     "text": [
      "/gpfs/gibbs/project/krishnaswamy_smita/av622/conda_envs/gspa/lib/python3.8/site-packages/magic/magic.py:586: DeprecationWarning: Call to deprecated method warning. (Use TaskLogger.log_warning instead) -- Deprecated since version 1.1.0.\n",
      "  _logger.warning(\n",
      "/gpfs/gibbs/project/krishnaswamy_smita/av622/conda_envs/gspa/lib/python3.8/site-packages/magic/magic.py:748: DeprecationWarning: Call to deprecated method task. (Use TaskLogger.log_task instead) -- Deprecated since version 1.1.0.\n",
      "  with _logger.task(\"imputation\"):\n"
     ]
    }
   ],
   "source": [
    "stz = scanpy.read_h5ad('data/stz_beta_ins1_ins2.h5ad')\n",
    "stz_treat = stz[stz.obs.treatment == 'Vehicle-STZ']\n",
    "magic_op = magic.MAGIC(random_state=42, t=20)\n",
    "stz_treat.layers['X_magic'] = magic_op.fit_transform(stz_treat.to_df())\n",
    "ref_x = pd.DataFrame(stz_treat.layers['X_magic'], index=stz_treat.obs_names, columns=stz_treat.var_names)"
   ]
  },
  {
   "cell_type": "markdown",
   "id": "f8deb061-4987-4473-9155-034171ff40ee",
   "metadata": {},
   "source": [
    "## Get post correction reference"
   ]
  },
  {
   "cell_type": "code",
   "execution_count": 50,
   "id": "aa8fe14e-2fe4-40e4-8a69-b5b19b2c63cb",
   "metadata": {},
   "outputs": [],
   "source": [
    "out = np.load('results/output_stz_to_obob_cycle_1_correspondence_lambda_10_corr_correspondence_training_counter_15000.npz')\n",
    "treatment_magan = pd.DataFrame(out['stz_to_obob'], index=stz_treat.obs_names, columns=adata_beta_obob.var_names)\n",
    "treatment_magan_magic_pc = obob_pc_op.transform(treatment_magan)\n",
    "treatment_magan_magic_pc_norm = treatment_magan_magic_pc / np.std(treatment_magan_magic_pc[:, 0])"
   ]
  },
  {
   "cell_type": "markdown",
   "id": "8067941a-afe4-48b8-acfa-64162bb49b61",
   "metadata": {},
   "source": [
    "## Batch ASW"
   ]
  },
  {
   "cell_type": "code",
   "execution_count": 51,
   "id": "8a72d58c-3289-411d-92bf-07d189509e79",
   "metadata": {},
   "outputs": [],
   "source": [
    "evaluation_summary = pd.DataFrame(columns=['pre_post_corr'])"
   ]
  },
  {
   "cell_type": "code",
   "execution_count": 55,
   "id": "1fb0997a-a552-4298-aa27-3ae18eb7445a",
   "metadata": {},
   "outputs": [],
   "source": [
    "adata_post_corr = scanpy.AnnData(treatment_magan)\n",
    "adata_post_all = scanpy.concat((adata_post_corr, adata_beta_obob), label='batch')\n",
    "adata_post_all.obsm['X_pc'] = np.vstack((treatment_magan_magic_pc_norm, obob_magic_pc_norm))\n",
    "adata_post_all.obs['cell_type'] = 'beta cell'"
   ]
  },
  {
   "cell_type": "code",
   "execution_count": 56,
   "id": "7eeac479-36ca-4f52-a391-331a744c9e7f",
   "metadata": {},
   "outputs": [
    {
     "name": "stdout",
     "output_type": "stream",
     "text": [
      "mean silhouette per group:            silhouette_score\n",
      "group                      \n",
      "beta cell          0.642818\n"
     ]
    }
   ],
   "source": [
    "evaluation_summary.loc['Batch ASW'] = scib.me.silhouette_batch(adata_post_all, batch_key='batch', label_key='cell_type', embed='X_pc', )"
   ]
  },
  {
   "cell_type": "markdown",
   "id": "fa369742-de58-44b2-b25f-0763531ed18d",
   "metadata": {},
   "source": [
    "## Cosine similarity"
   ]
  },
  {
   "cell_type": "code",
   "execution_count": 57,
   "id": "4f368350-555a-4212-9208-ee66d6570404",
   "metadata": {},
   "outputs": [],
   "source": [
    "treatment_magan.columns = adata_beta_obob.var['names']"
   ]
  },
  {
   "cell_type": "code",
   "execution_count": 58,
   "id": "14ccc873-bab9-4fd5-addd-c414afcc00fa",
   "metadata": {},
   "outputs": [],
   "source": [
    "treatment_magan = treatment_magan.iloc[:, ~treatment_magan.columns.duplicated()]"
   ]
  },
  {
   "cell_type": "code",
   "execution_count": 59,
   "id": "2a72b22b-800e-41dc-86ed-a313c03c3aa8",
   "metadata": {},
   "outputs": [
    {
     "data": {
      "text/plain": [
       "15553"
      ]
     },
     "execution_count": 59,
     "metadata": {},
     "output_type": "execute_result"
    }
   ],
   "source": [
    "intersection = list(set(ref_x.columns).intersection(treatment_magan.columns))\n",
    "len(intersection)"
   ]
  },
  {
   "cell_type": "code",
   "execution_count": 60,
   "id": "6a2001b3-0631-4dab-ba41-72c725f1768e",
   "metadata": {},
   "outputs": [],
   "source": [
    "ref_x = ref_x[intersection].values\n",
    "post_x = treatment_magan[intersection].values"
   ]
  },
  {
   "cell_type": "code",
   "execution_count": 61,
   "id": "5a6dc10d-144f-4837-b996-90b9f2613e4f",
   "metadata": {},
   "outputs": [
    {
     "name": "stderr",
     "output_type": "stream",
     "text": [
      "100%|██████████| 1160/1160 [00:00<00:00, 2802.14it/s]\n"
     ]
    }
   ],
   "source": [
    "pre_post_corr = []\n",
    "for i in tqdm(range(stz_treat.n_obs)):\n",
    "    pre_post_corr.append(cosine_similarity(ref_x[i].reshape(1,-1), post_x[i].reshape(1,-1))[0][0])"
   ]
  },
  {
   "cell_type": "code",
   "execution_count": 62,
   "id": "92bf2171-be07-498f-b8be-26117490435b",
   "metadata": {},
   "outputs": [],
   "source": [
    "evaluation_summary.loc['Mean cell correlation pre- and post-alignment'] = np.nanmean(pre_post_corr)"
   ]
  },
  {
   "cell_type": "code",
   "execution_count": 63,
   "id": "5eba74ef-42d0-4836-a77b-f5afe6b83595",
   "metadata": {},
   "outputs": [],
   "source": [
    "stz_treat.obs['pre_post_corr'] = pre_post_corr"
   ]
  },
  {
   "cell_type": "code",
   "execution_count": 64,
   "id": "5131a68b-3f11-4fbd-b903-6e7dd8c59f15",
   "metadata": {},
   "outputs": [],
   "source": [
    "evaluation_summary = pd.concat((evaluation_summary, stz_treat.obs[['AT_committment', 'pre_post_corr']].groupby('AT_committment').mean()))"
   ]
  },
  {
   "cell_type": "code",
   "execution_count": 65,
   "id": "7c6d0f46-a1ab-4e30-af95-1ad7296d03f9",
   "metadata": {},
   "outputs": [],
   "source": [
    "evaluation_summary.to_csv('results/stz_scMMGAN_stats.csv')"
   ]
  },
  {
   "cell_type": "markdown",
   "id": "93cc40fc-eecf-420c-8f55-79fde1986bbb",
   "metadata": {},
   "source": [
    "# Run 2"
   ]
  },
  {
   "cell_type": "markdown",
   "id": "4cf90b69-44a9-496f-82f4-cb950e37e6a4",
   "metadata": {},
   "source": [
    "# WT"
   ]
  },
  {
   "cell_type": "code",
   "execution_count": null,
   "id": "0b64a1af-dc4c-49d4-a5cc-0659f8979d3a",
   "metadata": {},
   "outputs": [],
   "source": [
    "adata_beta_wt = adata_beta[adata_beta.obs['samples'] == 'WT']\n",
    "wt_pc_op = pd.read_pickle('../analysis_archetypes/results/WT_magic_pc_op.pkl')\n",
    "wt_magic_pc_norm = pd.read_pickle('../analysis_archetypes/results/WT_magic_pc_norm.pkl')"
   ]
  },
  {
   "cell_type": "markdown",
   "id": "e59bf186-809c-403e-8013-fa5e0d57029e",
   "metadata": {},
   "source": [
    "## Get reference"
   ]
  },
  {
   "cell_type": "code",
   "execution_count": 13,
   "id": "55ee7a02-bc26-4dd0-b3af-aadf375c10bd",
   "metadata": {
    "scrolled": true
   },
   "outputs": [
    {
     "name": "stdout",
     "output_type": "stream",
     "text": [
      "Calculating MAGIC...\n",
      "  Running MAGIC on 5600 cells and 18210 genes.\n",
      "  Calculating graph and diffusion operator...\n"
     ]
    },
    {
     "name": "stderr",
     "output_type": "stream",
     "text": [
      "/gpfs/gibbs/project/krishnaswamy_smita/av622/conda_envs/gspa/lib/python3.8/site-packages/magic/magic.py:650: DeprecationWarning: Call to deprecated method task. (Use TaskLogger.log_task instead) -- Deprecated since version 1.1.0.\n",
      "  with _logger.task(\"MAGIC\"):\n",
      "/gpfs/gibbs/project/krishnaswamy_smita/av622/conda_envs/gspa/lib/python3.8/site-packages/magic/magic.py:381: DeprecationWarning: Call to deprecated method info. (Use TaskLogger.log_info instead) -- Deprecated since version 1.1.0.\n",
      "  _logger.info(\n",
      "/gpfs/gibbs/project/krishnaswamy_smita/av622/conda_envs/gspa/lib/python3.8/site-packages/magic/magic.py:425: UserWarning: Input matrix contains unexpressed genes. Please remove them prior to running MAGIC.\n",
      "  warnings.warn(\n",
      "/gpfs/gibbs/project/krishnaswamy_smita/av622/conda_envs/gspa/lib/python3.8/site-packages/magic/magic.py:436: DeprecationWarning: Call to deprecated method task. (Use TaskLogger.log_task instead) -- Deprecated since version 1.1.0.\n",
      "  with _logger.task(\"graph and diffusion operator\"):\n"
     ]
    },
    {
     "name": "stdout",
     "output_type": "stream",
     "text": [
      "    Calculating PCA...\n",
      "    Calculated PCA in 2.65 seconds.\n",
      "    Calculating KNN search...\n",
      "    Calculated KNN search in 3.25 seconds.\n",
      "    Calculating affinities...\n",
      "    Calculated affinities in 3.21 seconds.\n",
      "  Calculated graph and diffusion operator in 9.25 seconds.\n",
      "  Running MAGIC with `solver='exact'` on 18210-dimensional data may take a long time. Consider denoising specific genes with `genes=<list-like>` or using `solver='approximate'`.\n",
      "  Calculating imputation...\n"
     ]
    },
    {
     "name": "stderr",
     "output_type": "stream",
     "text": [
      "/gpfs/gibbs/project/krishnaswamy_smita/av622/conda_envs/gspa/lib/python3.8/site-packages/magic/magic.py:586: DeprecationWarning: Call to deprecated method warning. (Use TaskLogger.log_warning instead) -- Deprecated since version 1.1.0.\n",
      "  _logger.warning(\n",
      "/gpfs/gibbs/project/krishnaswamy_smita/av622/conda_envs/gspa/lib/python3.8/site-packages/magic/magic.py:748: DeprecationWarning: Call to deprecated method task. (Use TaskLogger.log_task instead) -- Deprecated since version 1.1.0.\n",
      "  with _logger.task(\"imputation\"):\n"
     ]
    },
    {
     "name": "stdout",
     "output_type": "stream",
     "text": [
      "  Calculated imputation in 4.94 seconds.\n",
      "Calculated MAGIC in 14.38 seconds.\n"
     ]
    }
   ],
   "source": [
    "stz = scanpy.read_h5ad('data/stz_beta_ins1_ins2.h5ad')\n",
    "stz_ctrl = stz[stz.obs['groups_named_broad_cond'] == 'beta_Ctrl']\n",
    "magic_op = magic.MAGIC(random_state=42, t=20)\n",
    "stz_ctrl.layers['X_magic'] = magic_op.fit_transform(stz_ctrl.to_df())\n",
    "ref_x = pd.DataFrame(stz_ctrl.layers['X_magic'], index=stz_ctrl.obs_names, columns=stz_ctrl.var_names)"
   ]
  },
  {
   "cell_type": "markdown",
   "id": "64f5c134-46e4-4797-bf53-ee2a1670741e",
   "metadata": {},
   "source": [
    "## Get post correction reference"
   ]
  },
  {
   "cell_type": "code",
   "execution_count": 15,
   "id": "bb1b9806-80b5-46aa-9f3b-47a99a998012",
   "metadata": {},
   "outputs": [],
   "source": [
    "adata_beta_wt = adata_beta_wt[:, adata_beta[:, ~adata_beta.var['names'].duplicated()].var.index]"
   ]
  },
  {
   "cell_type": "code",
   "execution_count": 27,
   "id": "7bf511ee-3e23-4905-9bfe-a16da0a9c3ab",
   "metadata": {},
   "outputs": [],
   "source": [
    "data_magic_op = magic.MAGIC(random_state=42, t=10, verbose=False)\n",
    "data_magic = data_magic_op.fit_transform(adata_beta_wt.to_df())\n",
    "\n",
    "data_pc_op = decomposition.PCA(n_components=20, random_state=42)\n",
    "data_magic_pc = data_pc_op.fit_transform(data_magic)\n",
    "data_magic_pc_norm = data_magic_pc / np.std(data_magic_pc[:, 0])"
   ]
  },
  {
   "cell_type": "code",
   "execution_count": 28,
   "id": "aa421247-ed2b-4ec8-97fc-fa314be5176c",
   "metadata": {},
   "outputs": [],
   "source": [
    "out = np.load('results/output_run_2_stz_to_wt_cycle_1_correspondence_lambda_10_mse_correspondence.npz')\n",
    "ctrl_magan = pd.DataFrame(out['stz_to_wt'], index=stz_ctrl.obs_names, columns=adata_beta_wt.var_names)\n",
    "ctrl_magan_magic_pc = data_pc_op.transform(ctrl_magan)\n",
    "ctrl_magan_magic_pc_norm = ctrl_magan_magic_pc / np.std(ctrl_magan_magic_pc[:, 0])"
   ]
  },
  {
   "cell_type": "markdown",
   "id": "a7c83210-3d54-48e7-b563-6d362bfc67e1",
   "metadata": {},
   "source": [
    "## Batch ASW"
   ]
  },
  {
   "cell_type": "code",
   "execution_count": 29,
   "id": "140d6399-4053-49a6-bf46-c223014750ae",
   "metadata": {},
   "outputs": [],
   "source": [
    "evaluation_summary = pd.DataFrame(columns=['pre_post_corr'])"
   ]
  },
  {
   "cell_type": "code",
   "execution_count": 30,
   "id": "042593ba-b542-4fef-a7f9-c4bf210930a0",
   "metadata": {},
   "outputs": [],
   "source": [
    "adata_post_corr = scanpy.AnnData(ctrl_magan)\n",
    "adata_post_all = scanpy.concat((adata_post_corr, adata_beta_wt), label='batch')\n",
    "adata_post_all.obsm['X_pc'] = np.vstack((ctrl_magan_magic_pc_norm, wt_magic_pc_norm))\n",
    "adata_post_all.obs['cell_type'] = 'beta cell'"
   ]
  },
  {
   "cell_type": "code",
   "execution_count": 31,
   "id": "15645140-e9d1-4144-9453-e04b5d56b4c9",
   "metadata": {},
   "outputs": [
    {
     "name": "stdout",
     "output_type": "stream",
     "text": [
      "mean silhouette per group:            silhouette_score\n",
      "group                      \n",
      "beta cell          0.909842\n"
     ]
    }
   ],
   "source": [
    "evaluation_summary.loc['Batch ASW'] = scib.me.silhouette_batch(adata_post_all, batch_key='batch', label_key='cell_type', embed='X_pc', )"
   ]
  },
  {
   "cell_type": "markdown",
   "id": "caee0009-aaae-4889-a1ba-c33097780f45",
   "metadata": {},
   "source": [
    "## Cosine similarity"
   ]
  },
  {
   "cell_type": "code",
   "execution_count": 32,
   "id": "8acc92a1-65b9-40a9-b98a-b5397543fb82",
   "metadata": {},
   "outputs": [],
   "source": [
    "ctrl_magan = ctrl_magan.T.set_index(adata_beta_wt.var['names']).T\n",
    "ctrl_magan = ctrl_magan.iloc[:, ~ctrl_magan.columns.duplicated()]"
   ]
  },
  {
   "cell_type": "code",
   "execution_count": 33,
   "id": "5016a253-73a3-433e-8f96-348a44c8c763",
   "metadata": {},
   "outputs": [
    {
     "data": {
      "text/plain": [
       "15553"
      ]
     },
     "execution_count": 33,
     "metadata": {},
     "output_type": "execute_result"
    }
   ],
   "source": [
    "intersection = list(set(ref_x.columns).intersection(ctrl_magan.columns))\n",
    "len(intersection)"
   ]
  },
  {
   "cell_type": "code",
   "execution_count": 34,
   "id": "103d0a31-8d2c-49fa-b53e-ad2bbdc06e12",
   "metadata": {},
   "outputs": [],
   "source": [
    "ref_x = ref_x[intersection].values\n",
    "post_x = ctrl_magan[intersection].values"
   ]
  },
  {
   "cell_type": "code",
   "execution_count": 35,
   "id": "af578a74-8259-4709-b488-88eb93866232",
   "metadata": {},
   "outputs": [
    {
     "name": "stderr",
     "output_type": "stream",
     "text": [
      "100%|██████████| 5600/5600 [00:02<00:00, 2522.35it/s]\n"
     ]
    }
   ],
   "source": [
    "pre_post_corr = []\n",
    "for i in tqdm(range(stz_ctrl.n_obs)):\n",
    "    pre_post_corr.append(cosine_similarity(ref_x[i].reshape(1,-1), post_x[i].reshape(1,-1))[0][0])"
   ]
  },
  {
   "cell_type": "code",
   "execution_count": 37,
   "id": "0f8fdbf1-7641-4fe1-be8d-bdbcec7f6cca",
   "metadata": {},
   "outputs": [],
   "source": [
    "evaluation_summary.loc['Mean cell correlation pre- and post-alignment'] = np.nanmean(pre_post_corr)"
   ]
  },
  {
   "cell_type": "code",
   "execution_count": 38,
   "id": "33ae3083-27d1-4b4e-abf9-b8f1b96a2193",
   "metadata": {},
   "outputs": [],
   "source": [
    "stz_ctrl.obs['pre_post_corr'] = pre_post_corr"
   ]
  },
  {
   "cell_type": "code",
   "execution_count": 39,
   "id": "c324685d-ea76-4a8d-92f4-3b47930a3f4f",
   "metadata": {},
   "outputs": [],
   "source": [
    "evaluation_summary = pd.concat((evaluation_summary, stz_ctrl.obs[['AT_committment', 'pre_post_corr']].groupby('AT_committment').mean()))"
   ]
  },
  {
   "cell_type": "code",
   "execution_count": 40,
   "id": "08b8db19-a37f-40ad-b131-d8f091b2e478",
   "metadata": {},
   "outputs": [],
   "source": [
    "evaluation_summary.to_csv('results/ctrl_scMMGAN_stats_run_2.csv')"
   ]
  },
  {
   "cell_type": "markdown",
   "id": "c02dfb9d-4076-43a8-a411-4cbb8ee8ee51",
   "metadata": {},
   "source": [
    "# OB/OB"
   ]
  },
  {
   "cell_type": "code",
   "execution_count": 47,
   "id": "a0e91b08-3598-4619-a3e5-f64789410bdf",
   "metadata": {},
   "outputs": [],
   "source": [
    "adata_beta_obob = adata_beta[adata_beta.obs['samples'] == 'OB/OB']\n",
    "adata_beta_obob = adata_beta_obob[:, adata_beta[:, ~adata_beta.var['names'].duplicated()].var.index]"
   ]
  },
  {
   "cell_type": "code",
   "execution_count": 48,
   "id": "dab9166b-3225-4166-9c69-7a969d8f3027",
   "metadata": {},
   "outputs": [
    {
     "name": "stderr",
     "output_type": "stream",
     "text": [
      "/gpfs/gibbs/project/krishnaswamy_smita/av622/conda_envs/gspa/lib/python3.8/site-packages/magic/magic.py:650: DeprecationWarning: Call to deprecated method task. (Use TaskLogger.log_task instead) -- Deprecated since version 1.1.0.\n",
      "  with _logger.task(\"MAGIC\"):\n",
      "/gpfs/gibbs/project/krishnaswamy_smita/av622/conda_envs/gspa/lib/python3.8/site-packages/magic/magic.py:381: DeprecationWarning: Call to deprecated method info. (Use TaskLogger.log_info instead) -- Deprecated since version 1.1.0.\n",
      "  _logger.info(\n",
      "/gpfs/gibbs/project/krishnaswamy_smita/av622/conda_envs/gspa/lib/python3.8/site-packages/magic/magic.py:425: UserWarning: Input matrix contains unexpressed genes. Please remove them prior to running MAGIC.\n",
      "  warnings.warn(\n",
      "/gpfs/gibbs/project/krishnaswamy_smita/av622/conda_envs/gspa/lib/python3.8/site-packages/magic/magic.py:436: DeprecationWarning: Call to deprecated method task. (Use TaskLogger.log_task instead) -- Deprecated since version 1.1.0.\n",
      "  with _logger.task(\"graph and diffusion operator\"):\n"
     ]
    },
    {
     "name": "stdout",
     "output_type": "stream",
     "text": [
      "  Running MAGIC with `solver='exact'` on 16479-dimensional data may take a long time. Consider denoising specific genes with `genes=<list-like>` or using `solver='approximate'`.\n"
     ]
    },
    {
     "name": "stderr",
     "output_type": "stream",
     "text": [
      "/gpfs/gibbs/project/krishnaswamy_smita/av622/conda_envs/gspa/lib/python3.8/site-packages/magic/magic.py:586: DeprecationWarning: Call to deprecated method warning. (Use TaskLogger.log_warning instead) -- Deprecated since version 1.1.0.\n",
      "  _logger.warning(\n",
      "/gpfs/gibbs/project/krishnaswamy_smita/av622/conda_envs/gspa/lib/python3.8/site-packages/magic/magic.py:748: DeprecationWarning: Call to deprecated method task. (Use TaskLogger.log_task instead) -- Deprecated since version 1.1.0.\n",
      "  with _logger.task(\"imputation\"):\n"
     ]
    }
   ],
   "source": [
    "data_magic_op = magic.MAGIC(random_state=42, t=10, verbose=False)\n",
    "data_magic = data_magic_op.fit_transform(adata_beta_obob.to_df())\n",
    "\n",
    "data_pc_op = decomposition.PCA(n_components=20, random_state=42)\n",
    "data_magic_pc = data_pc_op.fit_transform(data_magic)\n",
    "data_magic_pc_norm = data_magic_pc / np.std(data_magic_pc[:, 0])"
   ]
  },
  {
   "cell_type": "markdown",
   "id": "38edcfb5-78d3-4186-be11-2d45ea60a1c2",
   "metadata": {},
   "source": [
    "## Get reference"
   ]
  },
  {
   "cell_type": "code",
   "execution_count": 45,
   "id": "3ffcc8fd-c3dd-432e-93cd-89cd18216a10",
   "metadata": {},
   "outputs": [
    {
     "name": "stdout",
     "output_type": "stream",
     "text": [
      "Calculating MAGIC...\n",
      "  Running MAGIC on 1160 cells and 18210 genes.\n",
      "  Calculating graph and diffusion operator...\n",
      "    Calculating PCA...\n"
     ]
    },
    {
     "name": "stderr",
     "output_type": "stream",
     "text": [
      "/gpfs/gibbs/project/krishnaswamy_smita/av622/conda_envs/gspa/lib/python3.8/site-packages/magic/magic.py:650: DeprecationWarning: Call to deprecated method task. (Use TaskLogger.log_task instead) -- Deprecated since version 1.1.0.\n",
      "  with _logger.task(\"MAGIC\"):\n",
      "/gpfs/gibbs/project/krishnaswamy_smita/av622/conda_envs/gspa/lib/python3.8/site-packages/magic/magic.py:381: DeprecationWarning: Call to deprecated method info. (Use TaskLogger.log_info instead) -- Deprecated since version 1.1.0.\n",
      "  _logger.info(\n",
      "/gpfs/gibbs/project/krishnaswamy_smita/av622/conda_envs/gspa/lib/python3.8/site-packages/magic/magic.py:425: UserWarning: Input matrix contains unexpressed genes. Please remove them prior to running MAGIC.\n",
      "  warnings.warn(\n",
      "/gpfs/gibbs/project/krishnaswamy_smita/av622/conda_envs/gspa/lib/python3.8/site-packages/magic/magic.py:436: DeprecationWarning: Call to deprecated method task. (Use TaskLogger.log_task instead) -- Deprecated since version 1.1.0.\n",
      "  with _logger.task(\"graph and diffusion operator\"):\n"
     ]
    },
    {
     "name": "stdout",
     "output_type": "stream",
     "text": [
      "    Calculated PCA in 0.87 seconds.\n",
      "    Calculating KNN search...\n",
      "    Calculated KNN search in 0.15 seconds.\n",
      "    Calculating affinities...\n",
      "    Calculated affinities in 0.15 seconds.\n",
      "  Calculated graph and diffusion operator in 1.21 seconds.\n",
      "  Running MAGIC with `solver='exact'` on 18210-dimensional data may take a long time. Consider denoising specific genes with `genes=<list-like>` or using `solver='approximate'`.\n",
      "  Calculating imputation...\n"
     ]
    },
    {
     "name": "stderr",
     "output_type": "stream",
     "text": [
      "/gpfs/gibbs/project/krishnaswamy_smita/av622/conda_envs/gspa/lib/python3.8/site-packages/magic/magic.py:586: DeprecationWarning: Call to deprecated method warning. (Use TaskLogger.log_warning instead) -- Deprecated since version 1.1.0.\n",
      "  _logger.warning(\n",
      "/gpfs/gibbs/project/krishnaswamy_smita/av622/conda_envs/gspa/lib/python3.8/site-packages/magic/magic.py:748: DeprecationWarning: Call to deprecated method task. (Use TaskLogger.log_task instead) -- Deprecated since version 1.1.0.\n",
      "  with _logger.task(\"imputation\"):\n"
     ]
    },
    {
     "name": "stdout",
     "output_type": "stream",
     "text": [
      "  Calculated imputation in 0.21 seconds.\n",
      "Calculated MAGIC in 1.47 seconds.\n"
     ]
    }
   ],
   "source": [
    "stz = scanpy.read_h5ad('data/stz_beta_ins1_ins2.h5ad')\n",
    "stz_treat = stz[stz.obs.treatment == 'Vehicle-STZ']\n",
    "magic_op = magic.MAGIC(random_state=42, t=20)\n",
    "stz_treat.layers['X_magic'] = magic_op.fit_transform(stz_treat.to_df())\n",
    "ref_x = pd.DataFrame(stz_treat.layers['X_magic'], index=stz_treat.obs_names, columns=stz_treat.var_names)"
   ]
  },
  {
   "cell_type": "markdown",
   "id": "8165cafe-fbd6-4b3b-abdc-a99788a59dd2",
   "metadata": {},
   "source": [
    "## Get post correction reference"
   ]
  },
  {
   "cell_type": "code",
   "execution_count": 51,
   "id": "9dad8f07-d7f1-4850-b6c6-5c36ffaf7f32",
   "metadata": {},
   "outputs": [],
   "source": [
    "out = np.load('results/output_run_2_stz_to_obob_cycle_1_correspondence_lambda_10_corr_correspondence.npz')\n",
    "treatment_magan = pd.DataFrame(out['stz_to_obob'], index=stz_treat.obs_names, columns=adata_beta_obob.var_names)\n",
    "treatment_magan_magic_pc = data_pc_op.transform(treatment_magan)\n",
    "treatment_magan_magic_pc_norm = treatment_magan_magic_pc / np.std(treatment_magan_magic_pc[:, 0])"
   ]
  },
  {
   "cell_type": "markdown",
   "id": "97b5a8af-cf48-4823-8cf2-68fc6c035947",
   "metadata": {},
   "source": [
    "## Batch ASW"
   ]
  },
  {
   "cell_type": "code",
   "execution_count": 52,
   "id": "8de66d85-5ba5-44f5-8af1-a3c5458b8de6",
   "metadata": {},
   "outputs": [],
   "source": [
    "evaluation_summary = pd.DataFrame(columns=['pre_post_corr'])"
   ]
  },
  {
   "cell_type": "code",
   "execution_count": 54,
   "id": "ac671bdd-2707-4aeb-915d-3be917298331",
   "metadata": {},
   "outputs": [],
   "source": [
    "adata_post_corr = scanpy.AnnData(treatment_magan)\n",
    "adata_post_all = scanpy.concat((adata_post_corr, adata_beta_obob), label='batch')\n",
    "adata_post_all.obsm['X_pc'] = np.vstack((treatment_magan_magic_pc_norm, data_magic_pc_norm))\n",
    "adata_post_all.obs['cell_type'] = 'beta cell'"
   ]
  },
  {
   "cell_type": "code",
   "execution_count": 55,
   "id": "3f5e7b76-b265-4a61-a85d-b09e2fbfdd2c",
   "metadata": {},
   "outputs": [
    {
     "name": "stdout",
     "output_type": "stream",
     "text": [
      "mean silhouette per group:            silhouette_score\n",
      "group                      \n",
      "beta cell          0.641901\n"
     ]
    }
   ],
   "source": [
    "evaluation_summary.loc['Batch ASW'] = scib.me.silhouette_batch(adata_post_all, batch_key='batch', label_key='cell_type', embed='X_pc', )"
   ]
  },
  {
   "cell_type": "markdown",
   "id": "80963bf2-1cb0-4b84-b68a-42ea0ca46fa3",
   "metadata": {},
   "source": [
    "## Cosine similarity"
   ]
  },
  {
   "cell_type": "code",
   "execution_count": 56,
   "id": "a421c1dd-193c-48ba-923c-f744e4c2204d",
   "metadata": {},
   "outputs": [],
   "source": [
    "treatment_magan.columns = adata_beta_obob.var['names']"
   ]
  },
  {
   "cell_type": "code",
   "execution_count": 57,
   "id": "170141c5-5646-40f5-aea5-962d096aeb90",
   "metadata": {},
   "outputs": [],
   "source": [
    "treatment_magan = treatment_magan.iloc[:, ~treatment_magan.columns.duplicated()]"
   ]
  },
  {
   "cell_type": "code",
   "execution_count": 58,
   "id": "49c950d0-1028-4af9-af87-fa6a7e5ffe58",
   "metadata": {},
   "outputs": [
    {
     "data": {
      "text/plain": [
       "15553"
      ]
     },
     "execution_count": 58,
     "metadata": {},
     "output_type": "execute_result"
    }
   ],
   "source": [
    "intersection = list(set(ref_x.columns).intersection(treatment_magan.columns))\n",
    "len(intersection)"
   ]
  },
  {
   "cell_type": "code",
   "execution_count": 59,
   "id": "d710ddee-3131-4b4e-a7ee-d3a481004096",
   "metadata": {},
   "outputs": [],
   "source": [
    "ref_x = ref_x[intersection].values\n",
    "post_x = treatment_magan[intersection].values"
   ]
  },
  {
   "cell_type": "code",
   "execution_count": 60,
   "id": "294af71b-311d-4c14-a31d-fc05bc19e064",
   "metadata": {},
   "outputs": [
    {
     "name": "stderr",
     "output_type": "stream",
     "text": [
      "100%|██████████| 1160/1160 [00:00<00:00, 2380.01it/s]\n"
     ]
    }
   ],
   "source": [
    "pre_post_corr = []\n",
    "for i in tqdm(range(stz_treat.n_obs)):\n",
    "    pre_post_corr.append(cosine_similarity(ref_x[i].reshape(1,-1), post_x[i].reshape(1,-1))[0][0])"
   ]
  },
  {
   "cell_type": "code",
   "execution_count": 61,
   "id": "f4585e72-afef-4b8b-a721-5428ce3c9ec4",
   "metadata": {},
   "outputs": [],
   "source": [
    "evaluation_summary.loc['Mean cell correlation pre- and post-alignment'] = np.nanmean(pre_post_corr)"
   ]
  },
  {
   "cell_type": "code",
   "execution_count": 62,
   "id": "d071c806-004a-427f-b900-dd03041b5373",
   "metadata": {},
   "outputs": [],
   "source": [
    "stz_treat.obs['pre_post_corr'] = pre_post_corr"
   ]
  },
  {
   "cell_type": "code",
   "execution_count": 63,
   "id": "21d4ada9-3a0a-45b3-aabd-4d8428ea81b5",
   "metadata": {},
   "outputs": [],
   "source": [
    "evaluation_summary = pd.concat((evaluation_summary, stz_treat.obs[['AT_committment', 'pre_post_corr']].groupby('AT_committment').mean()))"
   ]
  },
  {
   "cell_type": "code",
   "execution_count": 64,
   "id": "f34e2f5b-319f-4a3a-a23e-3fc7f66579fa",
   "metadata": {},
   "outputs": [],
   "source": [
    "evaluation_summary.to_csv('results/stz_scMMGAN_stats_run_2.csv')"
   ]
  }
 ],
 "metadata": {
  "kernelspec": {
   "display_name": "Python 3 (ipykernel)",
   "language": "python",
   "name": "python3"
  },
  "language_info": {
   "codemirror_mode": {
    "name": "ipython",
    "version": 3
   },
   "file_extension": ".py",
   "mimetype": "text/x-python",
   "name": "python",
   "nbconvert_exporter": "python",
   "pygments_lexer": "ipython3",
   "version": "3.8.18"
  }
 },
 "nbformat": 4,
 "nbformat_minor": 5
}

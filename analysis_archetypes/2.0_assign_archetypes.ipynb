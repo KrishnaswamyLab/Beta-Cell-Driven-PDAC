{
 "cells": [
  {
   "cell_type": "code",
   "execution_count": 9,
   "id": "2bdfd791-ed35-40cf-9c76-59b49bccc2f4",
   "metadata": {},
   "outputs": [],
   "source": [
    "import scanpy\n",
    "import numpy as np\n",
    "import pandas as pd"
   ]
  },
  {
   "cell_type": "code",
   "execution_count": 6,
   "id": "40a73a6b-555a-462c-b5d0-dd3a93dd5f20",
   "metadata": {},
   "outputs": [],
   "source": [
    "adata_beta = scanpy.read_h5ad('../data/beta_run_2.h5ad')"
   ]
  },
  {
   "cell_type": "code",
   "execution_count": 7,
   "id": "112384e6-a38a-4071-bd30-f0265dbbbac5",
   "metadata": {},
   "outputs": [],
   "source": [
    "adata_beta_wt = adata_beta[adata_beta.obs['samples'] == 'WT']\n",
    "adata_beta_hfd = adata_beta[adata_beta.obs['samples'] == 'HFD']\n",
    "adata_beta_obob = adata_beta[adata_beta.obs['samples'] == 'OB/OB']"
   ]
  },
  {
   "cell_type": "code",
   "execution_count": 10,
   "id": "eadf239a-f685-46ee-aa0e-949fb5d3b1a4",
   "metadata": {},
   "outputs": [],
   "source": [
    "wt_latent = np.load('../analysis_archetypes/results/WT_latent_coords_7_ats.npy')\n",
    "at_dist = []\n",
    "for row in wt_latent:\n",
    "    id = np.argwhere(row > 0.5)\n",
    "    if len(id) == 1:\n",
    "        at_dist.append('WT AT ' + str(id[0][0]+1))\n",
    "        \n",
    "    else:\n",
    "        at_dist.append('Uncommitted')\n",
    "        \n",
    "wt_at_comms = pd.Series(at_dist, index = adata_beta_wt.obs_names)"
   ]
  },
  {
   "cell_type": "code",
   "execution_count": 11,
   "id": "61503873-5975-4351-ba9a-c904a215fcd2",
   "metadata": {},
   "outputs": [],
   "source": [
    "hfd_latent = np.load('../analysis_archetypes/results/HFD_latent_coords_4_ats.npy')\n",
    "at_dist = []\n",
    "for row in hfd_latent:\n",
    "    id = np.argwhere(row > 0.5)\n",
    "    if len(id) == 1:\n",
    "        at_dist.append('HFD AT ' + str(id[0][0]+1))\n",
    "        \n",
    "    else:\n",
    "        at_dist.append('Uncommitted')\n",
    "        \n",
    "hfd_at_comms = pd.Series(at_dist, index = adata_beta_hfd.obs_names)"
   ]
  },
  {
   "cell_type": "code",
   "execution_count": 12,
   "id": "45958c72-895e-47fa-b458-9aef9e077eae",
   "metadata": {},
   "outputs": [],
   "source": [
    "obob_latent = np.load('../analysis_archetypes/results/OB_OB_latent_coords_3_ats.npy')\n",
    "at_dist = []\n",
    "for row in obob_latent:\n",
    "    id = np.argwhere(row > 0.5)\n",
    "    if len(id) == 1:\n",
    "        at_dist.append('OB/OB AT ' + str(id[0][0]+1))\n",
    "        \n",
    "    else:\n",
    "        at_dist.append('Uncommitted')\n",
    "        \n",
    "obob_at_comms = pd.Series(at_dist, index = adata_beta_obob.obs_names)"
   ]
  },
  {
   "cell_type": "code",
   "execution_count": 13,
   "id": "b3125074-7d02-4df9-ac06-2b9a9dc8c0e6",
   "metadata": {},
   "outputs": [],
   "source": [
    "at_comms = pd.concat((wt_at_comms, hfd_at_comms, obob_at_comms)).loc[adata_beta.obs_names]"
   ]
  },
  {
   "cell_type": "code",
   "execution_count": 15,
   "id": "db1b37a4-d215-4164-b3a3-cffc6bd80147",
   "metadata": {},
   "outputs": [],
   "source": [
    "adata_beta.obs['AT_committment'] = at_comms"
   ]
  },
  {
   "cell_type": "code",
   "execution_count": 18,
   "id": "9ff1330a-2f4a-4781-a999-95d634da8db6",
   "metadata": {},
   "outputs": [],
   "source": [
    "adata_beta.write('../data/beta_run_2.h5ad')"
   ]
  }
 ],
 "metadata": {
  "kernelspec": {
   "display_name": "Python 3 (ipykernel)",
   "language": "python",
   "name": "python3"
  },
  "language_info": {
   "codemirror_mode": {
    "name": "ipython",
    "version": 3
   },
   "file_extension": ".py",
   "mimetype": "text/x-python",
   "name": "python",
   "nbconvert_exporter": "python",
   "pygments_lexer": "ipython3",
   "version": "3.8.18"
  }
 },
 "nbformat": 4,
 "nbformat_minor": 5
}

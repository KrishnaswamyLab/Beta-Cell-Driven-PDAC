{
 "cells": [
  {
   "cell_type": "code",
   "execution_count": 1,
   "id": "c7148322-b989-4e57-8979-d76e8d5cc177",
   "metadata": {},
   "outputs": [],
   "source": [
    "import sys\n",
    "import scib\n",
    "from sklearn.metrics.pairwise import cosine_similarity\n",
    "import scanpy\n",
    "import numpy as np\n",
    "import pandas as pd\n",
    "from tqdm import tqdm"
   ]
  },
  {
   "cell_type": "code",
   "execution_count": 2,
   "id": "05912f02-b0c3-4e41-b678-de0e8e1886b2",
   "metadata": {},
   "outputs": [],
   "source": [
    "adata_beta = scanpy.read_h5ad('../data/beta_run_2.h5ad')\n",
    "adata_ref = scanpy.read_h5ad('data/mouse_atlas_with_embryonic.h5ad')"
   ]
  },
  {
   "cell_type": "markdown",
   "id": "f92c08a6-012a-4e92-9348-e74d769f652e",
   "metadata": {},
   "source": [
    "Couldn't save scMMGAN values in anndata object due to size"
   ]
  },
  {
   "cell_type": "code",
   "execution_count": 3,
   "id": "e74a2d0e-5cf6-4c4c-948d-e71810738f7a",
   "metadata": {},
   "outputs": [],
   "source": [
    "out = np.load(f'results/output_mouse_normal_to_all_cycle_1_correspondence_15_corr_correspondence_all_training_counter_normal_t2d_filtered.npz')\n",
    "ctrl_magan = pd.DataFrame(out['arr_0'], index=adata_ref.obs_names, columns=adata_beta.var_names)"
   ]
  },
  {
   "cell_type": "code",
   "execution_count": 4,
   "id": "77e87e26-64d2-45b0-812b-6a242bfa7144",
   "metadata": {},
   "outputs": [],
   "source": [
    "adata_post_corr = scanpy.AnnData(ctrl_magan)\n",
    "adata_post_all = scanpy.concat((adata_post_corr, adata_beta), label='batch')"
   ]
  },
  {
   "cell_type": "code",
   "execution_count": 5,
   "id": "70823a92-c262-4011-bfb2-d0ada857940a",
   "metadata": {},
   "outputs": [],
   "source": [
    "adata_post_all.obsm['X_pc'] = np.vstack((adata_ref.obsm['X_scmmgan_pc'], adata_beta.obsm['X_pca']))"
   ]
  },
  {
   "cell_type": "code",
   "execution_count": 6,
   "id": "2d1eadb4-7c4d-4338-901b-262290080f4a",
   "metadata": {},
   "outputs": [
    {
     "name": "stdout",
     "output_type": "stream",
     "text": [
      "mean silhouette per group:            silhouette_score\n",
      "group                      \n",
      "beta cell          0.977466\n"
     ]
    }
   ],
   "source": [
    "evaluation_summary = pd.DataFrame(columns=['pre_post_corr'])\n",
    "adata_post_all.obs['cell_type'] = 'beta cell'\n",
    "evaluation_summary.loc['Batch ASW'] = scib.me.silhouette_batch(adata_post_all, batch_key='batch', label_key='cell_type', embed='X_pc', )"
   ]
  },
  {
   "cell_type": "code",
   "execution_count": 7,
   "id": "c120dbb4-fdb4-4349-8f86-38d6ff7b4b1b",
   "metadata": {},
   "outputs": [
    {
     "name": "stdout",
     "output_type": "stream",
     "text": [
      "16325\n"
     ]
    },
    {
     "name": "stderr",
     "output_type": "stream",
     "text": [
      "100%|██████████| 85129/85129 [00:35<00:00, 2365.38it/s]\n"
     ]
    }
   ],
   "source": [
    "intersection = list(set(adata_ref.var_names).intersection(adata_post_corr.var_names))\n",
    "print(len(intersection))\n",
    "ref_x = adata_ref[:, intersection].X.toarray()\n",
    "post_x = adata_post_corr[:, intersection].X.toarray()\n",
    "\n",
    "pre_post_corr = []\n",
    "for i in tqdm(range(adata_ref.n_obs)):\n",
    "    pre_post_corr.append(cosine_similarity(ref_x[i].reshape(1,-1), post_x[i].reshape(1,-1))[0][0])"
   ]
  },
  {
   "cell_type": "code",
   "execution_count": 8,
   "id": "19e56a70-2b98-425c-87b4-9b5aacf017a6",
   "metadata": {},
   "outputs": [],
   "source": [
    "evaluation_summary.loc['Mean cell cosine similarity pre- and post-alignment'] = np.mean(pre_post_corr)"
   ]
  },
  {
   "cell_type": "code",
   "execution_count": 9,
   "id": "3cf01361-3bd8-412c-adca-a0deae966ca9",
   "metadata": {},
   "outputs": [],
   "source": [
    "adata_ref.obs['pre_post_corr'] = pre_post_corr\n",
    "evaluation_summary = pd.concat((evaluation_summary, adata_ref.obs[['AT_committment', 'pre_post_corr']].groupby('AT_committment').mean()))\n",
    "evaluation_summary = pd.concat((evaluation_summary, adata_ref.obs[['disease', 'pre_post_corr']].groupby('disease').mean()))\n",
    "evaluation_summary = pd.concat((evaluation_summary, adata_ref.obs[['development_stage', 'pre_post_corr']].groupby('development_stage').mean()))\n",
    "evaluation_summary = pd.concat((evaluation_summary, adata_ref.obs[['dataset', 'pre_post_corr']].groupby('dataset').mean()))\n",
    "evaluation_summary.to_csv('results/scMMGAN_evaluation_summary.csv')"
   ]
  },
  {
   "cell_type": "code",
   "execution_count": 10,
   "id": "ef157ac3-1dea-4341-a61a-2c82a03e8750",
   "metadata": {},
   "outputs": [
    {
     "data": {
      "text/html": [
       "<div>\n",
       "<style scoped>\n",
       "    .dataframe tbody tr th:only-of-type {\n",
       "        vertical-align: middle;\n",
       "    }\n",
       "\n",
       "    .dataframe tbody tr th {\n",
       "        vertical-align: top;\n",
       "    }\n",
       "\n",
       "    .dataframe thead th {\n",
       "        text-align: right;\n",
       "    }\n",
       "</style>\n",
       "<table border=\"1\" class=\"dataframe\">\n",
       "  <thead>\n",
       "    <tr style=\"text-align: right;\">\n",
       "      <th></th>\n",
       "      <th>pre_post_corr</th>\n",
       "    </tr>\n",
       "  </thead>\n",
       "  <tbody>\n",
       "    <tr>\n",
       "      <th>Batch ASW</th>\n",
       "      <td>0.977466</td>\n",
       "    </tr>\n",
       "    <tr>\n",
       "      <th>Mean cell cosine similarity pre- and post-alignment</th>\n",
       "      <td>0.575798</td>\n",
       "    </tr>\n",
       "    <tr>\n",
       "      <th>HFD AT 1</th>\n",
       "      <td>0.525689</td>\n",
       "    </tr>\n",
       "    <tr>\n",
       "      <th>HFD AT 2</th>\n",
       "      <td>0.580180</td>\n",
       "    </tr>\n",
       "    <tr>\n",
       "      <th>HFD AT 3</th>\n",
       "      <td>0.600564</td>\n",
       "    </tr>\n",
       "    <tr>\n",
       "      <th>HFD AT 4</th>\n",
       "      <td>0.629151</td>\n",
       "    </tr>\n",
       "    <tr>\n",
       "      <th>OB/OB AT 1</th>\n",
       "      <td>0.545472</td>\n",
       "    </tr>\n",
       "    <tr>\n",
       "      <th>OB/OB AT 2</th>\n",
       "      <td>0.669184</td>\n",
       "    </tr>\n",
       "    <tr>\n",
       "      <th>OB/OB AT 3</th>\n",
       "      <td>0.589378</td>\n",
       "    </tr>\n",
       "    <tr>\n",
       "      <th>Uncommitted</th>\n",
       "      <td>0.584331</td>\n",
       "    </tr>\n",
       "    <tr>\n",
       "      <th>WT AT 1</th>\n",
       "      <td>0.626713</td>\n",
       "    </tr>\n",
       "    <tr>\n",
       "      <th>WT AT 2</th>\n",
       "      <td>0.647514</td>\n",
       "    </tr>\n",
       "    <tr>\n",
       "      <th>WT AT 3</th>\n",
       "      <td>0.503217</td>\n",
       "    </tr>\n",
       "    <tr>\n",
       "      <th>WT AT 4</th>\n",
       "      <td>0.578726</td>\n",
       "    </tr>\n",
       "    <tr>\n",
       "      <th>WT AT 5</th>\n",
       "      <td>0.481717</td>\n",
       "    </tr>\n",
       "    <tr>\n",
       "      <th>WT AT 6</th>\n",
       "      <td>0.535175</td>\n",
       "    </tr>\n",
       "    <tr>\n",
       "      <th>WT AT 7</th>\n",
       "      <td>0.511375</td>\n",
       "    </tr>\n",
       "    <tr>\n",
       "      <th>type 2 diabetes mellitus</th>\n",
       "      <td>0.600573</td>\n",
       "    </tr>\n",
       "    <tr>\n",
       "      <th>normal</th>\n",
       "      <td>0.560260</td>\n",
       "    </tr>\n",
       "    <tr>\n",
       "      <th>Theiler stage 20</th>\n",
       "      <td>0.330631</td>\n",
       "    </tr>\n",
       "    <tr>\n",
       "      <th>Theiler stage 22</th>\n",
       "      <td>0.383732</td>\n",
       "    </tr>\n",
       "    <tr>\n",
       "      <th>Theiler stage 23</th>\n",
       "      <td>0.378141</td>\n",
       "    </tr>\n",
       "    <tr>\n",
       "      <th>2 weeks</th>\n",
       "      <td>0.559835</td>\n",
       "    </tr>\n",
       "    <tr>\n",
       "      <th>2 month-old stage</th>\n",
       "      <td>0.534216</td>\n",
       "    </tr>\n",
       "    <tr>\n",
       "      <th>4 month-old stage</th>\n",
       "      <td>0.589733</td>\n",
       "    </tr>\n",
       "    <tr>\n",
       "      <th>6 month-old stage</th>\n",
       "      <td>0.553732</td>\n",
       "    </tr>\n",
       "    <tr>\n",
       "      <th>20 month-old stage and over</th>\n",
       "      <td>0.571775</td>\n",
       "    </tr>\n",
       "    <tr>\n",
       "      <th>4m</th>\n",
       "      <td>0.583850</td>\n",
       "    </tr>\n",
       "    <tr>\n",
       "      <th>P16</th>\n",
       "      <td>0.559835</td>\n",
       "    </tr>\n",
       "    <tr>\n",
       "      <th>aged</th>\n",
       "      <td>0.571775</td>\n",
       "    </tr>\n",
       "    <tr>\n",
       "      <th>chem</th>\n",
       "      <td>0.534216</td>\n",
       "    </tr>\n",
       "    <tr>\n",
       "      <th>db/db</th>\n",
       "      <td>0.592260</td>\n",
       "    </tr>\n",
       "    <tr>\n",
       "      <th>embryonic</th>\n",
       "      <td>0.363152</td>\n",
       "    </tr>\n",
       "    <tr>\n",
       "      <th>mSTZ</th>\n",
       "      <td>0.553732</td>\n",
       "    </tr>\n",
       "  </tbody>\n",
       "</table>\n",
       "</div>"
      ],
      "text/plain": [
       "                                                    pre_post_corr\n",
       "Batch ASW                                                0.977466\n",
       "Mean cell cosine similarity pre- and post-align...       0.575798\n",
       "HFD AT 1                                                 0.525689\n",
       "HFD AT 2                                                 0.580180\n",
       "HFD AT 3                                                 0.600564\n",
       "HFD AT 4                                                 0.629151\n",
       "OB/OB AT 1                                               0.545472\n",
       "OB/OB AT 2                                               0.669184\n",
       "OB/OB AT 3                                               0.589378\n",
       "Uncommitted                                              0.584331\n",
       "WT AT 1                                                  0.626713\n",
       "WT AT 2                                                  0.647514\n",
       "WT AT 3                                                  0.503217\n",
       "WT AT 4                                                  0.578726\n",
       "WT AT 5                                                  0.481717\n",
       "WT AT 6                                                  0.535175\n",
       "WT AT 7                                                  0.511375\n",
       "type 2 diabetes mellitus                                 0.600573\n",
       "normal                                                   0.560260\n",
       "Theiler stage 20                                         0.330631\n",
       "Theiler stage 22                                         0.383732\n",
       "Theiler stage 23                                         0.378141\n",
       "2 weeks                                                  0.559835\n",
       "2 month-old stage                                        0.534216\n",
       "4 month-old stage                                        0.589733\n",
       "6 month-old stage                                        0.553732\n",
       "20 month-old stage and over                              0.571775\n",
       "4m                                                       0.583850\n",
       "P16                                                      0.559835\n",
       "aged                                                     0.571775\n",
       "chem                                                     0.534216\n",
       "db/db                                                    0.592260\n",
       "embryonic                                                0.363152\n",
       "mSTZ                                                     0.553732"
      ]
     },
     "execution_count": 10,
     "metadata": {},
     "output_type": "execute_result"
    }
   ],
   "source": [
    "evaluation_summary"
   ]
  }
 ],
 "metadata": {
  "kernelspec": {
   "display_name": "Python 3 (ipykernel)",
   "language": "python",
   "name": "python3"
  },
  "language_info": {
   "codemirror_mode": {
    "name": "ipython",
    "version": 3
   },
   "file_extension": ".py",
   "mimetype": "text/x-python",
   "name": "python",
   "nbconvert_exporter": "python",
   "pygments_lexer": "ipython3",
   "version": "3.8.18"
  }
 },
 "nbformat": 4,
 "nbformat_minor": 5
}

{
 "cells": [
  {
   "cell_type": "code",
   "execution_count": 2,
   "id": "970b80d6-acf3-4a87-9782-348521093e8e",
   "metadata": {},
   "outputs": [],
   "source": [
    "import scanpy"
   ]
  },
  {
   "cell_type": "code",
   "execution_count": null,
   "id": "66cfcb52-021a-4dc6-8ec1-4d90a77e2205",
   "metadata": {},
   "outputs": [],
   "source": [
    "# Downloaded from https://cellxgene.cziscience.com/collections/296237e2-393d-4e31-b590-b03f74ac5070\n",
    "adata = scanpy.read_h5ad('/home/av622/palmer_scratch/local.h5ad')"
   ]
  },
  {
   "cell_type": "code",
   "execution_count": null,
   "id": "15eb85a6-6ed5-48d9-a2e8-a2022868c0ef",
   "metadata": {},
   "outputs": [],
   "source": [
    "adata[((adata.obs['cell_type'] == 'type B pancreatic cell') & \\\n",
    "       (adata.obs['disease'].isin(['normal', 'type 2 diabetes mellitus'])))].write('/home/av622/palmer_scratch/mouse_atlas_with_embryonic.h5ad')"
   ]
  },
  {
   "cell_type": "code",
   "execution_count": 4,
   "id": "04755f95-0b4b-468e-836c-f2762c2ccbdd",
   "metadata": {},
   "outputs": [],
   "source": [
    "adata = scanpy.read_h5ad('data/mouse_atlas_with_embryonic.h5ad')"
   ]
  },
  {
   "cell_type": "code",
   "execution_count": 5,
   "id": "573d5ec5-8d16-4789-92e6-e37ff2d5a211",
   "metadata": {},
   "outputs": [],
   "source": [
    "adata = adata[adata.obs['diabetes_model'] != 'T1D_NOD_prediabetic'] # remove T1D mouse models"
   ]
  },
  {
   "cell_type": "code",
   "execution_count": 7,
   "id": "2b8a2247-20c1-4e30-8738-ad0a0b6df615",
   "metadata": {},
   "outputs": [],
   "source": [
    "adata = adata[adata.obs['dataset__design__sample'] != 'embryonic__E13.5__E13_5'] # 1 beta cell from this dataset, don't want to conflate archetypal assignments"
   ]
  },
  {
   "cell_type": "code",
   "execution_count": 9,
   "id": "e5bc22d4-50c9-49b1-a153-68c116236211",
   "metadata": {},
   "outputs": [],
   "source": [
    "mouse_columns_of_interest = ['donor_id', 'dataset__design__sample', 'dataset', 'design', 'strain', 'age', 'age_approxDays',\n",
    "                             'diabetes_model', 'chemical_stress', 'GEO_accession', 'assay', 'disease',\n",
    "                             'development_stage']"
   ]
  },
  {
   "cell_type": "code",
   "execution_count": 10,
   "id": "09ca1b45-63b1-4932-b264-6c5b4cc4d665",
   "metadata": {},
   "outputs": [],
   "source": [
    "adata.obs[mouse_columns_of_interest].drop_duplicates().reset_index(drop=True).sort_values('design').to_csv('results/mouse_metadata.csv')"
   ]
  }
 ],
 "metadata": {
  "kernelspec": {
   "display_name": "Python 3 (ipykernel)",
   "language": "python",
   "name": "python3"
  },
  "language_info": {
   "codemirror_mode": {
    "name": "ipython",
    "version": 3
   },
   "file_extension": ".py",
   "mimetype": "text/x-python",
   "name": "python",
   "nbconvert_exporter": "python",
   "pygments_lexer": "ipython3",
   "version": "3.8.18"
  }
 },
 "nbformat": 4,
 "nbformat_minor": 5
}

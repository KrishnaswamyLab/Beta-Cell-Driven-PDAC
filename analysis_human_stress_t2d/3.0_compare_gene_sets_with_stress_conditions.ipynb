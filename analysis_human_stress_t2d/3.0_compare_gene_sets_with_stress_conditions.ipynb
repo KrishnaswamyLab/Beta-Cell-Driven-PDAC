{
 "cells": [
  {
   "cell_type": "code",
   "execution_count": 5,
   "id": "129e506a-2bbf-49e9-b9bb-b8b23ba2e4ed",
   "metadata": {},
   "outputs": [],
   "source": [
    "import scanpy\n",
    "from matplotlib_venn import venn2\n",
    "import pandas as pd\n",
    "import gseapy as gp\n",
    "from collections import defaultdict\n",
    "import seaborn as sns\n",
    "import matplotlib.pyplot as plt\n",
    "from scipy import stats"
   ]
  },
  {
   "cell_type": "code",
   "execution_count": 2,
   "id": "633aecbb-62d5-4eb5-85ce-e6818678f50a",
   "metadata": {},
   "outputs": [],
   "source": [
    "scanpy.set_figure_params(dpi_save=200)"
   ]
  },
  {
   "cell_type": "code",
   "execution_count": 13,
   "id": "4bc30d5b-7c97-498b-bc40-1807fb74318e",
   "metadata": {},
   "outputs": [],
   "source": [
    "patient_degs = {}"
   ]
  },
  {
   "cell_type": "code",
   "execution_count": 14,
   "id": "e20f49e9-d7d5-4e94-91c6-4448aa1bcca3",
   "metadata": {},
   "outputs": [],
   "source": [
    "patient1_degs = pd.read_excel('data/human_stressors.xlsx', sheet_name='Supplementary Data 2', header=1,skiprows=1)\n",
    "patient_degs['1'] = patient1_degs.iloc[:, 63:132]"
   ]
  },
  {
   "cell_type": "code",
   "execution_count": 15,
   "id": "9dea6b9e-fa39-4ea8-8202-da141276f3a4",
   "metadata": {},
   "outputs": [],
   "source": [
    "patient2_degs = pd.read_excel('data/human_stressors.xlsx', sheet_name='Supplementary Data 3', header=1,skiprows=1)\n",
    "patient_degs['2'] = patient2_degs.iloc[:, 63:132]"
   ]
  },
  {
   "cell_type": "code",
   "execution_count": 16,
   "id": "a78a1e2d-0eef-400e-afe8-a49b3e9dbc08",
   "metadata": {},
   "outputs": [],
   "source": [
    "patient3_degs = pd.read_excel('data/human_stressors.xlsx', sheet_name='Supplementary Data 4', header=1,skiprows=1)\n",
    "patient_degs['3'] = patient3_degs.iloc[:, 63:132]"
   ]
  },
  {
   "cell_type": "code",
   "execution_count": 17,
   "id": "d2bfdee6-a3c9-4c90-a583-316b79a88bb2",
   "metadata": {},
   "outputs": [],
   "source": [
    "patient4_degs = pd.read_excel('data/human_stressors.xlsx', sheet_name='Supplementary Data 5', header=1,skiprows=1)\n",
    "patient_degs['4'] = patient4_degs.iloc[:, 66:128]"
   ]
  },
  {
   "cell_type": "code",
   "execution_count": 18,
   "id": "1a8bbaee-e8d6-4b14-980c-3af18293d7a2",
   "metadata": {},
   "outputs": [],
   "source": [
    "patient5_degs = pd.read_excel('data/human_stressors.xlsx', sheet_name='Supplementary Data 6', header=1,skiprows=1)\n",
    "patient_degs['5'] = patient5_degs.iloc[:, 67:129]"
   ]
  },
  {
   "cell_type": "code",
   "execution_count": 19,
   "id": "f4563842-df2d-4f49-9ce1-38aa0b6d3012",
   "metadata": {},
   "outputs": [],
   "source": [
    "patient_degs_beta_condition_specific = defaultdict(list)\n",
    "for patient in ['1', '2', '3', '4', '5']:\n",
    "    for i in range(7):\n",
    "        if patient in ['4', '5']:\n",
    "            df = patient_degs[patient].iloc[:, (i*9):(i*9)+8].dropna(axis=0, how='all')\n",
    "            df.columns = [x.split('.')[0] for x in df.columns]\n",
    "            df.columns = ['gene'] + df.columns.tolist()[1:]\n",
    "        else:\n",
    "            df = patient_degs[patient].iloc[:, (i*10)+1:(i*10)+9].dropna(axis=0, how='all')\n",
    "            df.columns = [x.split('.')[0] for x in df.columns]\n",
    "        \n",
    "        df.set_index('gene', inplace=True)    \n",
    "        condition = df['stressor'].iloc[0]\n",
    "        patient_degs_beta_condition_specific[condition].append(df)"
   ]
  },
  {
   "cell_type": "code",
   "execution_count": 20,
   "id": "4b99b54e-6c49-4511-a7fb-aace842586de",
   "metadata": {},
   "outputs": [],
   "source": [
    "stressors = patient_degs_beta_condition_specific.keys()"
   ]
  },
  {
   "cell_type": "code",
   "execution_count": 14,
   "id": "30496681-db5e-4e57-bdbf-f7a1b704e27e",
   "metadata": {
    "scrolled": true
   },
   "outputs": [
    {
     "name": "stderr",
     "output_type": "stream",
     "text": [
      "/tmp/ipykernel_3604825/1318725488.py:15: SettingWithCopyWarning: \n",
      "A value is trying to be set on a copy of a slice from a DataFrame.\n",
      "Try using .loc[row_indexer,col_indexer] = value instead\n",
      "\n",
      "See the caveats in the documentation: https://pandas.pydata.org/pandas-docs/stable/user_guide/indexing.html#returning-a-view-versus-a-copy\n",
      "  res['Overlap'] = res['Overlap'].str.replace('/', ' of ')\n",
      "/tmp/ipykernel_3604825/1318725488.py:15: SettingWithCopyWarning: \n",
      "A value is trying to be set on a copy of a slice from a DataFrame.\n",
      "Try using .loc[row_indexer,col_indexer] = value instead\n",
      "\n",
      "See the caveats in the documentation: https://pandas.pydata.org/pandas-docs/stable/user_guide/indexing.html#returning-a-view-versus-a-copy\n",
      "  res['Overlap'] = res['Overlap'].str.replace('/', ' of ')\n",
      "/tmp/ipykernel_3604825/1318725488.py:15: SettingWithCopyWarning: \n",
      "A value is trying to be set on a copy of a slice from a DataFrame.\n",
      "Try using .loc[row_indexer,col_indexer] = value instead\n",
      "\n",
      "See the caveats in the documentation: https://pandas.pydata.org/pandas-docs/stable/user_guide/indexing.html#returning-a-view-versus-a-copy\n",
      "  res['Overlap'] = res['Overlap'].str.replace('/', ' of ')\n",
      "/tmp/ipykernel_3604825/1318725488.py:15: SettingWithCopyWarning: \n",
      "A value is trying to be set on a copy of a slice from a DataFrame.\n",
      "Try using .loc[row_indexer,col_indexer] = value instead\n",
      "\n",
      "See the caveats in the documentation: https://pandas.pydata.org/pandas-docs/stable/user_guide/indexing.html#returning-a-view-versus-a-copy\n",
      "  res['Overlap'] = res['Overlap'].str.replace('/', ' of ')\n",
      "/tmp/ipykernel_3604825/1318725488.py:15: SettingWithCopyWarning: \n",
      "A value is trying to be set on a copy of a slice from a DataFrame.\n",
      "Try using .loc[row_indexer,col_indexer] = value instead\n",
      "\n",
      "See the caveats in the documentation: https://pandas.pydata.org/pandas-docs/stable/user_guide/indexing.html#returning-a-view-versus-a-copy\n",
      "  res['Overlap'] = res['Overlap'].str.replace('/', ' of ')\n",
      "/tmp/ipykernel_3604825/1318725488.py:15: SettingWithCopyWarning: \n",
      "A value is trying to be set on a copy of a slice from a DataFrame.\n",
      "Try using .loc[row_indexer,col_indexer] = value instead\n",
      "\n",
      "See the caveats in the documentation: https://pandas.pydata.org/pandas-docs/stable/user_guide/indexing.html#returning-a-view-versus-a-copy\n",
      "  res['Overlap'] = res['Overlap'].str.replace('/', ' of ')\n",
      "/tmp/ipykernel_3604825/1318725488.py:15: SettingWithCopyWarning: \n",
      "A value is trying to be set on a copy of a slice from a DataFrame.\n",
      "Try using .loc[row_indexer,col_indexer] = value instead\n",
      "\n",
      "See the caveats in the documentation: https://pandas.pydata.org/pandas-docs/stable/user_guide/indexing.html#returning-a-view-versus-a-copy\n",
      "  res['Overlap'] = res['Overlap'].str.replace('/', ' of ')\n"
     ]
    }
   ],
   "source": [
    "for stressor in list(stressors):\n",
    "    all_upreg = []\n",
    "    for pt in patient_degs_beta_condition_specific[stressor]:\n",
    "        upreg = pt.query('avg_log2FC >= 0.25').index.tolist()\n",
    "        all_upreg.extend(upreg)\n",
    "    all_upreg = pd.Series(all_upreg).value_counts()[pd.Series(all_upreg).value_counts() >= 3].index.tolist() # majority\n",
    "    enr = gp.enrichr(gene_list=all_upreg, # or \"./tests/data/gene_list.txt\",\n",
    "                         gene_sets=['BioPlanet_2019', 'Panther_2016', 'KEGG_2019_Human', 'Reactome_2022', 'GO_Biological_Process_2023'],\n",
    "                         organism='human', # don't forget to set organism to the one you desired! e.g. Yeast\n",
    "                         outdir=None, # don't write to disk,\n",
    "                         cutoff = 1\n",
    "                        )\n",
    "    res = enr.results[enr.results['Adjusted P-value'] < 0.05]\n",
    "    res['Overlap'] = res['Overlap'].str.replace('/', ' of ')\n",
    "    res.to_csv(f'results/GSEA_{stressor}_vs_CTRL.csv')"
   ]
  },
  {
   "cell_type": "markdown",
   "id": "94a07cf8-9d85-4900-9a4d-80a0977899b2",
   "metadata": {},
   "source": [
    "## Get gene sets from increasing trends"
   ]
  },
  {
   "cell_type": "code",
   "execution_count": 3,
   "id": "1ab0d989-1cee-4a2a-8dd9-5ea0dbbb61da",
   "metadata": {},
   "outputs": [],
   "source": [
    "gene_cluster_increasing = pd.read_csv('../analysis_beta_trajectories/results/gene_cluster_increasing.csv', index_col=0)"
   ]
  },
  {
   "cell_type": "code",
   "execution_count": 7,
   "id": "0ef505a4-8e03-41bd-89af-ce65b0c0e8b2",
   "metadata": {},
   "outputs": [],
   "source": [
    "gene_cluster_increasing['Gene_set_Term'] = gene_cluster_increasing['Gene_set'] + '_' + gene_cluster_increasing['Term']"
   ]
  },
  {
   "cell_type": "code",
   "execution_count": 8,
   "id": "3275aec2-02f3-45ab-ada7-ae070c288b96",
   "metadata": {},
   "outputs": [],
   "source": [
    "all_conditons_enriched_sets = pd.concat((pd.DataFrame(['increasing_in_obesity']*len(gene_cluster_increasing['Gene_set_Term']), columns=['stressor']),\n",
    "           gene_cluster_increasing['Gene_set_Term'].reset_index(drop=True), gene_cluster_increasing['Genes'].reset_index(drop=True)), axis=1)"
   ]
  },
  {
   "cell_type": "code",
   "execution_count": 21,
   "id": "28bf6fd5-392f-4e28-b704-5d23536b92c4",
   "metadata": {},
   "outputs": [],
   "source": [
    "for stressor in list(stressors):\n",
    "    df = pd.read_csv(f'results/GSEA_{stressor}_vs_CTRL.csv')\n",
    "    df['Gene_set_Term'] = df['Gene_set'] + '_' + df['Term']\n",
    "    df = pd.concat((pd.DataFrame([stressor]*len(df['Gene_set_Term']), columns=['stressor']), df['Gene_set_Term'], df['Genes']), axis=1)\n",
    "    all_conditons_enriched_sets = pd.concat((all_conditons_enriched_sets, df))"
   ]
  },
  {
   "cell_type": "code",
   "execution_count": 22,
   "id": "52ca1e26-cd24-4bc8-b606-32f1adb32706",
   "metadata": {},
   "outputs": [
    {
     "data": {
      "text/html": [
       "<div>\n",
       "<style scoped>\n",
       "    .dataframe tbody tr th:only-of-type {\n",
       "        vertical-align: middle;\n",
       "    }\n",
       "\n",
       "    .dataframe tbody tr th {\n",
       "        vertical-align: top;\n",
       "    }\n",
       "\n",
       "    .dataframe thead th {\n",
       "        text-align: right;\n",
       "    }\n",
       "</style>\n",
       "<table border=\"1\" class=\"dataframe\">\n",
       "  <thead>\n",
       "    <tr style=\"text-align: right;\">\n",
       "      <th></th>\n",
       "      <th>stressor</th>\n",
       "      <th>Gene_set_Term</th>\n",
       "      <th>Genes</th>\n",
       "    </tr>\n",
       "  </thead>\n",
       "  <tbody>\n",
       "    <tr>\n",
       "      <th>0</th>\n",
       "      <td>increasing_in_obesity</td>\n",
       "      <td>BioPlanet_2019_Translation</td>\n",
       "      <td>RPL4;RPL5;RPL30;TRAM1;RPL3;RPL31;RPL34;RPL10A;...</td>\n",
       "    </tr>\n",
       "    <tr>\n",
       "      <th>1</th>\n",
       "      <td>increasing_in_obesity</td>\n",
       "      <td>BioPlanet_2019_Cytoplasmic ribosomal proteins</td>\n",
       "      <td>RPL4;RPL5;RPL30;RPL3;RPL31;RPL34;RPL10A;RPL8;R...</td>\n",
       "    </tr>\n",
       "    <tr>\n",
       "      <th>2</th>\n",
       "      <td>increasing_in_obesity</td>\n",
       "      <td>BioPlanet_2019_Influenza viral RNA transcripti...</td>\n",
       "      <td>RPL4;RPL5;RPL30;RPL3;RPL31;RPL34;RPL10A;RPL8;R...</td>\n",
       "    </tr>\n",
       "    <tr>\n",
       "      <th>3</th>\n",
       "      <td>increasing_in_obesity</td>\n",
       "      <td>BioPlanet_2019_Influenza infection</td>\n",
       "      <td>RPL4;RPL5;RPL30;RPL3;RPL31;RPL34;CLTA;RPL10A;R...</td>\n",
       "    </tr>\n",
       "    <tr>\n",
       "      <th>4</th>\n",
       "      <td>increasing_in_obesity</td>\n",
       "      <td>BioPlanet_2019_Protein metabolism</td>\n",
       "      <td>RPL4;RPL5;RPL30;RPL3;RPL31;RPL34;PROS1;RPL8;RP...</td>\n",
       "    </tr>\n",
       "    <tr>\n",
       "      <th>...</th>\n",
       "      <td>...</td>\n",
       "      <td>...</td>\n",
       "      <td>...</td>\n",
       "    </tr>\n",
       "    <tr>\n",
       "      <th>645</th>\n",
       "      <td>TNFA</td>\n",
       "      <td>GO_Biological_Process_2023_Positive Regulation...</td>\n",
       "      <td>CLIP3;EGR1;CD74;CD40;CDKN1A;HSP90AA1;NNMT;CAMT...</td>\n",
       "    </tr>\n",
       "    <tr>\n",
       "      <th>646</th>\n",
       "      <td>TNFA</td>\n",
       "      <td>GO_Biological_Process_2023_Negative Regulation...</td>\n",
       "      <td>IFIH1;PLSCR1;OAS1;TNIP1;N4BP1</td>\n",
       "    </tr>\n",
       "    <tr>\n",
       "      <th>647</th>\n",
       "      <td>TNFA</td>\n",
       "      <td>GO_Biological_Process_2023_Positive Regulation...</td>\n",
       "      <td>PPP1R15A;ITGA1;CAMTA1;CALM2</td>\n",
       "    </tr>\n",
       "    <tr>\n",
       "      <th>648</th>\n",
       "      <td>TNFA</td>\n",
       "      <td>GO_Biological_Process_2023_Negative Regulation...</td>\n",
       "      <td>DNAJA1;TNFAIP3;SQSTM1;SOX4;N4BP1</td>\n",
       "    </tr>\n",
       "    <tr>\n",
       "      <th>649</th>\n",
       "      <td>TNFA</td>\n",
       "      <td>GO_Biological_Process_2023_Protein K63-linked ...</td>\n",
       "      <td>RNF213;UBE2B;TRAF3;TRAF2;TRIM56</td>\n",
       "    </tr>\n",
       "  </tbody>\n",
       "</table>\n",
       "<p>4839 rows × 3 columns</p>\n",
       "</div>"
      ],
      "text/plain": [
       "                  stressor                                      Gene_set_Term  \\\n",
       "0    increasing_in_obesity                         BioPlanet_2019_Translation   \n",
       "1    increasing_in_obesity      BioPlanet_2019_Cytoplasmic ribosomal proteins   \n",
       "2    increasing_in_obesity  BioPlanet_2019_Influenza viral RNA transcripti...   \n",
       "3    increasing_in_obesity                 BioPlanet_2019_Influenza infection   \n",
       "4    increasing_in_obesity                  BioPlanet_2019_Protein metabolism   \n",
       "..                     ...                                                ...   \n",
       "645                   TNFA  GO_Biological_Process_2023_Positive Regulation...   \n",
       "646                   TNFA  GO_Biological_Process_2023_Negative Regulation...   \n",
       "647                   TNFA  GO_Biological_Process_2023_Positive Regulation...   \n",
       "648                   TNFA  GO_Biological_Process_2023_Negative Regulation...   \n",
       "649                   TNFA  GO_Biological_Process_2023_Protein K63-linked ...   \n",
       "\n",
       "                                                 Genes  \n",
       "0    RPL4;RPL5;RPL30;TRAM1;RPL3;RPL31;RPL34;RPL10A;...  \n",
       "1    RPL4;RPL5;RPL30;RPL3;RPL31;RPL34;RPL10A;RPL8;R...  \n",
       "2    RPL4;RPL5;RPL30;RPL3;RPL31;RPL34;RPL10A;RPL8;R...  \n",
       "3    RPL4;RPL5;RPL30;RPL3;RPL31;RPL34;CLTA;RPL10A;R...  \n",
       "4    RPL4;RPL5;RPL30;RPL3;RPL31;RPL34;PROS1;RPL8;RP...  \n",
       "..                                                 ...  \n",
       "645  CLIP3;EGR1;CD74;CD40;CDKN1A;HSP90AA1;NNMT;CAMT...  \n",
       "646                      IFIH1;PLSCR1;OAS1;TNIP1;N4BP1  \n",
       "647                        PPP1R15A;ITGA1;CAMTA1;CALM2  \n",
       "648                   DNAJA1;TNFAIP3;SQSTM1;SOX4;N4BP1  \n",
       "649                    RNF213;UBE2B;TRAF3;TRAF2;TRIM56  \n",
       "\n",
       "[4839 rows x 3 columns]"
      ]
     },
     "execution_count": 22,
     "metadata": {},
     "output_type": "execute_result"
    }
   ],
   "source": [
    "all_conditons_enriched_sets"
   ]
  },
  {
   "cell_type": "code",
   "execution_count": 23,
   "id": "d0a02b4e-f448-4311-a8e4-3f668666b8c5",
   "metadata": {},
   "outputs": [],
   "source": [
    "all_conditons_enriched_sets.to_csv('results/all_upregulated_gene_sets_in_stress.csv')"
   ]
  },
  {
   "cell_type": "code",
   "execution_count": 24,
   "id": "8d7c8cbd-feb6-4ad6-ac1f-fda675341f13",
   "metadata": {},
   "outputs": [],
   "source": [
    "increasing_in_obesity = set(all_conditons_enriched_sets[all_conditons_enriched_sets['stressor'] == 'increasing_in_obesity']['Gene_set_Term'])"
   ]
  },
  {
   "cell_type": "code",
   "execution_count": 25,
   "id": "0222261e-a728-4add-bab7-21ba98ffb00e",
   "metadata": {},
   "outputs": [],
   "source": [
    "ob_color = sns.color_palette('tab10')[1]\n",
    "er_color = sns.color_palette('BuPu')[2]\n",
    "cm_color = sns.color_palette('BuPu')[-1]"
   ]
  },
  {
   "cell_type": "code",
   "execution_count": 26,
   "id": "2e51c6fb-c229-4dbc-b5c5-b92375f0806c",
   "metadata": {},
   "outputs": [
    {
     "data": {
      "image/png": "[encoded data removed]",
      "text/plain": [
       "<Figure size 400x320 with 1 Axes>"
      ]
     },
     "metadata": {
      "image/png": {
       "height": 299,
       "width": 362
      }
     },
     "output_type": "display_data"
    },
    {
     "data": {
      "text/plain": [
       "<Figure size 320x320 with 0 Axes>"
      ]
     },
     "metadata": {},
     "output_type": "display_data"
    }
   ],
   "source": [
    "bfa_terms = all_conditons_enriched_sets[all_conditons_enriched_sets['stressor'] == 'BFA']['Gene_set_Term']\n",
    "tg_terms = all_conditons_enriched_sets[all_conditons_enriched_sets['stressor'] == 'TG']['Gene_set_Term']\n",
    "er_intersection = set(bfa_terms).intersection(tg_terms)\n",
    "\n",
    "fig, ax = plt.subplots(figsize=(5,4))\n",
    "venn2([increasing_in_obesity, er_intersection],\n",
    "      set_labels=['OB/OB', 'BFA/TG'], \n",
    "      set_colors=[ob_color, er_color], ax=ax)\n",
    "plt.tight_layout()\n",
    "fig.savefig('figures/obesity_er_stress_gene_set_venn.png', dpi=200)\n",
    "plt.show(); plt.clf()"
   ]
  },
  {
   "cell_type": "code",
   "execution_count": 27,
   "id": "1c969938-112d-4a8a-a3d6-3be4382d72b3",
   "metadata": {},
   "outputs": [
    {
     "data": {
      "image/png": "[encoded data removed]",
      "text/plain": [
       "<Figure size 400x320 with 1 Axes>"
      ]
     },
     "metadata": {
      "image/png": {
       "height": 232,
       "width": 380
      }
     },
     "output_type": "display_data"
    },
    {
     "data": {
      "text/plain": [
       "<Figure size 320x320 with 0 Axes>"
      ]
     },
     "metadata": {},
     "output_type": "display_data"
    }
   ],
   "source": [
    "bfa_terms = set(all_conditons_enriched_sets[all_conditons_enriched_sets['stressor'] == 'CM']['Gene_set_Term'])\n",
    "ifng_terms = set(all_conditons_enriched_sets[all_conditons_enriched_sets['stressor'] == 'IFNG']['Gene_set_Term'])\n",
    "il1b_terms = set(all_conditons_enriched_sets[all_conditons_enriched_sets['stressor'] == 'IL1B']['Gene_set_Term'])\n",
    "il1bifng_terms = set(all_conditons_enriched_sets[all_conditons_enriched_sets['stressor'] == 'IL1BIFNG']['Gene_set_Term'])\n",
    "tnfa_terms = set(all_conditons_enriched_sets[all_conditons_enriched_sets['stressor'] == 'TNFA']['Gene_set_Term'])\n",
    "cytokine_intersection = set.intersection(bfa_terms, ifng_terms, il1b_terms, il1bifng_terms, tnfa_terms)\n",
    "\n",
    "fig, ax = plt.subplots(figsize=(5,4))\n",
    "venn2([increasing_in_obesity, cytokine_intersection],\n",
    "      set_labels=['OB/OB', 'CM/IFNG/IL1B/\\nIL1BIFNG/TNFA'],\n",
    "      set_colors=[ob_color, cm_color], ax=ax)\n",
    "\n",
    "plt.tight_layout()\n",
    "fig.savefig('figures/obesity_cytokine_stress_gene_set_venn.png', dpi=200)\n",
    "plt.show(); plt.clf()"
   ]
  },
  {
   "cell_type": "code",
   "execution_count": 7,
   "id": "4c51ff5b-c2bf-44cf-94bb-a940dfae8394",
   "metadata": {},
   "outputs": [],
   "source": [
    "total_gene_set_count = 0\n",
    "for gene_set in ['BioPlanet_2019', 'Panther_2016', 'KEGG_2019_Human', 'Reactome_2022', 'GO_Biological_Process_2023']:\n",
    "    total_gene_set_count += len(gp.get_library(gene_set))"
   ]
  },
  {
   "cell_type": "code",
   "execution_count": 17,
   "id": "695ce39f-f73c-453f-a2a4-5dff66f3645d",
   "metadata": {},
   "outputs": [
    {
     "data": {
      "text/plain": [
       "1.2120744575481524e-48"
      ]
     },
     "execution_count": 17,
     "metadata": {},
     "output_type": "execute_result"
    }
   ],
   "source": [
    "M = total_gene_set_count # total number of gene sets tested\n",
    "n = 121 + 38\n",
    "N = 38 + 36\n",
    "x = 38\n",
    "\n",
    "stats.hypergeom(M, n, N).sf(x-1)"
   ]
  },
  {
   "cell_type": "code",
   "execution_count": 18,
   "id": "c144d35d-99a1-45fc-9e42-2c51739ad6c9",
   "metadata": {},
   "outputs": [
    {
     "data": {
      "text/plain": [
       "7.880879659812024e-05"
      ]
     },
     "execution_count": 18,
     "metadata": {},
     "output_type": "execute_result"
    }
   ],
   "source": [
    "M = total_gene_set_count # total number of gene sets tested\n",
    "n = 149 + 10\n",
    "N = 10 + 119\n",
    "x = 10\n",
    "\n",
    "stats.hypergeom(M, n, N).sf(x-1)"
   ]
  }
 ],
 "metadata": {
  "kernelspec": {
   "display_name": "Python 3 (ipykernel)",
   "language": "python",
   "name": "python3"
  },
  "language_info": {
   "codemirror_mode": {
    "name": "ipython",
    "version": 3
   },
   "file_extension": ".py",
   "mimetype": "text/x-python",
   "name": "python",
   "nbconvert_exporter": "python",
   "pygments_lexer": "ipython3",
   "version": "3.8.18"
  }
 },
 "nbformat": 4,
 "nbformat_minor": 5
}

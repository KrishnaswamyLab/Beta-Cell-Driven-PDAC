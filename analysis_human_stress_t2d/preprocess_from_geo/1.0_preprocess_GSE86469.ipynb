{
 "cells": [
  {
   "cell_type": "code",
   "execution_count": 3,
   "id": "55fe2bac-034b-4679-88f5-2109e872a890",
   "metadata": {},
   "outputs": [],
   "source": [
    "import scanpy as sc, scprep\n",
    "from scipy.sparse import csr_matrix\n",
    "import pandas as pd\n",
    "import numpy as np"
   ]
  },
  {
   "cell_type": "code",
   "execution_count": 5,
   "id": "1cb7f7a7-b112-4d14-8537-3af2683d4f69",
   "metadata": {},
   "outputs": [],
   "source": [
    "path_ds = 'raw/'\n",
    "path_out = 'processed/'"
   ]
  },
  {
   "cell_type": "code",
   "execution_count": 2,
   "id": "9f1f759d-3a18-4547-aadb-41294739e3d0",
   "metadata": {},
   "outputs": [
    {
     "name": "stdout",
     "output_type": "stream",
     "text": [
      "--2024-03-05 21:27:35--  ftp://ftp.ncbi.nlm.nih.gov/geo/series/GSE86nnn/GSE86469/matrix/GSE86469_series_matrix.txt.gz\n",
      "           => ‘GSE86469_series_matrix.txt.gz’\n",
      "Resolving ftp.ncbi.nlm.nih.gov (ftp.ncbi.nlm.nih.gov)... 130.14.250.12, 130.14.250.11, 2607:f220:41e:250::12, ...\n",
      "Connecting to ftp.ncbi.nlm.nih.gov (ftp.ncbi.nlm.nih.gov)|130.14.250.12|:21... connected.\n",
      "Logging in as anonymous ... Logged in!\n",
      "==> SYST ... done.    ==> PWD ... done.\n",
      "==> TYPE I ... done.  ==> CWD (1) /geo/series/GSE86nnn/GSE86469/matrix ... done.\n",
      "==> SIZE GSE86469_series_matrix.txt.gz ... 38497\n",
      "==> PASV ... done.    ==> RETR GSE86469_series_matrix.txt.gz ... done.\n",
      "Length: 38497 (38K) (unauthoritative)\n",
      "\n",
      "GSE86469_series_mat 100%[===================>]  37.59K  --.-KB/s    in 0.07s   \n",
      "\n",
      "2024-03-05 21:27:35 (503 KB/s) - ‘GSE86469_series_matrix.txt.gz’ saved [38497]\n",
      "\n",
      "--2024-03-05 21:27:35--  ftp://ftp.ncbi.nlm.nih.gov/geo/series/GSE86nnn/GSE86469/suppl/GSE86469_GEO.islet.single.cell.processed.data.RSEM.raw.expected.counts.csv.gz\n",
      "           => ‘GSE86469_GEO.islet.single.cell.processed.data.RSEM.raw.expected.counts.csv.gz’\n",
      "Resolving ftp.ncbi.nlm.nih.gov (ftp.ncbi.nlm.nih.gov)... 130.14.250.12, 130.14.250.11, 2607:f220:41e:250::13, ...\n",
      "Connecting to ftp.ncbi.nlm.nih.gov (ftp.ncbi.nlm.nih.gov)|130.14.250.12|:21... connected.\n",
      "Logging in as anonymous ... Logged in!\n",
      "==> SYST ... done.    ==> PWD ... done.\n",
      "==> TYPE I ... done.  ==> CWD (1) /geo/series/GSE86nnn/GSE86469/suppl ... done.\n",
      "==> SIZE GSE86469_GEO.islet.single.cell.processed.data.RSEM.raw.expected.counts.csv.gz ... 12679560\n",
      "==> PASV ... done.    ==> RETR GSE86469_GEO.islet.single.cell.processed.data.RSEM.raw.expected.counts.csv.gz ... done.\n",
      "Length: 12679560 (12M) (unauthoritative)\n",
      "\n",
      "GSE86469_GEO.islet. 100%[===================>]  12.09M  22.1MB/s    in 0.5s    \n",
      "\n",
      "2024-03-05 21:27:36 (22.1 MB/s) - ‘GSE86469_GEO.islet.single.cell.processed.data.RSEM.raw.expected.counts.csv.gz’ saved [12679560]\n",
      "\n"
     ]
    }
   ],
   "source": [
    "!wget ftp://ftp.ncbi.nlm.nih.gov/geo/series/GSE86nnn/GSE86469/matrix/GSE86469_series_matrix.txt.gz\n",
    "!wget ftp://ftp.ncbi.nlm.nih.gov/geo/series/GSE86nnn/GSE86469/suppl/GSE86469_GEO.islet.single.cell.processed.data.RSEM.raw.expected.counts.csv.gz\n",
    "\n",
    "!mv GSE86469_series_matrix.txt.gz raw\n",
    "!mv GSE86469_GEO.islet.single.cell.processed.data.RSEM.raw.expected.counts.csv.gz raw"
   ]
  },
  {
   "cell_type": "code",
   "execution_count": 43,
   "id": "84434787-1ba9-4f93-aeb3-9ff6115f438e",
   "metadata": {},
   "outputs": [],
   "source": [
    "obs=pd.read_table(path_ds+'GSE86469_series_matrix.txt.gz',\n",
    "                  skiprows=38,index_col=0)"
   ]
  },
  {
   "cell_type": "code",
   "execution_count": 44,
   "id": "678d43fd-bad2-45a4-956f-73549123e044",
   "metadata": {},
   "outputs": [],
   "source": [
    "# Parse obs\n",
    "# Transpose and select cols\n",
    "obs=obs.T[['!Sample_geo_accession','!Sample_organism_ch1',\n",
    "           '!Sample_characteristics_ch1']]"
   ]
  },
  {
   "cell_type": "code",
   "execution_count": 45,
   "id": "7cf2ec67-b9c3-49db-a1e4-964f26037798",
   "metadata": {},
   "outputs": [],
   "source": [
    "# Rename and subset cols\n",
    "obs.columns=['geo_accession','DROP','cell_type_original','DROP',\n",
    "             'sex','disease','age','ethnicity','BMI','donor']\n",
    "obs.drop('DROP',axis=1,inplace=True)"
   ]
  },
  {
   "cell_type": "code",
   "execution_count": 46,
   "id": "55f0b0b6-53f9-4ec9-93b1-0a5cf11c07ed",
   "metadata": {},
   "outputs": [],
   "source": [
    "obs['cell_type_original']=obs['cell_type_original'].str.replace('cell type: ','')\n",
    "obs['sex']=obs['sex'].str.replace('Sex: ','').str.lower()\n",
    "obs['disease']=obs['disease'].str.replace('disease: ','').map(\n",
    "    {'Type 2 Diabetic':'T2D','Non-Diabetic':'control'})\n",
    "obs['age']=obs['age'].str.replace('age: ','').apply( lambda x:str(x)+' y')\n",
    "obs['ethnicity']=obs['ethnicity'].str.replace('race: ','').str.lower().str.replace(' ','_')\n",
    "obs['BMI']=obs['BMI'].str.replace('bmi: ','')\n",
    "obs['donor']=obs['donor'].str.replace('islet unos id: ','')"
   ]
  },
  {
   "cell_type": "code",
   "execution_count": 47,
   "id": "882877c1-7730-4fa4-bb81-d494a6102118",
   "metadata": {},
   "outputs": [
    {
     "data": {
      "text/plain": [
       "beta        264\n",
       "alpha       239\n",
       "ductal       28\n",
       "delta        25\n",
       "acinar       24\n",
       "dropped      21\n",
       "stellate     19\n",
       "gamma        18\n",
       "Name: cell_type, dtype: int64"
      ]
     },
     "execution_count": 47,
     "metadata": {},
     "output_type": "execute_result"
    }
   ],
   "source": [
    "obs['cell_type']=obs['cell_type_original'].str.lower().replace({\n",
    "    'none/other':'dropped','gamma/pp':'gamma'})\n",
    "obs['cell_type'].value_counts(dropna=False)"
   ]
  },
  {
   "cell_type": "code",
   "execution_count": 48,
   "id": "481d0768-2bd9-4618-ac58-ab7ffcea7ff9",
   "metadata": {},
   "outputs": [
    {
     "name": "stderr",
     "output_type": "stream",
     "text": [
      "/gpfs/gibbs/project/krishnaswamy_smita/av622/conda_envs/gspa/lib/python3.8/site-packages/openpyxl/worksheet/_reader.py:329: UserWarning: Unknown extension is not supported and will be removed\n",
      "  warn(msg)\n"
     ]
    }
   ],
   "source": [
    "# Add donor info\n",
    "donor_df=pd.read_excel(path_ds+'GSE86469_Supplemental_Table_S1.xlsx',skiprows=2,index_col=1)"
   ]
  },
  {
   "cell_type": "code",
   "execution_count": 49,
   "id": "581199e8-c031-4155-bf8a-554e2b6c1c90",
   "metadata": {},
   "outputs": [],
   "source": [
    "# Parse donor_df\n",
    "# Subset to cols not in obs\n",
    "donor_df=donor_df[['Race','On Diabetes Medication?','HbA1c']]\n",
    "donor_df.columns=['ethnicity','medication','HbA1c']\n",
    "donor_df['ethnicity']=donor_df['ethnicity'].map(\n",
    "    {'W':'white','AA':'african_american','H':'hispanic'})\n",
    "donor_df['medication']=donor_df['medication'].str.lower()"
   ]
  },
  {
   "cell_type": "code",
   "execution_count": 50,
   "id": "b5cbbfc0-94d9-4b80-ad9e-104eb0b36190",
   "metadata": {},
   "outputs": [],
   "source": [
    "# Add donor info to obs\n",
    "for col in donor_df.columns:\n",
    "    obs[col]=obs['donor'].map(donor_df[col].to_dict())"
   ]
  },
  {
   "cell_type": "code",
   "execution_count": 51,
   "id": "62ae2ea2-f690-4901-992e-ac1cd7cb51c4",
   "metadata": {},
   "outputs": [],
   "source": [
    "x=pd.read_table(path_ds+'GSE86469_GEO.islet.single.cell.processed.data.RSEM.raw.expected.counts.csv.gz',\n",
    "               sep=',',index_col=0).T"
   ]
  },
  {
   "cell_type": "code",
   "execution_count": 52,
   "id": "f313c2c2-675b-4000-96be-c7df1a2b2d49",
   "metadata": {},
   "outputs": [
    {
     "name": "stderr",
     "output_type": "stream",
     "text": [
      "/tmp/ipykernel_3612948/1478089422.py:1: FutureWarning: X.dtype being converted to np.float32 from float64. In the next version of anndata (0.9) conversion will not be automatic. Pass dtype explicitly to avoid this warning. Pass `AnnData(X, dtype=X.dtype, ...)` to get the future behavour.\n",
      "  adata=sc.AnnData(X=csr_matrix(x),obs=obs,\n"
     ]
    }
   ],
   "source": [
    "adata=sc.AnnData(X=csr_matrix(x),obs=obs,\n",
    "                 var=pd.DataFrame(index=x.columns))"
   ]
  },
  {
   "cell_type": "code",
   "execution_count": 53,
   "id": "b5366482-0ea2-4973-90ab-320f9e422f71",
   "metadata": {},
   "outputs": [],
   "source": [
    "genes = pd.read_csv(path_ds+'ensembl_convert.txt', sep='\\t', header=None, index_col=0)"
   ]
  },
  {
   "cell_type": "code",
   "execution_count": 54,
   "id": "42b271a4-2c57-4ac2-ac24-68c501c32694",
   "metadata": {},
   "outputs": [
    {
     "data": {
      "text/html": [
       "<div>\n",
       "<style scoped>\n",
       "    .dataframe tbody tr th:only-of-type {\n",
       "        vertical-align: middle;\n",
       "    }\n",
       "\n",
       "    .dataframe tbody tr th {\n",
       "        vertical-align: top;\n",
       "    }\n",
       "\n",
       "    .dataframe thead th {\n",
       "        text-align: right;\n",
       "    }\n",
       "</style>\n",
       "<table border=\"1\" class=\"dataframe\">\n",
       "  <thead>\n",
       "    <tr style=\"text-align: right;\">\n",
       "      <th></th>\n",
       "      <th>1</th>\n",
       "    </tr>\n",
       "    <tr>\n",
       "      <th>0</th>\n",
       "      <th></th>\n",
       "    </tr>\n",
       "  </thead>\n",
       "  <tbody>\n",
       "    <tr>\n",
       "      <th>ENSG00000229483</th>\n",
       "      <td>LINC00362</td>\n",
       "    </tr>\n",
       "    <tr>\n",
       "      <th>ENSG00000232849</th>\n",
       "      <td>LINC00363</td>\n",
       "    </tr>\n",
       "    <tr>\n",
       "      <th>ENSG00000229558</th>\n",
       "      <td>SACS-AS1</td>\n",
       "    </tr>\n",
       "    <tr>\n",
       "      <th>ENSG00000232977</th>\n",
       "      <td>LINC00327</td>\n",
       "    </tr>\n",
       "    <tr>\n",
       "      <th>ENSG00000227893</th>\n",
       "      <td>LINC00352</td>\n",
       "    </tr>\n",
       "    <tr>\n",
       "      <th>...</th>\n",
       "      <td>...</td>\n",
       "    </tr>\n",
       "    <tr>\n",
       "      <th>ENSG00000232746</th>\n",
       "      <td>LINC02022</td>\n",
       "    </tr>\n",
       "    <tr>\n",
       "      <th>ENSG00000150867</th>\n",
       "      <td>PIP4K2A</td>\n",
       "    </tr>\n",
       "    <tr>\n",
       "      <th>ENSG00000255021</th>\n",
       "      <td>AC093496.1</td>\n",
       "    </tr>\n",
       "    <tr>\n",
       "      <th>ENSG00000251576</th>\n",
       "      <td>LINC01267</td>\n",
       "    </tr>\n",
       "    <tr>\n",
       "      <th>ENSG00000082898</th>\n",
       "      <td>XPO1</td>\n",
       "    </tr>\n",
       "  </tbody>\n",
       "</table>\n",
       "<p>26616 rows × 1 columns</p>\n",
       "</div>"
      ],
      "text/plain": [
       "                          1\n",
       "0                          \n",
       "ENSG00000229483   LINC00362\n",
       "ENSG00000232849   LINC00363\n",
       "ENSG00000229558    SACS-AS1\n",
       "ENSG00000232977   LINC00327\n",
       "ENSG00000227893   LINC00352\n",
       "...                     ...\n",
       "ENSG00000232746   LINC02022\n",
       "ENSG00000150867     PIP4K2A\n",
       "ENSG00000255021  AC093496.1\n",
       "ENSG00000251576   LINC01267\n",
       "ENSG00000082898        XPO1\n",
       "\n",
       "[26616 rows x 1 columns]"
      ]
     },
     "execution_count": 54,
     "metadata": {},
     "output_type": "execute_result"
    }
   ],
   "source": [
    "genes"
   ]
  },
  {
   "cell_type": "code",
   "execution_count": 55,
   "id": "04f740e7-35a4-430c-9387-263ec3116453",
   "metadata": {},
   "outputs": [],
   "source": [
    "# Edit var\n",
    "adata.var['EID']=adata.var_names\n",
    "adata.var_names=genes.loc[x.columns, 1]"
   ]
  },
  {
   "cell_type": "code",
   "execution_count": 56,
   "id": "e902e43b-69c4-4ae9-8a96-291a32e5b64a",
   "metadata": {},
   "outputs": [],
   "source": [
    "# Save orginal X\n",
    "adata.layers['raw']=adata.X.copy()"
   ]
  },
  {
   "cell_type": "code",
   "execution_count": 57,
   "id": "8a0c440c-8694-4c00-a5ae-ae372ef61aba",
   "metadata": {},
   "outputs": [],
   "source": [
    "# Sqrt normalise\n",
    "sc.pp.normalize_total(adata)\n",
    "sc.pp.sqrt(adata)"
   ]
  },
  {
   "cell_type": "code",
   "execution_count": 61,
   "id": "bdf8c212-365f-4ab3-b9dc-932e280c1b8d",
   "metadata": {},
   "outputs": [],
   "source": [
    "adata_subset = adata[(adata.obs['disease'].isin(['control','T2D'])) & (adata.obs['cell_type'] == 'beta')]\n",
    "adata_subset.var.index = adata_subset.var.index.astype(str)"
   ]
  },
  {
   "cell_type": "code",
   "execution_count": 66,
   "id": "4c71aea9-77c7-4db5-b793-bb49d3daee7a",
   "metadata": {},
   "outputs": [],
   "source": [
    "adata_subset.write(path_out+'GSE86469_adata.h5ad')"
   ]
  },
  {
   "cell_type": "code",
   "execution_count": 67,
   "id": "f9b73698-2865-41b4-ae0d-31346d8ec5bf",
   "metadata": {},
   "outputs": [
    {
     "data": {
      "text/plain": [
       "disease  cell_type\n",
       "control  beta         168\n",
       "T2D      beta          96\n",
       "dtype: int64"
      ]
     },
     "execution_count": 67,
     "metadata": {},
     "output_type": "execute_result"
    }
   ],
   "source": [
    "adata_subset.obs[['disease', 'cell_type']].value_counts()"
   ]
  }
 ],
 "metadata": {
  "kernelspec": {
   "display_name": "Python 3 (ipykernel)",
   "language": "python",
   "name": "python3"
  },
  "language_info": {
   "codemirror_mode": {
    "name": "ipython",
    "version": 3
   },
   "file_extension": ".py",
   "mimetype": "text/x-python",
   "name": "python",
   "nbconvert_exporter": "python",
   "pygments_lexer": "ipython3",
   "version": "3.8.18"
  }
 },
 "nbformat": 4,
 "nbformat_minor": 5
}

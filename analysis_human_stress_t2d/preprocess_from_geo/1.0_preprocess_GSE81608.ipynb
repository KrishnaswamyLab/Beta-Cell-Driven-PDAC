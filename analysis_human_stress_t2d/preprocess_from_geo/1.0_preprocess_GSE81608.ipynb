{
 "cells": [
  {
   "cell_type": "code",
   "execution_count": 14,
   "id": "c18e21a3-7cf1-42f6-ac60-67aa6cd6145b",
   "metadata": {},
   "outputs": [],
   "source": [
    "import mygene\n",
    "import scanpy as sc, scprep\n",
    "from scipy.sparse import csr_matrix\n",
    "import pandas as pd\n",
    "import numpy as np"
   ]
  },
  {
   "cell_type": "code",
   "execution_count": 5,
   "id": "ae3d52d3-cc13-4c6b-ab6d-cb01db2d8124",
   "metadata": {},
   "outputs": [],
   "source": [
    "path_ds = 'raw/'\n",
    "path_out ='processed/'"
   ]
  },
  {
   "cell_type": "code",
   "execution_count": 6,
   "id": "f738e75d-dbb2-4e37-a180-9db2806605c0",
   "metadata": {
    "scrolled": true
   },
   "outputs": [
    {
     "name": "stdout",
     "output_type": "stream",
     "text": [
      "--2024-03-05 19:40:43--  ftp://ftp.ncbi.nlm.nih.gov/geo/series/GSE81nnn/GSE81608/matrix/GSE81608_series_matrix.txt.gz\n",
      "           => ‘GSE81608_series_matrix.txt.gz’\n",
      "Resolving ftp.ncbi.nlm.nih.gov (ftp.ncbi.nlm.nih.gov)... 130.14.250.10, 130.14.250.7, 2607:f220:41e:250::12, ...\n",
      "Connecting to ftp.ncbi.nlm.nih.gov (ftp.ncbi.nlm.nih.gov)|130.14.250.10|:21... connected.\n",
      "Logging in as anonymous ... Logged in!\n",
      "==> SYST ... done.    ==> PWD ... done.\n",
      "==> TYPE I ... done.  ==> CWD (1) /geo/series/GSE81nnn/GSE81608/matrix ... done.\n",
      "==> SIZE GSE81608_series_matrix.txt.gz ... 44214\n",
      "==> PASV ... done.    ==> RETR GSE81608_series_matrix.txt.gz ... done.\n",
      "Length: 44214 (43K) (unauthoritative)\n",
      "\n",
      "GSE81608_series_mat 100%[===================>]  43.18K  --.-KB/s    in 0.04s   \n",
      "\n",
      "2024-03-05 19:40:43 (1.18 MB/s) - ‘GSE81608_series_matrix.txt.gz’ saved [44214]\n",
      "\n",
      "--2024-03-05 19:40:43--  ftp://ftp.ncbi.nlm.nih.gov/geo/series/GSE81nnn/GSE81608/suppl/GSE81608_human_islets_rpkm.txt.gz\n",
      "           => ‘GSE81608_human_islets_rpkm.txt.gz’\n",
      "Resolving ftp.ncbi.nlm.nih.gov (ftp.ncbi.nlm.nih.gov)... 130.14.250.7, 130.14.250.10, 2607:f220:41e:250::12, ...\n",
      "Connecting to ftp.ncbi.nlm.nih.gov (ftp.ncbi.nlm.nih.gov)|130.14.250.7|:21... connected.\n",
      "Logging in as anonymous ... Logged in!\n",
      "==> SYST ... done.    ==> PWD ... done.\n",
      "==> TYPE I ... done.  ==> CWD (1) /geo/series/GSE81nnn/GSE81608/suppl ... done.\n",
      "==> SIZE GSE81608_human_islets_rpkm.txt.gz ... 37222002\n",
      "==> PASV ... done.    ==> RETR GSE81608_human_islets_rpkm.txt.gz ... done.\n",
      "Length: 37222002 (35M) (unauthoritative)\n",
      "\n",
      "GSE81608_human_isle 100%[===================>]  35.50M  40.2MB/s    in 0.9s    \n",
      "\n",
      "2024-03-05 19:40:44 (40.2 MB/s) - ‘GSE81608_human_islets_rpkm.txt.gz’ saved [37222002]\n",
      "\n"
     ]
    }
   ],
   "source": [
    "! wget ftp://ftp.ncbi.nlm.nih.gov/geo/series/GSE81nnn/GSE81608/matrix/GSE81608_series_matrix.txt.gz\n",
    "! mv GSE81608_series_matrix.txt.gz raw\n",
    "\n",
    "! wget ftp://ftp.ncbi.nlm.nih.gov/geo/series/GSE81nnn/GSE81608/suppl/GSE81608_human_islets_rpkm.txt.gz\n",
    "! mv GSE81608_human_islets_rpkm.txt.gz raw"
   ]
  },
  {
   "cell_type": "code",
   "execution_count": 11,
   "id": "56a2c56f-bca8-45e2-8322-00155b135b92",
   "metadata": {},
   "outputs": [],
   "source": [
    "obs=pd.read_table(path_ds+'GSE81608_series_matrix.txt.gz',skiprows=26,index_col=0)\n",
    "x=pd.read_table(path_ds+'GSE81608_human_islets_rpkm.txt.gz', index_col=0)"
   ]
  },
  {
   "cell_type": "code",
   "execution_count": 12,
   "id": "71cead8d-e0ac-4055-bfac-56519b44c3e4",
   "metadata": {},
   "outputs": [
    {
     "name": "stderr",
     "output_type": "stream",
     "text": [
      "1857 input query terms found no hit:\t['244', '2748', '3262', '9142', '9220', '9503', '10638', '10896', '11217', '23285', '25787', '26148'\n"
     ]
    }
   ],
   "source": [
    "mg = mygene.MyGeneInfo()\n",
    "genemap = mg.querymany(x.index.to_list(), scopes='entrezgene', fields=['ensembl.gene','symbol'], species='human')"
   ]
  },
  {
   "cell_type": "code",
   "execution_count": 15,
   "id": "08b8921d-31b2-41f0-ac17-5fdf949ccb85",
   "metadata": {},
   "outputs": [],
   "source": [
    "genemap_df=[]\n",
    "for g in genemap:\n",
    "    g_parsed={'uid':g['query']}\n",
    "    g_parsed['gene_symbol']=g['symbol'] if 'symbol' in g else np.nan\n",
    "    # Genes with multiple EIDs have these as list\n",
    "    if 'ensembl' in g:\n",
    "        if isinstance(g['ensembl'],list):\n",
    "            g_parsed['EID']=','.join([gs['gene'] for gs in g['ensembl']])\n",
    "        else:\n",
    "            g_parsed['EID']=g['ensembl']['gene']\n",
    "    genemap_df.append(g_parsed)\n",
    "genemap_df=pd.DataFrame(genemap_df)\n",
    "genemap_df.index=genemap_df.uid\n",
    "genemap_df.drop('uid',axis=1,inplace=True)"
   ]
  },
  {
   "cell_type": "code",
   "execution_count": 16,
   "id": "6e69aefd-72d3-4887-910d-15d338db9db3",
   "metadata": {},
   "outputs": [
    {
     "name": "stderr",
     "output_type": "stream",
     "text": [
      "/tmp/ipykernel_3590210/1645750452.py:1: FutureWarning: X.dtype being converted to np.float32 from float64. In the next version of anndata (0.9) conversion will not be automatic. Pass dtype explicitly to avoid this warning. Pass `AnnData(X, dtype=X.dtype, ...)` to get the future behavour.\n",
      "  adata=sc.AnnData(X=csr_matrix(x.T),obs=pd.DataFrame(index=x.columns),\n",
      "/gpfs/gibbs/project/krishnaswamy_smita/av622/conda_envs/gspa/lib/python3.8/site-packages/anndata/_core/anndata.py:121: ImplicitModificationWarning: Transforming to str index.\n",
      "  warnings.warn(\"Transforming to str index.\", ImplicitModificationWarning)\n"
     ]
    }
   ],
   "source": [
    "adata=sc.AnnData(X=csr_matrix(x.T),obs=pd.DataFrame(index=x.columns),\n",
    "                 var=pd.DataFrame(index=x.index))"
   ]
  },
  {
   "cell_type": "code",
   "execution_count": 17,
   "id": "3a4e3311-336d-4210-b199-ffdd5f13eef8",
   "metadata": {},
   "outputs": [],
   "source": [
    "# Sqrt transform\n",
    "adata.layers['normalised_original']=adata.X.copy()\n",
    "sc.pp.sqrt(adata)"
   ]
  },
  {
   "cell_type": "code",
   "execution_count": 18,
   "id": "657d582a-d4a3-4710-8a49-50e8d3a6816b",
   "metadata": {},
   "outputs": [],
   "source": [
    "# Add gene info\n",
    "for col in genemap_df:\n",
    "    adata.var[col]=genemap_df[col]"
   ]
  },
  {
   "cell_type": "code",
   "execution_count": 19,
   "id": "97657581-a43d-4c9a-a3af-f14e08e2bd9b",
   "metadata": {},
   "outputs": [],
   "source": [
    "# Parse obs\n",
    "obs=obs.T[['!Sample_geo_accession','!Sample_characteristics_ch1']]\n",
    "obs.columns=['geo_accession','tissue','donor','disease','age',\n",
    "             'ethnicity','sex','cell_type_original']"
   ]
  },
  {
   "cell_type": "code",
   "execution_count": 20,
   "id": "a4507bb0-bbea-4cbd-aaf6-0dd2891eef8f",
   "metadata": {},
   "outputs": [],
   "source": [
    "# Parse obs\n",
    "obs.drop('tissue',axis=1,inplace=True)\n",
    "obs['donor']=obs['donor'].str.replace('donor id: ','')\n",
    "obs['disease']=obs['disease'].str.replace('condition: ','').str.replace('non-diabetic','control')\n",
    "obs['age']=obs['age'].apply(lambda x: x.replace('age: ','')+' y')\n",
    "obs['ethnicity']=obs['ethnicity'].str.replace('ethnicity: ','').map(\n",
    "    {'AA':'african_american','C':'caucasian','AI':'asian_indian','H':'hispanic'})\n",
    "obs['sex']=obs['sex'].str.replace('gender: ','').map({'M':'male','F':'female'})\n",
    "obs['cell_type_original']=obs['cell_type_original'].str.replace('cell subtype: ','')\n",
    "obs['cell_type']=obs['cell_type_original'].replace({'PP':'gamma'})"
   ]
  },
  {
   "cell_type": "code",
   "execution_count": 24,
   "id": "c3d9e540-df4c-40e1-868c-31ad9c31c2a7",
   "metadata": {},
   "outputs": [],
   "source": [
    "donor_df=pd.read_csv(path_ds+'GSE81608_donors.txt',index_col=0, sep=' ')"
   ]
  },
  {
   "cell_type": "code",
   "execution_count": 51,
   "id": "e66da366-3b1c-4a24-b4db-53992efe0cfa",
   "metadata": {},
   "outputs": [],
   "source": [
    "donor_df.index = [x + ' ' + str(donor_df.iloc[i]['ID']) for i,x in enumerate(donor_df.index)]"
   ]
  },
  {
   "cell_type": "code",
   "execution_count": 53,
   "id": "7c98eb99-ccaf-4ef4-8460-5fe9fa2f5900",
   "metadata": {},
   "outputs": [],
   "source": [
    "for col in ['BMI','HbA1c']:\n",
    "    obs[col]=obs.donor.map(donor_df[col].to_dict())"
   ]
  },
  {
   "cell_type": "code",
   "execution_count": 54,
   "id": "05442781-4ffd-425a-a0ee-fc83f1ed776a",
   "metadata": {},
   "outputs": [],
   "source": [
    "obs.index=[i.replace('Pancreatic islet cell sample ','Sample_') for i in obs.index]"
   ]
  },
  {
   "cell_type": "code",
   "execution_count": 56,
   "id": "9c2e38e9-98db-4b3c-adc6-b8f35d5db033",
   "metadata": {},
   "outputs": [],
   "source": [
    "adata.obs=obs.reindex(adata.obs_names)"
   ]
  },
  {
   "cell_type": "code",
   "execution_count": 60,
   "id": "9e7f6972-ebd2-427e-8eec-e1ccd7432988",
   "metadata": {},
   "outputs": [],
   "source": [
    "adata_subset = adata[(adata.obs['disease'].isin(['control','T2D'])) & (adata.obs['cell_type'] == 'beta')]"
   ]
  },
  {
   "cell_type": "code",
   "execution_count": 67,
   "id": "2cac5e54-922a-4acb-9830-2ca62c532ea6",
   "metadata": {},
   "outputs": [
    {
     "name": "stderr",
     "output_type": "stream",
     "text": [
      "/gpfs/gibbs/project/krishnaswamy_smita/av622/conda_envs/gspa/lib/python3.8/site-packages/anndata/_core/anndata.py:1235: ImplicitModificationWarning: Trying to modify attribute `.obs` of view, initializing view as actual.\n",
      "  df[key] = c\n",
      "/gpfs/gibbs/project/krishnaswamy_smita/av622/conda_envs/gspa/lib/python3.8/site-packages/anndata/_core/anndata.py:1235: ImplicitModificationWarning: Trying to modify attribute `.obs` of view, initializing view as actual.\n",
      "  df[key] = c\n",
      "/gpfs/gibbs/project/krishnaswamy_smita/av622/conda_envs/gspa/lib/python3.8/site-packages/anndata/_core/anndata.py:1235: ImplicitModificationWarning: Trying to modify attribute `.obs` of view, initializing view as actual.\n",
      "  df[key] = c\n",
      "/gpfs/gibbs/project/krishnaswamy_smita/av622/conda_envs/gspa/lib/python3.8/site-packages/anndata/_core/anndata.py:1235: ImplicitModificationWarning: Trying to modify attribute `.obs` of view, initializing view as actual.\n",
      "  df[key] = c\n",
      "/gpfs/gibbs/project/krishnaswamy_smita/av622/conda_envs/gspa/lib/python3.8/site-packages/anndata/_core/anndata.py:1235: ImplicitModificationWarning: Trying to modify attribute `.obs` of view, initializing view as actual.\n",
      "  df[key] = c\n",
      "/gpfs/gibbs/project/krishnaswamy_smita/av622/conda_envs/gspa/lib/python3.8/site-packages/anndata/_core/anndata.py:1235: ImplicitModificationWarning: Trying to modify attribute `.obs` of view, initializing view as actual.\n",
      "  df[key] = c\n",
      "/gpfs/gibbs/project/krishnaswamy_smita/av622/conda_envs/gspa/lib/python3.8/site-packages/anndata/_core/anndata.py:1235: ImplicitModificationWarning: Trying to modify attribute `.obs` of view, initializing view as actual.\n",
      "  df[key] = c\n",
      "/gpfs/gibbs/project/krishnaswamy_smita/av622/conda_envs/gspa/lib/python3.8/site-packages/anndata/_core/anndata.py:1235: ImplicitModificationWarning: Trying to modify attribute `.obs` of view, initializing view as actual.\n",
      "  df[key] = c\n",
      "/gpfs/gibbs/project/krishnaswamy_smita/av622/conda_envs/gspa/lib/python3.8/site-packages/anndata/_core/anndata.py:1235: ImplicitModificationWarning: Trying to modify attribute `.var` of view, initializing view as actual.\n",
      "  df[key] = c\n",
      "/gpfs/gibbs/project/krishnaswamy_smita/av622/conda_envs/gspa/lib/python3.8/site-packages/anndata/_core/anndata.py:1235: ImplicitModificationWarning: Trying to modify attribute `.var` of view, initializing view as actual.\n",
      "  df[key] = c\n"
     ]
    }
   ],
   "source": [
    "adata_subset.write(path_out+'GSE81608_adata.h5ad')"
   ]
  }
 ],
 "metadata": {
  "kernelspec": {
   "display_name": "Python 3 (ipykernel)",
   "language": "python",
   "name": "python3"
  },
  "language_info": {
   "codemirror_mode": {
    "name": "ipython",
    "version": 3
   },
   "file_extension": ".py",
   "mimetype": "text/x-python",
   "name": "python",
   "nbconvert_exporter": "python",
   "pygments_lexer": "ipython3",
   "version": "3.8.18"
  }
 },
 "nbformat": 4,
 "nbformat_minor": 5
}

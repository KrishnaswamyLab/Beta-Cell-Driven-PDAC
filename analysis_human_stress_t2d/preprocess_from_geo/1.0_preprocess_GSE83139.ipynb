{
 "cells": [
  {
   "cell_type": "code",
   "execution_count": 23,
   "id": "ba531f1e-9d4b-4513-ac5b-c26ca66dcf5e",
   "metadata": {},
   "outputs": [],
   "source": [
    "import scanpy as sc, scprep\n",
    "from scipy.sparse import csr_matrix\n",
    "import pandas as pd"
   ]
  },
  {
   "cell_type": "code",
   "execution_count": 78,
   "id": "01b0898a-be7c-41b5-ac47-196beed669f8",
   "metadata": {},
   "outputs": [],
   "source": [
    "path_ds = 'raw/'\n",
    "path_out = 'processed/'"
   ]
  },
  {
   "cell_type": "markdown",
   "id": "7fc899af-b6eb-48b7-aee1-07fa3a0f6330",
   "metadata": {},
   "source": [
    "# GSE83139"
   ]
  },
  {
   "cell_type": "code",
   "execution_count": null,
   "id": "961f1036-cbe4-41fa-84b6-dcc3a299dba4",
   "metadata": {},
   "outputs": [],
   "source": [
    "!wget ftp://ftp.ncbi.nlm.nih.gov/geo/series/GSE83nnn/GSE83139/suppl/GSE83139_tbx-v-f-norm-ntv-cpms.csv.gz\n",
    "!wget ftp://ftp.ncbi.nlm.nih.gov/geo/series/GSE83nnn/GSE83139/matrix/GSE83139-GPL11154_series_matrix.txt.gz\n",
    "!wget ftp://ftp.ncbi.nlm.nih.gov/geo/series/GSE83nnn/GSE83139/matrix/GSE83139-GPL16791_series_matrix.txt.gz\n",
    "\n",
    "!gunzip GSE83139_tbx-v-f-norm-ntv-cpms.csv.gz\n",
    "!gunzip GSE83139-GPL11154_series_matrix.txt.gz\n",
    "!gunzip GSE83139-GPL16791_series_matrix.txt.gz\n",
    "\n",
    "!mv GSE83139_tbx-v-f-norm-ntv-cpms.csv raw\n",
    "!mv GSE83139-GPL11154_series_matrix.txt raw\n",
    "!mv GSE83139-GPL16791_series_matrix.txt raw"
   ]
  },
  {
   "cell_type": "code",
   "execution_count": 1,
   "id": "5cefaa36-1bfa-480d-9f5c-853f2dab9622",
   "metadata": {},
   "outputs": [
    {
     "name": "stdout",
     "output_type": "stream",
     "text": [
      "--2024-03-05 14:26:05--  https://ftp.ncbi.nlm.nih.gov/geo/series/GSE83nnn/GSE83139/suppl/GSE83139_tbx-v-f-norm-ntv-cpms.csv.gz\n",
      "Resolving ftp.ncbi.nlm.nih.gov (ftp.ncbi.nlm.nih.gov)... 130.14.250.11, 130.14.250.10, 2607:f220:41e:250::7, ...\n",
      "Connecting to ftp.ncbi.nlm.nih.gov (ftp.ncbi.nlm.nih.gov)|130.14.250.11|:443... connected.\n",
      "HTTP request sent, awaiting response... 200 OK\n",
      "Length: 48224222 (46M) [application/x-gzip]\n",
      "Saving to: ‘GSE83139_tbx-v-f-norm-ntv-cpms.csv.gz’\n",
      "\n",
      "GSE83139_tbx-v-f-no 100%[===================>]  45.99M  30.2MB/s    in 1.5s    \n",
      "\n",
      "2024-03-05 14:26:07 (30.2 MB/s) - ‘GSE83139_tbx-v-f-norm-ntv-cpms.csv.gz’ saved [48224222/48224222]\n",
      "\n"
     ]
    }
   ],
   "source": [
    "! wget https://ftp.ncbi.nlm.nih.gov/geo/series/GSE83nnn/GSE83139/suppl/GSE83139_tbx-v-f-norm-ntv-cpms.csv.gz\n",
    "! gunzip GSE83139_tbx-v-f-norm-ntv-cpms.csv.gz\n",
    "! mv GSE83139_tbx-v-f-norm-ntv-cpms.csv raw"
   ]
  },
  {
   "cell_type": "code",
   "execution_count": 61,
   "id": "121fb679-0d68-4683-8daf-e18819067b64",
   "metadata": {},
   "outputs": [],
   "source": [
    "x=pd.read_table(path_ds+'GSE83139_tbx-v-f-norm-ntv-cpms.csv')"
   ]
  },
  {
   "cell_type": "code",
   "execution_count": 62,
   "id": "16dd9a63-7de6-43c0-bab5-f63a9d106849",
   "metadata": {},
   "outputs": [
    {
     "name": "stdout",
     "output_type": "stream",
     "text": [
      "(19950, 635)\n"
     ]
    }
   ],
   "source": [
    "# Subset to expression only, drop other gene info\n",
    "x.index=x.gene\n",
    "x=x[[c for c in x.columns if 'reads.' in c]]\n",
    "print(x.shape)"
   ]
  },
  {
   "cell_type": "code",
   "execution_count": 63,
   "id": "53d45b55-b49c-4488-95d1-0e50f161be14",
   "metadata": {},
   "outputs": [
    {
     "name": "stdout",
     "output_type": "stream",
     "text": [
      "(47, 635)\n"
     ]
    }
   ],
   "source": [
    "# metadata\n",
    "# For some reason there are 2 obs tables on GEO that each contain part of the data\n",
    "obs1=pd.read_table(path_ds+'GSE83139-GPL16791_series_matrix.txt',\n",
    "                  skiprows=36,index_col=0)\n",
    "obs2=pd.read_table(path_ds+'GSE83139-GPL11154_series_matrix.txt',\n",
    "                  skiprows=36,index_col=0)\n",
    "obs=pd.concat([obs1,obs2],axis=1)\n",
    "print(obs.shape)"
   ]
  },
  {
   "cell_type": "code",
   "execution_count": 64,
   "id": "ed8f4d63-31ef-4430-b039-5e4cda5afdc8",
   "metadata": {},
   "outputs": [],
   "source": [
    "# Subset\n",
    "obs=obs.loc[['!Sample_characteristics_ch1','!Sample_geo_accession',\n",
    "         '!Sample_source_name_ch1','!Sample_organism_ch1'],:]"
   ]
  },
  {
   "cell_type": "code",
   "execution_count": 65,
   "id": "eb272981-91de-4624-be63-cf4e394017da",
   "metadata": {},
   "outputs": [],
   "source": [
    "# Edit rownmaes\n",
    "obs.index=['tissue','age_group','disease','cell_type','geo_accession','organ','organism']\n",
    "obs.drop('age_group',inplace=True)"
   ]
  },
  {
   "cell_type": "code",
   "execution_count": 66,
   "id": "60c45588-0e67-43e2-9646-692c65abf084",
   "metadata": {},
   "outputs": [],
   "source": [
    "# Edit values\n",
    "for row in ['tissue','disease','cell_type']:\n",
    "    obs.loc[row,:]=obs.loc[row].apply(lambda x: x.split(': ')[1])\n",
    "obs.loc['organism']='human'"
   ]
  },
  {
   "cell_type": "code",
   "execution_count": 67,
   "id": "5e51cb79-f554-4822-87f0-c3b75f95d3b9",
   "metadata": {},
   "outputs": [],
   "source": [
    "# Add donor info\n",
    "obs.loc['donor',:]=[c.split()[0] for c in obs.columns]"
   ]
  },
  {
   "cell_type": "code",
   "execution_count": 68,
   "id": "d669a146-3a72-41af-ac2b-45df3a7ebe3e",
   "metadata": {},
   "outputs": [],
   "source": [
    "# Rename some donors in obs\n",
    "obs.loc['donor',:]=obs.loc['donor',:].replace(\n",
    "    {'HP-15085-01T2D::8dcult':'HP-15085: cultured','HP-15085-01T2D::fresh':'HP-15085'})"
   ]
  },
  {
   "cell_type": "code",
   "execution_count": 69,
   "id": "a18a1d93-d56d-4a2a-a768-b0da61f76930",
   "metadata": {},
   "outputs": [
    {
     "name": "stdout",
     "output_type": "stream",
     "text": [
      "Cols unique across donors: True\n"
     ]
    }
   ],
   "source": [
    "# rename obs columns to match x\n",
    "# Check that removing donor information from cols still produces unique cols\n",
    "print('Cols unique across donors:',len(set([c.split()[1] for c in obs.columns]))==obs.shape[1])\n",
    "obs.columns=['reads.'+c.split()[1] for c in obs.columns]"
   ]
  },
  {
   "cell_type": "code",
   "execution_count": 70,
   "id": "a45b5290-b412-4757-89cc-48f2e4cf2411",
   "metadata": {},
   "outputs": [
    {
     "data": {
      "text/plain": [
       "['dropped',\n",
       " 'alpha',\n",
       " 'ductal',\n",
       " 'beta',\n",
       " 'gamma',\n",
       " 'delta',\n",
       " 'acinar',\n",
       " 'mesenchyme']"
      ]
     },
     "execution_count": 70,
     "metadata": {},
     "output_type": "execute_result"
    }
   ],
   "source": [
    "# Rename cell types\n",
    "obs.loc['cell_type_original',:]=obs.loc['cell_type',:]\n",
    "obs.loc['cell_type',:]=obs.loc['cell_type',:].replace(\n",
    "    {'duct':'ductal','pp':'gamma'})\n",
    "obs.loc['cell_type',:].unique().tolist()"
   ]
  },
  {
   "cell_type": "code",
   "execution_count": 71,
   "id": "91aaf918-127b-40dd-a158-0f7c24ef2f83",
   "metadata": {},
   "outputs": [
    {
     "name": "stderr",
     "output_type": "stream",
     "text": [
      "/tmp/ipykernel_865128/3869560494.py:1: FutureWarning: X.dtype being converted to np.float32 from float64. In the next version of anndata (0.9) conversion will not be automatic. Pass dtype explicitly to avoid this warning. Pass `AnnData(X, dtype=X.dtype, ...)` to get the future behavour.\n",
      "  adata=sc.AnnData(X=csr_matrix(x.T),obs=obs.T.reindex(x.T.index),\n"
     ]
    }
   ],
   "source": [
    "adata=sc.AnnData(X=csr_matrix(x.T),obs=obs.T.reindex(x.T.index),\n",
    "                 var=pd.DataFrame(index=x.T.columns))"
   ]
  },
  {
   "cell_type": "code",
   "execution_count": 72,
   "id": "e0e6e62a-a550-4f56-92d3-04144a0b1033",
   "metadata": {},
   "outputs": [],
   "source": [
    "# Save orginal X\n",
    "adata.layers['normalised_original']=adata.X.copy()"
   ]
  },
  {
   "cell_type": "code",
   "execution_count": 73,
   "id": "76e9473d-76c3-472f-9c9d-37b7393d77a0",
   "metadata": {},
   "outputs": [],
   "source": [
    "# Sqrt normalize (to match our analysis)\n",
    "sc.pp.sqrt(adata)"
   ]
  },
  {
   "cell_type": "code",
   "execution_count": 77,
   "id": "26af51f4-5b4e-4a8e-9827-1ad0006a83bb",
   "metadata": {},
   "outputs": [],
   "source": [
    "adata_subset = adata[(adata.obs['disease'].isin(['control','T2D'])) & (adata.obs['cell_type'] == 'beta')]\n",
    "adata_subset.var.index = adata_subset.var.index.astype(str)"
   ]
  },
  {
   "cell_type": "code",
   "execution_count": 79,
   "id": "55eb9db4-d103-40a2-b727-19a45584ee24",
   "metadata": {},
   "outputs": [
    {
     "name": "stderr",
     "output_type": "stream",
     "text": [
      "/gpfs/gibbs/project/krishnaswamy_smita/av622/conda_envs/gspa/lib/python3.8/site-packages/anndata/_core/anndata.py:1235: ImplicitModificationWarning: Trying to modify attribute `.obs` of view, initializing view as actual.\n",
      "  df[key] = c\n",
      "/gpfs/gibbs/project/krishnaswamy_smita/av622/conda_envs/gspa/lib/python3.8/site-packages/anndata/_core/anndata.py:1235: ImplicitModificationWarning: Trying to modify attribute `.obs` of view, initializing view as actual.\n",
      "  df[key] = c\n",
      "/gpfs/gibbs/project/krishnaswamy_smita/av622/conda_envs/gspa/lib/python3.8/site-packages/anndata/_core/anndata.py:1235: ImplicitModificationWarning: Trying to modify attribute `.obs` of view, initializing view as actual.\n",
      "  df[key] = c\n",
      "/gpfs/gibbs/project/krishnaswamy_smita/av622/conda_envs/gspa/lib/python3.8/site-packages/anndata/_core/anndata.py:1235: ImplicitModificationWarning: Trying to modify attribute `.obs` of view, initializing view as actual.\n",
      "  df[key] = c\n",
      "/gpfs/gibbs/project/krishnaswamy_smita/av622/conda_envs/gspa/lib/python3.8/site-packages/anndata/_core/anndata.py:1235: ImplicitModificationWarning: Trying to modify attribute `.obs` of view, initializing view as actual.\n",
      "  df[key] = c\n",
      "/gpfs/gibbs/project/krishnaswamy_smita/av622/conda_envs/gspa/lib/python3.8/site-packages/anndata/_core/anndata.py:1235: ImplicitModificationWarning: Trying to modify attribute `.obs` of view, initializing view as actual.\n",
      "  df[key] = c\n",
      "/gpfs/gibbs/project/krishnaswamy_smita/av622/conda_envs/gspa/lib/python3.8/site-packages/anndata/_core/anndata.py:1235: ImplicitModificationWarning: Trying to modify attribute `.obs` of view, initializing view as actual.\n",
      "  df[key] = c\n"
     ]
    }
   ],
   "source": [
    "adata_subset.write(path_out+'GSE83139_adata.h5ad')"
   ]
  },
  {
   "cell_type": "code",
   "execution_count": 85,
   "id": "6398d814-af4b-42e1-b6ef-c9c92aad9a22",
   "metadata": {},
   "outputs": [
    {
     "data": {
      "text/plain": [
       "disease  cell_type\n",
       "control  beta         67\n",
       "T2D      beta         38\n",
       "dtype: int64"
      ]
     },
     "execution_count": 85,
     "metadata": {},
     "output_type": "execute_result"
    }
   ],
   "source": [
    "adata_subset.obs[['disease', 'cell_type']].value_counts()"
   ]
  }
 ],
 "metadata": {
  "kernelspec": {
   "display_name": "Python 3 (ipykernel)",
   "language": "python",
   "name": "python3"
  },
  "language_info": {
   "codemirror_mode": {
    "name": "ipython",
    "version": 3
   },
   "file_extension": ".py",
   "mimetype": "text/x-python",
   "name": "python",
   "nbconvert_exporter": "python",
   "pygments_lexer": "ipython3",
   "version": "3.8.18"
  }
 },
 "nbformat": 4,
 "nbformat_minor": 5
}

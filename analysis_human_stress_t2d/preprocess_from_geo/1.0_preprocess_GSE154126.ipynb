{
 "cells": [
  {
   "cell_type": "code",
   "execution_count": 144,
   "id": "dff2c98b-ce3f-407b-a1d6-a08953a67ac7",
   "metadata": {},
   "outputs": [],
   "source": [
    "import pandas as pd\n",
    "import scanpy as sc, scprep\n",
    "import numpy as np\n",
    "from scipy.sparse import csr_matrix"
   ]
  },
  {
   "cell_type": "code",
   "execution_count": 4,
   "id": "370288ab-1dbe-4348-85a7-d39c2d13fefe",
   "metadata": {},
   "outputs": [],
   "source": [
    "path_ds = 'raw/'\n",
    "path_out = 'processed/'"
   ]
  },
  {
   "cell_type": "code",
   "execution_count": 1,
   "id": "cd02b30f-7b0a-489e-8c2a-7903ce29d77c",
   "metadata": {
    "scrolled": true
   },
   "outputs": [
    {
     "name": "stdout",
     "output_type": "stream",
     "text": [
      "--2024-03-05 18:25:36--  https://ftp.ncbi.nlm.nih.gov/geo/series/GSE154nnn/GSE154126/matrix/GSE154126-GPL11154_series_matrix.txt.gz\n",
      "Resolving ftp.ncbi.nlm.nih.gov (ftp.ncbi.nlm.nih.gov)... 130.14.250.13, 130.14.250.12, 2607:f220:41e:250::10, ...\n",
      "Connecting to ftp.ncbi.nlm.nih.gov (ftp.ncbi.nlm.nih.gov)|130.14.250.13|:443... connected.\n",
      "HTTP request sent, awaiting response... 200 OK\n",
      "Length: 9284 (9.1K) [application/x-gzip]\n",
      "Saving to: ‘GSE154126-GPL11154_series_matrix.txt.gz’\n",
      "\n",
      "GSE154126-GPL11154_ 100%[===================>]   9.07K  --.-KB/s    in 0s      \n",
      "\n",
      "2024-03-05 18:25:36 (99.3 MB/s) - ‘GSE154126-GPL11154_series_matrix.txt.gz’ saved [9284/9284]\n",
      "\n",
      "--2024-03-05 18:25:37--  https://ftp.ncbi.nlm.nih.gov/geo/series/GSE154nnn/GSE154126/matrix/GSE154126-GPL16791_series_matrix.txt.gz\n",
      "Resolving ftp.ncbi.nlm.nih.gov (ftp.ncbi.nlm.nih.gov)... 130.14.250.13, 130.14.250.12, 2607:f220:41e:250::10, ...\n",
      "Connecting to ftp.ncbi.nlm.nih.gov (ftp.ncbi.nlm.nih.gov)|130.14.250.13|:443... connected.\n",
      "HTTP request sent, awaiting response... 200 OK\n",
      "Length: 31874 (31K) [application/x-gzip]\n",
      "Saving to: ‘GSE154126-GPL16791_series_matrix.txt.gz’\n",
      "\n",
      "GSE154126-GPL16791_ 100%[===================>]  31.13K  --.-KB/s    in 0s      \n",
      "\n",
      "2024-03-05 18:25:37 (169 MB/s) - ‘GSE154126-GPL16791_series_matrix.txt.gz’ saved [31874/31874]\n",
      "\n",
      "--2024-03-05 18:25:37--  https://ftp.ncbi.nlm.nih.gov/geo/series/GSE154nnn/GSE154126/suppl/GSE154126_tbx-v-m-b-norm-ntv-cpms.aug.tsv.gz\n",
      "Resolving ftp.ncbi.nlm.nih.gov (ftp.ncbi.nlm.nih.gov)... 130.14.250.12, 130.14.250.13, 2607:f220:41e:250::10, ...\n",
      "Connecting to ftp.ncbi.nlm.nih.gov (ftp.ncbi.nlm.nih.gov)|130.14.250.12|:443... connected.\n",
      "HTTP request sent, awaiting response... 200 OK\n",
      "Length: 112032239 (107M) [application/x-gzip]\n",
      "Saving to: ‘GSE154126_tbx-v-m-b-norm-ntv-cpms.aug.tsv.gz’\n",
      "\n",
      "GSE154126_tbx-v-m-b 100%[===================>] 106.84M  49.8MB/s    in 2.1s    \n",
      "\n",
      "2024-03-05 18:25:39 (49.8 MB/s) - ‘GSE154126_tbx-v-m-b-norm-ntv-cpms.aug.tsv.gz’ saved [112032239/112032239]\n",
      "\n",
      "--2024-03-05 18:25:40--  https://ftp.ncbi.nlm.nih.gov/geo/series/GSE154nnn/GSE154126/suppl/GSE154126_tbx-v-m-b-norm-ntv-reads.aug.tsv.gz\n",
      "Resolving ftp.ncbi.nlm.nih.gov (ftp.ncbi.nlm.nih.gov)... 130.14.250.13, 130.14.250.12, 2607:f220:41e:250::10, ...\n",
      "Connecting to ftp.ncbi.nlm.nih.gov (ftp.ncbi.nlm.nih.gov)|130.14.250.13|:443... connected.\n",
      "HTTP request sent, awaiting response... 200 OK\n",
      "Length: 13323803 (13M) [application/x-gzip]\n",
      "Saving to: ‘GSE154126_tbx-v-m-b-norm-ntv-reads.aug.tsv.gz’\n",
      "\n",
      "GSE154126_tbx-v-m-b 100%[===================>]  12.71M  50.8MB/s    in 0.3s    \n",
      "\n",
      "2024-03-05 18:25:40 (50.8 MB/s) - ‘GSE154126_tbx-v-m-b-norm-ntv-reads.aug.tsv.gz’ saved [13323803/13323803]\n",
      "\n"
     ]
    }
   ],
   "source": [
    "! wget https://ftp.ncbi.nlm.nih.gov/geo/series/GSE154nnn/GSE154126/matrix/GSE154126-GPL11154_series_matrix.txt.gz\n",
    "! wget https://ftp.ncbi.nlm.nih.gov/geo/series/GSE154nnn/GSE154126/matrix/GSE154126-GPL16791_series_matrix.txt.gz\n",
    "! wget https://ftp.ncbi.nlm.nih.gov/geo/series/GSE154nnn/GSE154126/suppl/GSE154126_tbx-v-m-b-norm-ntv-cpms.aug.tsv.gz\n",
    "! wget https://ftp.ncbi.nlm.nih.gov/geo/series/GSE154nnn/GSE154126/suppl/GSE154126_tbx-v-m-b-norm-ntv-reads.aug.tsv.gz"
   ]
  },
  {
   "cell_type": "code",
   "execution_count": 2,
   "id": "b6d7ee5d-c6f1-42a3-9c87-e2557a37ed76",
   "metadata": {},
   "outputs": [],
   "source": [
    "! mv GSE154126-GPL11154_series_matrix.txt.gz raw\n",
    "! mv GSE154126-GPL16791_series_matrix.txt.gz raw\n",
    "! mv GSE154126_tbx-v-m-b-norm-ntv-cpms.aug.tsv.gz raw\n",
    "! mv GSE154126_tbx-v-m-b-norm-ntv-reads.aug.tsv.gz raw"
   ]
  },
  {
   "cell_type": "code",
   "execution_count": 6,
   "id": "6e518d15-ce83-40dd-8e74-5c44b7f04649",
   "metadata": {},
   "outputs": [],
   "source": [
    "x_norm=pd.read_table(path_ds+'GSE154126_tbx-v-m-b-norm-ntv-cpms.aug.tsv.gz',index_col=0,skiprows=6)\n",
    "x=pd.read_table(path_ds+'GSE154126_tbx-v-m-b-norm-ntv-reads.aug.tsv.gz',index_col=0,skiprows=6)"
   ]
  },
  {
   "cell_type": "code",
   "execution_count": 7,
   "id": "37245aca-79a9-41b8-958c-dd69b0c1cf63",
   "metadata": {},
   "outputs": [],
   "source": [
    "x.columns=[c.replace('cell.','') for c in x.columns]\n",
    "# Subset with genes with names\n",
    "x=x[~x.index.isna()]\n",
    "x_norm=x_norm[~x_norm.index.isna()]"
   ]
  },
  {
   "cell_type": "code",
   "execution_count": 102,
   "id": "448f2c4b-3042-41b6-ba56-cbec31570f1c",
   "metadata": {},
   "outputs": [
    {
     "name": "stdout",
     "output_type": "stream",
     "text": [
      "Both obs datasets in X files are the same: True\n"
     ]
    }
   ],
   "source": [
    "# Some obs data also in expression table\n",
    "obs_x1=pd.read_table(path_ds+'GSE154126_tbx-v-m-b-norm-ntv-cpms.aug.tsv.gz',index_col=0,nrows=6)\n",
    "obs_x2=pd.read_table(path_ds+'GSE154126_tbx-v-m-b-norm-ntv-reads.aug.tsv.gz',index_col=0,nrows=6)\n",
    "print('Both obs datasets in X files are the same:',(obs_x1==obs_x2).all().all())"
   ]
  },
  {
   "cell_type": "code",
   "execution_count": 103,
   "id": "e3432165-269c-4c87-90a5-c1fac4606bd7",
   "metadata": {},
   "outputs": [],
   "source": [
    "obs1=pd.read_table(path_ds+'GSE154126-GPL11154_series_matrix.txt.gz', skiprows=37,index_col=0)\n",
    "obs1=obs1.drop(index=obs1.iloc[[-5]].index, inplace=False)"
   ]
  },
  {
   "cell_type": "code",
   "execution_count": 104,
   "id": "a5ffd06f-73fc-4dad-ad29-12ac2fc85c22",
   "metadata": {},
   "outputs": [],
   "source": [
    "obs2=pd.read_table(path_ds+'GSE154126-GPL16791_series_matrix.txt.gz', skiprows=37,index_col=0)\n",
    "obs2=obs2.drop(index=obs2.iloc[[-5]].index, inplace=False)"
   ]
  },
  {
   "cell_type": "code",
   "execution_count": 105,
   "id": "df40bf37-5be3-4e37-888b-027f76953d38",
   "metadata": {},
   "outputs": [
    {
     "name": "stdout",
     "output_type": "stream",
     "text": [
      "(44, 1263)\n"
     ]
    }
   ],
   "source": [
    "obs=pd.concat([obs1,obs2], axis=1)\n",
    "print(obs.shape)"
   ]
  },
  {
   "cell_type": "code",
   "execution_count": 106,
   "id": "f0a7b45c-e895-49f3-9cca-27fd9d39d840",
   "metadata": {},
   "outputs": [],
   "source": [
    "# Correct col names to remove donor info from cell names as it is already in the table, \n",
    "# for x matching\n",
    "obs.columns=[c.split(':')[0] for c in obs.columns]\n",
    "# Select columns\n",
    "obs=obs.T[['!Sample_geo_accession']]\n",
    "obs.columns=['geo_accession']"
   ]
  },
  {
   "cell_type": "code",
   "execution_count": 107,
   "id": "5a0982ce-c2ea-41c0-8c11-486f801c2fe1",
   "metadata": {},
   "outputs": [],
   "source": [
    "# Concat both obs datasets\n",
    "# Format col names\n",
    "obs_x1.loc['source_id',:]=obs_x1.columns\n",
    "obs_x1.columns=obs_x1.loc['gene|cell_id',:].str.replace('cell.','',regex=False)\n",
    "obs_x1=obs_x1.T.rename({'source_id':'donor'})\n",
    "obs=pd.concat([obs,obs_x1],axis=1)"
   ]
  },
  {
   "cell_type": "code",
   "execution_count": 108,
   "id": "e9eed3ce-d6fe-4521-b6f3-5b36e54c1cd4",
   "metadata": {},
   "outputs": [],
   "source": [
    "# Parse obs\n",
    "# Select only some cols as others in donor df\n",
    "obs=obs[['geo_accession','condition_health_status','CellType','source_id']]\n",
    "obs.rename({'condition_health_status':'disease','CellType':'cell_type_original',\n",
    "           'source_id':'donor'},axis=1,inplace=True)\n",
    "obs['disease']=obs['disease'].replace({'Control':'control'})"
   ]
  },
  {
   "cell_type": "code",
   "execution_count": 109,
   "id": "96fc179e-47cb-4d84-a665-db5a4a3a0e47",
   "metadata": {},
   "outputs": [],
   "source": [
    "# Parse donors\n",
    "obs['donor']=obs.donor.apply(lambda x: x.split('.')[0])"
   ]
  },
  {
   "cell_type": "code",
   "execution_count": 134,
   "id": "508ba01b-b1c6-4af6-8c0b-cfb968d7964c",
   "metadata": {},
   "outputs": [],
   "source": [
    "donor_df = pd.read_excel(path_ds+'1-s2.0-S2212877820301319-mmc1.xlsx', index_col=0).iloc[:-1, :]"
   ]
  },
  {
   "cell_type": "code",
   "execution_count": 135,
   "id": "98ec8e9f-b22c-4d27-8a6f-23eb86ad8117",
   "metadata": {},
   "outputs": [
    {
     "name": "stderr",
     "output_type": "stream",
     "text": [
      "/tmp/ipykernel_3526545/2095390664.py:8: FutureWarning: The default value of regex will change from True to False in a future version. In addition, single character regular expressions will *not* be treated as literal strings when regex=True.\n",
      "  donor_df['ethnicity']=donor_df['ethnicity'\n"
     ]
    },
    {
     "data": {
      "text/html": [
       "<div>\n",
       "<style scoped>\n",
       "    .dataframe tbody tr th:only-of-type {\n",
       "        vertical-align: middle;\n",
       "    }\n",
       "\n",
       "    .dataframe tbody tr th {\n",
       "        vertical-align: top;\n",
       "    }\n",
       "\n",
       "    .dataframe thead th {\n",
       "        text-align: right;\n",
       "    }\n",
       "</style>\n",
       "<table border=\"1\" class=\"dataframe\">\n",
       "  <thead>\n",
       "    <tr style=\"text-align: right;\">\n",
       "      <th></th>\n",
       "      <th>age</th>\n",
       "      <th>sex</th>\n",
       "      <th>ethnicity</th>\n",
       "      <th>BMI</th>\n",
       "      <th>age_group</th>\n",
       "    </tr>\n",
       "    <tr>\n",
       "      <th>Donor ID</th>\n",
       "      <th></th>\n",
       "      <th></th>\n",
       "      <th></th>\n",
       "      <th></th>\n",
       "      <th></th>\n",
       "    </tr>\n",
       "  </thead>\n",
       "  <tbody>\n",
       "    <tr>\n",
       "      <th>ICRH85</th>\n",
       "      <td>18 d</td>\n",
       "      <td>female</td>\n",
       "      <td>hispanic</td>\n",
       "      <td>19.5</td>\n",
       "      <td>Newborn</td>\n",
       "    </tr>\n",
       "    <tr>\n",
       "      <th>ACJW006</th>\n",
       "      <td>10 m</td>\n",
       "      <td>male</td>\n",
       "      <td>african_american</td>\n",
       "      <td>19.5</td>\n",
       "      <td>Toddler</td>\n",
       "    </tr>\n",
       "    <tr>\n",
       "      <th>HPAP011</th>\n",
       "      <td>3 y</td>\n",
       "      <td>male</td>\n",
       "      <td>african_american</td>\n",
       "      <td>17.6</td>\n",
       "      <td>Toddler</td>\n",
       "    </tr>\n",
       "    <tr>\n",
       "      <th>ICRH76</th>\n",
       "      <td>2 y</td>\n",
       "      <td>male</td>\n",
       "      <td>european_american</td>\n",
       "      <td>13.6</td>\n",
       "      <td>Toddler *</td>\n",
       "    </tr>\n",
       "    <tr>\n",
       "      <th>ICRH80</th>\n",
       "      <td>19 m</td>\n",
       "      <td>female</td>\n",
       "      <td>european_american</td>\n",
       "      <td>18</td>\n",
       "      <td>Toddler *</td>\n",
       "    </tr>\n",
       "    <tr>\n",
       "      <th>ICRH97</th>\n",
       "      <td>4 y</td>\n",
       "      <td>male</td>\n",
       "      <td>european_american</td>\n",
       "      <td>15.1</td>\n",
       "      <td>Toddler</td>\n",
       "    </tr>\n",
       "    <tr>\n",
       "      <th>ADEY348</th>\n",
       "      <td>11 y</td>\n",
       "      <td>male</td>\n",
       "      <td>european_american</td>\n",
       "      <td>17.8</td>\n",
       "      <td>Adolescent</td>\n",
       "    </tr>\n",
       "    <tr>\n",
       "      <th>ADFY260</th>\n",
       "      <td>12 y</td>\n",
       "      <td>female</td>\n",
       "      <td>african_american</td>\n",
       "      <td>23.26</td>\n",
       "      <td>Adolescent</td>\n",
       "    </tr>\n",
       "    <tr>\n",
       "      <th>AAJF122</th>\n",
       "      <td>52 y</td>\n",
       "      <td>male</td>\n",
       "      <td>asian_american</td>\n",
       "      <td>29.1</td>\n",
       "      <td>Adult *</td>\n",
       "    </tr>\n",
       "    <tr>\n",
       "      <th>ABAF490</th>\n",
       "      <td>39 y</td>\n",
       "      <td>female</td>\n",
       "      <td>european_american</td>\n",
       "      <td>45.2</td>\n",
       "      <td>Adult *</td>\n",
       "    </tr>\n",
       "    <tr>\n",
       "      <th>ACAP236</th>\n",
       "      <td>21 y</td>\n",
       "      <td>male</td>\n",
       "      <td>european_american</td>\n",
       "      <td>39</td>\n",
       "      <td>Adult *</td>\n",
       "    </tr>\n",
       "    <tr>\n",
       "      <th>ACHL274</th>\n",
       "      <td>61 y</td>\n",
       "      <td>male</td>\n",
       "      <td>hispanic</td>\n",
       "      <td>26.8</td>\n",
       "      <td>Adult</td>\n",
       "    </tr>\n",
       "    <tr>\n",
       "      <th>ACIA085_APT2D</th>\n",
       "      <td>64 y</td>\n",
       "      <td>male</td>\n",
       "      <td>european_american</td>\n",
       "      <td>33.16</td>\n",
       "      <td>Adult</td>\n",
       "    </tr>\n",
       "    <tr>\n",
       "      <th>ADDU206</th>\n",
       "      <td>41 y</td>\n",
       "      <td>male</td>\n",
       "      <td>hispanic</td>\n",
       "      <td>26.2</td>\n",
       "      <td>Adult</td>\n",
       "    </tr>\n",
       "    <tr>\n",
       "      <th>AEBK009</th>\n",
       "      <td>53 y</td>\n",
       "      <td>male</td>\n",
       "      <td>na</td>\n",
       "      <td>NA</td>\n",
       "      <td>Adult</td>\n",
       "    </tr>\n",
       "    <tr>\n",
       "      <th>AEGY230A</th>\n",
       "      <td>52 y</td>\n",
       "      <td>female</td>\n",
       "      <td>hispanic</td>\n",
       "      <td>42.8</td>\n",
       "      <td>Adult</td>\n",
       "    </tr>\n",
       "    <tr>\n",
       "      <th>AEHL151</th>\n",
       "      <td>59 y</td>\n",
       "      <td>male</td>\n",
       "      <td>hispanic</td>\n",
       "      <td>27.7</td>\n",
       "      <td>Adult</td>\n",
       "    </tr>\n",
       "    <tr>\n",
       "      <th>HP-15041</th>\n",
       "      <td>57 y</td>\n",
       "      <td>male</td>\n",
       "      <td>african_american</td>\n",
       "      <td>23.98</td>\n",
       "      <td>Adult *</td>\n",
       "    </tr>\n",
       "    <tr>\n",
       "      <th>HP-15085-01T2D</th>\n",
       "      <td>37 y</td>\n",
       "      <td>female</td>\n",
       "      <td>european_american</td>\n",
       "      <td>39.3</td>\n",
       "      <td>Adult *</td>\n",
       "    </tr>\n",
       "    <tr>\n",
       "      <th>HP15269-01T2D</th>\n",
       "      <td>55 y</td>\n",
       "      <td>female</td>\n",
       "      <td>european_american</td>\n",
       "      <td>29.84</td>\n",
       "      <td>Adult</td>\n",
       "    </tr>\n",
       "    <tr>\n",
       "      <th>HP16012_1T2D</th>\n",
       "      <td>42 y</td>\n",
       "      <td>male</td>\n",
       "      <td>european_american</td>\n",
       "      <td>43.7</td>\n",
       "      <td>Adult</td>\n",
       "    </tr>\n",
       "    <tr>\n",
       "      <th>ICRH95</th>\n",
       "      <td>60 y</td>\n",
       "      <td>female</td>\n",
       "      <td>african_american</td>\n",
       "      <td>28.2</td>\n",
       "      <td>Adult</td>\n",
       "    </tr>\n",
       "  </tbody>\n",
       "</table>\n",
       "</div>"
      ],
      "text/plain": [
       "                 age     sex          ethnicity    BMI    age_group\n",
       "Donor ID                                                           \n",
       "ICRH85          18 d  female           hispanic   19.5     Newborn \n",
       "ACJW006         10 m    male   african_american   19.5     Toddler \n",
       "HPAP011          3 y    male   african_american   17.6     Toddler \n",
       "ICRH76           2 y    male  european_american   13.6    Toddler *\n",
       "ICRH80          19 m  female  european_american     18    Toddler *\n",
       "ICRH97           4 y    male  european_american   15.1     Toddler \n",
       "ADEY348         11 y    male  european_american   17.8  Adolescent \n",
       "ADFY260         12 y  female   african_american  23.26  Adolescent \n",
       "AAJF122         52 y    male     asian_american   29.1      Adult *\n",
       "ABAF490         39 y  female  european_american   45.2      Adult *\n",
       "ACAP236         21 y    male  european_american     39      Adult *\n",
       "ACHL274         61 y    male           hispanic   26.8       Adult \n",
       "ACIA085_APT2D   64 y    male  european_american  33.16       Adult \n",
       "ADDU206         41 y    male           hispanic   26.2       Adult \n",
       "AEBK009         53 y    male                 na     NA       Adult \n",
       "AEGY230A        52 y  female           hispanic   42.8       Adult \n",
       "AEHL151         59 y    male           hispanic   27.7       Adult \n",
       "HP-15041        57 y    male   african_american  23.98      Adult *\n",
       "HP-15085-01T2D  37 y  female  european_american   39.3      Adult *\n",
       "HP15269-01T2D   55 y  female  european_american  29.84        Adult\n",
       "HP16012_1T2D    42 y    male  european_american   43.7        Adult\n",
       "ICRH95          60 y  female   african_american   28.2        Adult"
      ]
     },
     "execution_count": 135,
     "metadata": {},
     "output_type": "execute_result"
    }
   ],
   "source": [
    "# Parse donor df\n",
    "donor_df['age_group'] = donor_df['Condition'].str.replace('T2D', 'Adult')\n",
    "donor_df.drop('Condition',axis=1,inplace=True) # Drop as better in other table\n",
    "donor_df.rename(\n",
    "    {'Age':'age','Gender':'sex','Ethnicity':'ethnicity','BMI':'BMI',\n",
    "                 'Condition':'disease'},axis=1,inplace=True)\n",
    "donor_df['age']=donor_df['age'].apply(lambda x: x[:-1]+' '+x[-1])\n",
    "donor_df['ethnicity']=donor_df['ethnicity'\n",
    "                              ].str.lower().str.replace('.','_').replace({'NA':np.nan})\n",
    "donor_df.replace('NA',np.nan)"
   ]
  },
  {
   "cell_type": "code",
   "execution_count": 136,
   "id": "e975b72d-d34f-4d2d-82dc-c4efc6ebc12f",
   "metadata": {},
   "outputs": [],
   "source": [
    "donor_df=donor_df.replace('\\xa0NA',np.nan).replace('\\xa0na',np.nan)"
   ]
  },
  {
   "cell_type": "code",
   "execution_count": 137,
   "id": "1cdc7990-f975-4425-b790-5da9b8697392",
   "metadata": {},
   "outputs": [],
   "source": [
    "# Add donor to obs\n",
    "for col in donor_df.columns:\n",
    "    obs[col]=obs['donor'].map(donor_df[col].to_dict())"
   ]
  },
  {
   "cell_type": "code",
   "execution_count": 138,
   "id": "6a0692c4-6802-4a29-85d5-cbc33c8c9010",
   "metadata": {},
   "outputs": [
    {
     "data": {
      "text/plain": [
       "dropped       657\n",
       "alpha         234\n",
       "beta          182\n",
       "ductal        100\n",
       "mesenchyme     44\n",
       "acinar         30\n",
       "gamma          19\n",
       "delta          10\n",
       "Name: cell_type, dtype: int64"
      ]
     },
     "execution_count": 138,
     "metadata": {},
     "output_type": "execute_result"
    }
   ],
   "source": [
    "obs['cell_type']=obs['cell_type_original'].replace({\n",
    "    'duct':'ductal','pp':'gamma','masked':'dropped'})\n",
    "obs.cell_type.value_counts(dropna=False)"
   ]
  },
  {
   "cell_type": "code",
   "execution_count": 140,
   "id": "f03c3d37-5a19-4945-9b65-f3da960876c0",
   "metadata": {},
   "outputs": [],
   "source": [
    "# Check that x and x_norm match\n",
    "if not (x.index==x_norm.index).all() and \\\n",
    "    (x.columns==[c.replace('cell.','') for c in x_norm.columns]).all():\n",
    "    raise ValueError('x and x_norm not matching')"
   ]
  },
  {
   "cell_type": "code",
   "execution_count": 145,
   "id": "c711cd30-023d-49f3-8455-c65071aebefc",
   "metadata": {},
   "outputs": [
    {
     "name": "stderr",
     "output_type": "stream",
     "text": [
      "/tmp/ipykernel_3526545/4205569410.py:1: FutureWarning: X.dtype being converted to np.float32 from int64. In the next version of anndata (0.9) conversion will not be automatic. Pass dtype explicitly to avoid this warning. Pass `AnnData(X, dtype=X.dtype, ...)` to get the future behavour.\n",
      "  adata=sc.AnnData(X=csr_matrix(x.T),obs=obs.reindex(x.T.index),\n"
     ]
    }
   ],
   "source": [
    "adata=sc.AnnData(X=csr_matrix(x.T),obs=obs.reindex(x.T.index),\n",
    "                layers={'normalised_original':csr_matrix(x_norm.T)},\n",
    "                 var=pd.DataFrame(index=x.T.columns))"
   ]
  },
  {
   "cell_type": "code",
   "execution_count": 146,
   "id": "b72838b4-354f-42c1-bc97-c779bb978200",
   "metadata": {},
   "outputs": [],
   "source": [
    "# Save orginal X\n",
    "adata.layers['raw']=adata.X.copy()"
   ]
  },
  {
   "cell_type": "code",
   "execution_count": 147,
   "id": "b7c4de60-590a-4d47-a578-f07b5d6b57e0",
   "metadata": {},
   "outputs": [],
   "source": [
    "# Sqrt normalise\n",
    "sc.pp.normalize_total(adata)\n",
    "sc.pp.sqrt(adata)"
   ]
  },
  {
   "cell_type": "code",
   "execution_count": 150,
   "id": "8ebff26d-13d7-40b8-ae48-3cbee33c4b4f",
   "metadata": {},
   "outputs": [],
   "source": [
    "adata_subset = adata[(adata.obs['disease'].isin(['control','T2D'])) & (adata.obs['cell_type'] == 'beta')]"
   ]
  },
  {
   "cell_type": "code",
   "execution_count": 152,
   "id": "a9be29b1-a0ec-4ddc-9f9c-9c066828d5d0",
   "metadata": {},
   "outputs": [
    {
     "name": "stderr",
     "output_type": "stream",
     "text": [
      "/gpfs/gibbs/project/krishnaswamy_smita/av622/conda_envs/gspa/lib/python3.8/site-packages/anndata/_core/anndata.py:1235: ImplicitModificationWarning: Trying to modify attribute `.obs` of view, initializing view as actual.\n",
      "  df[key] = c\n",
      "/gpfs/gibbs/project/krishnaswamy_smita/av622/conda_envs/gspa/lib/python3.8/site-packages/anndata/_core/anndata.py:1235: ImplicitModificationWarning: Trying to modify attribute `.obs` of view, initializing view as actual.\n",
      "  df[key] = c\n",
      "/gpfs/gibbs/project/krishnaswamy_smita/av622/conda_envs/gspa/lib/python3.8/site-packages/anndata/_core/anndata.py:1235: ImplicitModificationWarning: Trying to modify attribute `.obs` of view, initializing view as actual.\n",
      "  df[key] = c\n",
      "/gpfs/gibbs/project/krishnaswamy_smita/av622/conda_envs/gspa/lib/python3.8/site-packages/anndata/_core/anndata.py:1235: ImplicitModificationWarning: Trying to modify attribute `.obs` of view, initializing view as actual.\n",
      "  df[key] = c\n",
      "/gpfs/gibbs/project/krishnaswamy_smita/av622/conda_envs/gspa/lib/python3.8/site-packages/anndata/_core/anndata.py:1235: ImplicitModificationWarning: Trying to modify attribute `.obs` of view, initializing view as actual.\n",
      "  df[key] = c\n",
      "/gpfs/gibbs/project/krishnaswamy_smita/av622/conda_envs/gspa/lib/python3.8/site-packages/anndata/_core/anndata.py:1235: ImplicitModificationWarning: Trying to modify attribute `.obs` of view, initializing view as actual.\n",
      "  df[key] = c\n",
      "/gpfs/gibbs/project/krishnaswamy_smita/av622/conda_envs/gspa/lib/python3.8/site-packages/anndata/_core/anndata.py:1235: ImplicitModificationWarning: Trying to modify attribute `.obs` of view, initializing view as actual.\n",
      "  df[key] = c\n",
      "/gpfs/gibbs/project/krishnaswamy_smita/av622/conda_envs/gspa/lib/python3.8/site-packages/anndata/_core/anndata.py:1235: ImplicitModificationWarning: Trying to modify attribute `.obs` of view, initializing view as actual.\n",
      "  df[key] = c\n"
     ]
    }
   ],
   "source": [
    "adata_subset.write('processed/GSE154126_adata.h5ad')"
   ]
  }
 ],
 "metadata": {
  "kernelspec": {
   "display_name": "Python 3 (ipykernel)",
   "language": "python",
   "name": "python3"
  },
  "language_info": {
   "codemirror_mode": {
    "name": "ipython",
    "version": 3
   },
   "file_extension": ".py",
   "mimetype": "text/x-python",
   "name": "python",
   "nbconvert_exporter": "python",
   "pygments_lexer": "ipython3",
   "version": "3.8.18"
  }
 },
 "nbformat": 4,
 "nbformat_minor": 5
}

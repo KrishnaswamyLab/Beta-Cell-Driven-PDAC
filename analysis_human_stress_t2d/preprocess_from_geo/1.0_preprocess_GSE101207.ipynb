{
 "cells": [
  {
   "cell_type": "code",
   "execution_count": 1,
   "id": "ba531f1e-9d4b-4513-ac5b-c26ca66dcf5e",
   "metadata": {},
   "outputs": [],
   "source": [
    "import scanpy as sc, scprep\n",
    "from scipy.sparse import csr_matrix\n",
    "import pandas as pd\n",
    "import glob\n",
    "import numpy as np"
   ]
  },
  {
   "cell_type": "code",
   "execution_count": 3,
   "id": "01b0898a-be7c-41b5-ac47-196beed669f8",
   "metadata": {},
   "outputs": [],
   "source": [
    "path_ds = 'raw/'\n",
    "path_out = 'processed/'"
   ]
  },
  {
   "cell_type": "markdown",
   "id": "7fc899af-b6eb-48b7-aee1-07fa3a0f6330",
   "metadata": {},
   "source": [
    "# GSE101207"
   ]
  },
  {
   "cell_type": "code",
   "execution_count": 6,
   "id": "4eea4425-e3a9-4789-a643-992fb0040bfd",
   "metadata": {
    "scrolled": true
   },
   "outputs": [
    {
     "name": "stdout",
     "output_type": "stream",
     "text": [
      "--2024-03-05 15:26:54--  ftp://ftp.ncbi.nlm.nih.gov/geo/series/GSE101nnn/GSE101207/matrix/GSE101207-GPL11154_series_matrix.txt.gz\n",
      "           => ‘GSE101207-GPL11154_series_matrix.txt.gz’\n",
      "Resolving ftp.ncbi.nlm.nih.gov (ftp.ncbi.nlm.nih.gov)... 130.14.250.11, 130.14.250.12, 2607:f220:41e:250::7, ...\n",
      "Connecting to ftp.ncbi.nlm.nih.gov (ftp.ncbi.nlm.nih.gov)|130.14.250.11|:21... connected.\n",
      "Logging in as anonymous ... Logged in!\n",
      "==> SYST ... done.    ==> PWD ... done.\n",
      "==> TYPE I ... done.  ==> CWD (1) /geo/series/GSE101nnn/GSE101207/matrix ... done.\n",
      "==> SIZE GSE101207-GPL11154_series_matrix.txt.gz ... 3896\n",
      "==> PASV ... done.    ==> RETR GSE101207-GPL11154_series_matrix.txt.gz ... done.\n",
      "Length: 3896 (3.8K) (unauthoritative)\n",
      "\n",
      "GSE101207-GPL11154_ 100%[===================>]   3.80K  --.-KB/s    in 0s      \n",
      "\n",
      "2024-03-05 15:26:54 (345 MB/s) - ‘GSE101207-GPL11154_series_matrix.txt.gz’ saved [3896]\n",
      "\n",
      "--2024-03-05 15:26:54--  ftp://ftp.ncbi.nlm.nih.gov/geo/series/GSE101nnn/GSE101207/matrix/GSE101207-GPL17021_series_matrix.txt.gz\n",
      "           => ‘GSE101207-GPL17021_series_matrix.txt.gz’\n",
      "Resolving ftp.ncbi.nlm.nih.gov (ftp.ncbi.nlm.nih.gov)... 130.14.250.12, 130.14.250.11, 2607:f220:41e:250::10, ...\n",
      "Connecting to ftp.ncbi.nlm.nih.gov (ftp.ncbi.nlm.nih.gov)|130.14.250.12|:21... connected.\n",
      "Logging in as anonymous ... Logged in!\n",
      "==> SYST ... done.    ==> PWD ... done.\n",
      "==> TYPE I ... done.  ==> CWD (1) /geo/series/GSE101nnn/GSE101207/matrix ... done.\n",
      "==> SIZE GSE101207-GPL17021_series_matrix.txt.gz ... 3603\n",
      "==> PASV ... done.    ==> RETR GSE101207-GPL17021_series_matrix.txt.gz ... done.\n",
      "Length: 3603 (3.5K) (unauthoritative)\n",
      "\n",
      "GSE101207-GPL17021_ 100%[===================>]   3.52K  --.-KB/s    in 0.009s  \n",
      "\n",
      "2024-03-05 15:26:55 (406 KB/s) - ‘GSE101207-GPL17021_series_matrix.txt.gz’ saved [3603]\n",
      "\n"
     ]
    }
   ],
   "source": [
    "!wget ftp://ftp.ncbi.nlm.nih.gov/geo/series/GSE101nnn/GSE101207/matrix/GSE101207-GPL11154_series_matrix.txt.gz\n",
    "!wget ftp://ftp.ncbi.nlm.nih.gov/geo/series/GSE101nnn/GSE101207/matrix/GSE101207-GPL17021_series_matrix.txt.gz\n",
    "\n",
    "!gunzip GSE101207-GPL11154_series_matrix.txt.gz\n",
    "!gunzip GSE101207-GPL17021_series_matrix.txt.gz\n",
    "\n",
    "!mv GSE101207-GPL11154_series_matrix.txt raw\n",
    "!mv GSE101207-GPL17021_series_matrix.txt raw"
   ]
  },
  {
   "cell_type": "code",
   "execution_count": 15,
   "id": "46594261-e272-44b7-b30e-aa844829d4af",
   "metadata": {},
   "outputs": [
    {
     "name": "stdout",
     "output_type": "stream",
     "text": [
      "--2024-07-24 23:37:51--  https://ars.els-cdn.com/content/image/1-s2.0-S2211124719302141-mmc2.xlsx\n",
      "Resolving ars.els-cdn.com (ars.els-cdn.com)... 172.64.155.214, 104.18.32.42, 2606:4700:4400::6812:202a, ...\n",
      "Connecting to ars.els-cdn.com (ars.els-cdn.com)|172.64.155.214|:443... connected.\n",
      "HTTP request sent, awaiting response... 200 OK\n",
      "Length: 1947147 (1.9M) [application/excel]\n",
      "Saving to: ‘1-s2.0-S2211124719302141-mmc2.xlsx’\n",
      "\n",
      "1-s2.0-S22111247193 100%[===================>]   1.86M  --.-KB/s    in 0.04s   \n",
      "\n",
      "2024-07-24 23:37:51 (49.2 MB/s) - ‘1-s2.0-S2211124719302141-mmc2.xlsx’ saved [1947147/1947147]\n",
      "\n"
     ]
    }
   ],
   "source": [
    "! wget https://ars.els-cdn.com/content/image/1-s2.0-S2211124719302141-mmc2.xlsx\n",
    "! mv 1-s2.0-S2211124719302141-mmc2.xlsx raw"
   ]
  },
  {
   "cell_type": "code",
   "execution_count": 39,
   "id": "894b5152-00a9-412d-a18d-3a67d8213089",
   "metadata": {},
   "outputs": [
    {
     "name": "stdout",
     "output_type": "stream",
     "text": [
      "--2024-03-05 15:45:47--  ftp://ftp.ncbi.nlm.nih.gov/geo/series/GSE101nnn/GSE101207/suppl/GSE101207_RAW.tar\n",
      "           => ‘GSE101207_RAW.tar’\n",
      "Resolving ftp.ncbi.nlm.nih.gov (ftp.ncbi.nlm.nih.gov)... 130.14.250.10, 130.14.250.7, 2607:f220:41e:250::11, ...\n",
      "Connecting to ftp.ncbi.nlm.nih.gov (ftp.ncbi.nlm.nih.gov)|130.14.250.10|:21... connected.\n",
      "Logging in as anonymous ... Logged in!\n",
      "==> SYST ... done.    ==> PWD ... done.\n",
      "==> TYPE I ... done.  ==> CWD (1) /geo/series/GSE101nnn/GSE101207/suppl ... done.\n",
      "==> SIZE GSE101207_RAW.tar ... 421345280\n",
      "==> PASV ... done.    ==> RETR GSE101207_RAW.tar ... done.\n",
      "Length: 421345280 (402M) (unauthoritative)\n",
      "\n",
      "GSE101207_RAW.tar   100%[===================>] 401.83M   122MB/s    in 3.3s    \n",
      "\n",
      "2024-03-05 15:45:52 (122 MB/s) - ‘GSE101207_RAW.tar’ saved [421345280]\n",
      "\n"
     ]
    }
   ],
   "source": [
    "!wget ftp://ftp.ncbi.nlm.nih.gov/geo/series/GSE101nnn/GSE101207/suppl/GSE101207_RAW.tar\n",
    "!mv GSE101207_RAW.tar raw\n",
    "!tar -xvf raw/GSE101207_RAW.tar -C raw"
   ]
  },
  {
   "cell_type": "code",
   "execution_count": null,
   "id": "0a3c15ce-f592-42ee-b2ef-a9fae7d38797",
   "metadata": {},
   "outputs": [],
   "source": [
    "sm=pd.read_table(path_ds+'GSE101207-GPL11154_series_matrix.txt',skiprows=34,index_col=0)\n",
    "sm1=pd.read_table(path_ds+'GSE101207-GPL17021_series_matrix.txt',skiprows=34,index_col=0)\n",
    "print('SM1 is mouse:',(sm1.loc['!Sample_organism_ch1',:]=='Mus musculus').all())\n",
    "print('SM shape:',sm.shape)"
   ]
  },
  {
   "cell_type": "code",
   "execution_count": 18,
   "id": "e6691c18-5e97-40fc-aaac-b6f2e9293e62",
   "metadata": {},
   "outputs": [],
   "source": [
    "obs = pd.read_excel('raw', sheet_name='Donor_Full_info', skiprows=2, index_col=0)"
   ]
  },
  {
   "cell_type": "code",
   "execution_count": 20,
   "id": "3bf5ae74-245b-45f7-88be-ee4892f4b463",
   "metadata": {},
   "outputs": [
    {
     "data": {
      "text/html": [
       "<div>\n",
       "<style scoped>\n",
       "    .dataframe tbody tr th:only-of-type {\n",
       "        vertical-align: middle;\n",
       "    }\n",
       "\n",
       "    .dataframe tbody tr th {\n",
       "        vertical-align: top;\n",
       "    }\n",
       "\n",
       "    .dataframe thead th {\n",
       "        text-align: right;\n",
       "    }\n",
       "</style>\n",
       "<table border=\"1\" class=\"dataframe\">\n",
       "  <thead>\n",
       "    <tr style=\"text-align: right;\">\n",
       "      <th></th>\n",
       "      <th>Gender</th>\n",
       "      <th>Age</th>\n",
       "      <th>BMI</th>\n",
       "      <th>HbA1c</th>\n",
       "      <th>Race</th>\n",
       "      <th>Height</th>\n",
       "      <th>Weight</th>\n",
       "      <th>Death cause</th>\n",
       "      <th>disease status</th>\n",
       "    </tr>\n",
       "    <tr>\n",
       "      <th>Sample</th>\n",
       "      <th></th>\n",
       "      <th></th>\n",
       "      <th></th>\n",
       "      <th></th>\n",
       "      <th></th>\n",
       "      <th></th>\n",
       "      <th></th>\n",
       "      <th></th>\n",
       "      <th></th>\n",
       "    </tr>\n",
       "  </thead>\n",
       "  <tbody>\n",
       "    <tr>\n",
       "      <th>H1</th>\n",
       "      <td>M</td>\n",
       "      <td>27</td>\n",
       "      <td>20.60</td>\n",
       "      <td>5.400</td>\n",
       "      <td>Ascian-filipino</td>\n",
       "      <td>NaN</td>\n",
       "      <td>NaN</td>\n",
       "      <td>Stroke</td>\n",
       "      <td>non-diabetic</td>\n",
       "    </tr>\n",
       "    <tr>\n",
       "      <th>H2</th>\n",
       "      <td>M</td>\n",
       "      <td>21</td>\n",
       "      <td>22.80</td>\n",
       "      <td>5.200</td>\n",
       "      <td>Caucasian</td>\n",
       "      <td>69.0</td>\n",
       "      <td>154.0</td>\n",
       "      <td>Trauma</td>\n",
       "      <td>non-diabetic</td>\n",
       "    </tr>\n",
       "    <tr>\n",
       "      <th>H3</th>\n",
       "      <td>F</td>\n",
       "      <td>38</td>\n",
       "      <td>34.40</td>\n",
       "      <td>5.000</td>\n",
       "      <td>Caucasian</td>\n",
       "      <td>69.0</td>\n",
       "      <td>233.0</td>\n",
       "      <td>Anoxic event</td>\n",
       "      <td>non-diabetic</td>\n",
       "    </tr>\n",
       "    <tr>\n",
       "      <th>H4</th>\n",
       "      <td>M</td>\n",
       "      <td>52</td>\n",
       "      <td>22.00</td>\n",
       "      <td>5.600</td>\n",
       "      <td>Caucasian</td>\n",
       "      <td>74.0</td>\n",
       "      <td>173.0</td>\n",
       "      <td>Stroke</td>\n",
       "      <td>non-diabetic</td>\n",
       "    </tr>\n",
       "    <tr>\n",
       "      <th>H5</th>\n",
       "      <td>M</td>\n",
       "      <td>28</td>\n",
       "      <td>30.80</td>\n",
       "      <td>4.900</td>\n",
       "      <td>Caucasian</td>\n",
       "      <td>71.0</td>\n",
       "      <td>220.0</td>\n",
       "      <td>Stroke</td>\n",
       "      <td>non-diabetic</td>\n",
       "    </tr>\n",
       "    <tr>\n",
       "      <th>H6</th>\n",
       "      <td>M</td>\n",
       "      <td>44</td>\n",
       "      <td>34.60</td>\n",
       "      <td>0.054</td>\n",
       "      <td>Caucasian</td>\n",
       "      <td>60.0</td>\n",
       "      <td>255.0</td>\n",
       "      <td>automobile accident</td>\n",
       "      <td>non-diabetic</td>\n",
       "    </tr>\n",
       "    <tr>\n",
       "      <th>T2D1</th>\n",
       "      <td>M</td>\n",
       "      <td>58</td>\n",
       "      <td>39.30</td>\n",
       "      <td>8.900</td>\n",
       "      <td>Caucasian</td>\n",
       "      <td>70.0</td>\n",
       "      <td>274.0</td>\n",
       "      <td>Anoxic event</td>\n",
       "      <td>Type 2 diabetes</td>\n",
       "    </tr>\n",
       "    <tr>\n",
       "      <th>T2D2</th>\n",
       "      <td>M</td>\n",
       "      <td>61</td>\n",
       "      <td>28.10</td>\n",
       "      <td>5.200</td>\n",
       "      <td>Caucasian</td>\n",
       "      <td>NaN</td>\n",
       "      <td>NaN</td>\n",
       "      <td>Cerebral Vascular accident</td>\n",
       "      <td>Type 2 diabetes</td>\n",
       "    </tr>\n",
       "    <tr>\n",
       "      <th>T2D3</th>\n",
       "      <td>M</td>\n",
       "      <td>51</td>\n",
       "      <td>35.59</td>\n",
       "      <td>0.071</td>\n",
       "      <td>Hispanic</td>\n",
       "      <td>57.0</td>\n",
       "      <td>240.0</td>\n",
       "      <td>stroke</td>\n",
       "      <td>Type 2 diabetes</td>\n",
       "    </tr>\n",
       "  </tbody>\n",
       "</table>\n",
       "</div>"
      ],
      "text/plain": [
       "       Gender  Age    BMI  HbA1c             Race  Height  Weight  \\\n",
       "Sample                                                              \n",
       "H1          M   27  20.60  5.400  Ascian-filipino     NaN     NaN   \n",
       "H2          M   21  22.80  5.200        Caucasian    69.0   154.0   \n",
       "H3          F   38  34.40  5.000        Caucasian    69.0   233.0   \n",
       "H4          M   52  22.00  5.600        Caucasian    74.0   173.0   \n",
       "H5          M   28  30.80  4.900        Caucasian    71.0   220.0   \n",
       "H6          M   44  34.60  0.054        Caucasian    60.0   255.0   \n",
       "T2D1        M   58  39.30  8.900        Caucasian    70.0   274.0   \n",
       "T2D2        M   61  28.10  5.200        Caucasian     NaN     NaN   \n",
       "T2D3        M   51  35.59  0.071         Hispanic    57.0   240.0   \n",
       "\n",
       "                       Death cause   disease status  \n",
       "Sample                                               \n",
       "H1                          Stroke     non-diabetic  \n",
       "H2                          Trauma     non-diabetic  \n",
       "H3                    Anoxic event     non-diabetic  \n",
       "H4                          Stroke     non-diabetic  \n",
       "H5                          Stroke     non-diabetic  \n",
       "H6             automobile accident     non-diabetic  \n",
       "T2D1                  Anoxic event  Type 2 diabetes  \n",
       "T2D2    Cerebral Vascular accident  Type 2 diabetes  \n",
       "T2D3                        stroke  Type 2 diabetes  "
      ]
     },
     "execution_count": 20,
     "metadata": {},
     "output_type": "execute_result"
    }
   ],
   "source": [
    "obs"
   ]
  },
  {
   "cell_type": "code",
   "execution_count": null,
   "id": "91f9440d-ccd4-413b-9f40-f2fe17bd851f",
   "metadata": {},
   "outputs": [],
   "source": [
    "obs=pd.read_excel(path_ds+'1-s2.0-S2211124719302141-mmc2.xlsx',sheet_name='Celltype.info',\n",
    "                  skiprows=2,index_col=0)"
   ]
  },
  {
   "cell_type": "code",
   "execution_count": 25,
   "id": "b3db3ee8-47c6-4a65-bd4d-1894f514ea91",
   "metadata": {},
   "outputs": [],
   "source": [
    "# Drop unused columns\n",
    "obs.drop(['Tx.all','Tx.D'],axis=1,inplace=True)\n",
    "# rename ct col\n",
    "obs.rename({'celltype':'cell_type','Donor':'donor'},axis=1,inplace=True)"
   ]
  },
  {
   "cell_type": "code",
   "execution_count": 27,
   "id": "d81ee34d-9378-4fdc-9335-1419d87c304f",
   "metadata": {},
   "outputs": [],
   "source": [
    "# Parse cts\n",
    "obs['cell_type']=obs['cell_type'].replace({'allBeta':'Beta'})\n",
    "obs['cell_type_original']=obs['cell_type']\n",
    "obs['cell_type']=obs['cell_type'].str.lower().replace({\n",
    "    'duct':'ductal','psc':'stellate','pp':'gamma'}).fillna('dropped')\n",
    "\n",
    "# From the paper: \"28,026 “clean” cells without ambiguity\" - others I have named here as dropped"
   ]
  },
  {
   "cell_type": "code",
   "execution_count": 28,
   "id": "ea486989-0c8a-4759-8539-6c43e5b04406",
   "metadata": {},
   "outputs": [
    {
     "name": "stdout",
     "output_type": "stream",
     "text": [
      "{('H5', 'e'), ('H1', None), ('T2D1', 'g'), ('H6', 'f'), ('H3', 'c'), ('H2', 'b'), ('H4', 'd'), ('T2D2', 'h'), ('T2D3', 'i')}\n"
     ]
    }
   ],
   "source": [
    "donor_suf=set()\n",
    "for idx,data in obs.iterrows():\n",
    "    donor_suf.add(tuple([data['donor'],(idx.split('_')[1] if len(idx.split('_'))>1 else None)]))\n",
    "print(donor_suf)"
   ]
  },
  {
   "cell_type": "code",
   "execution_count": 29,
   "id": "1a0127e8-929b-45bc-8fbd-74dff19a2a0b",
   "metadata": {},
   "outputs": [],
   "source": [
    "# Change suffix to donor to make processing easier downstream when mattching to expression\n",
    "obs.index=[i.split('_')[0]+'_'+donor for i,donor in zip(obs.index,obs.donor)]"
   ]
  },
  {
   "cell_type": "code",
   "execution_count": null,
   "id": "502e427d-439b-4c53-aa05-b7092e4caf7e",
   "metadata": {},
   "outputs": [],
   "source": [
    "# Donor info\n",
    "donor_df=pd.read_excel(path_ds+'1-s2.0-S2211124719302141-mmc2.xlsx',sheet_name='Donor_Full_info',\n",
    "                  skiprows=2,index_col=0)"
   ]
  },
  {
   "cell_type": "code",
   "execution_count": 62,
   "id": "d8a9ecf5-9264-4a2f-81b2-04a8c03f9f45",
   "metadata": {},
   "outputs": [],
   "source": [
    "# Edit colnames and values\n",
    "donor_df.fillna('NA',inplace=True)\n",
    "donor_df.drop(['Weight','Height'],axis=1,inplace=True)\n",
    "donor_df.rename({'Gender':'sex','Age':'age','Race':'ethnicity',\n",
    "                 'Death cause':'death_cause','disease status':'disease'},axis=1,inplace=True)\n",
    "donor_df['sex'].replace({'M':'male','F':'female'},inplace=True)\n",
    "donor_df['age']=donor_df['age'].apply(lambda x: str(x)+' y')\n",
    "donor_df['ethnicity']=donor_df['ethnicity'].str.lower()\n",
    "donor_df['death_cause']=donor_df['death_cause'].str.lower()\n",
    "donor_df['disease'].replace(\n",
    "    {'non-diabetic':'control','Type 2 diabetes':'T2D'},inplace=True)"
   ]
  },
  {
   "cell_type": "code",
   "execution_count": 64,
   "id": "48c1b621-d386-4d91-bc54-27da391dcf9b",
   "metadata": {},
   "outputs": [],
   "source": [
    "# Add donor info to obs\n",
    "for col in donor_df.columns:\n",
    "    obs[col]=obs['donor'].map(donor_df[col].to_dict())"
   ]
  },
  {
   "cell_type": "code",
   "execution_count": 65,
   "id": "9366ba78-ad98-454a-9127-ef18b3fc3e03",
   "metadata": {},
   "outputs": [],
   "source": [
    "obs['organ']='pancreas'\n",
    "obs['tissue']='pancreatic islets'\n",
    "obs['organism']='human'"
   ]
  },
  {
   "cell_type": "code",
   "execution_count": 47,
   "id": "f9628a78-ec8a-4663-8fde-74b0b394d640",
   "metadata": {},
   "outputs": [
    {
     "name": "stderr",
     "output_type": "stream",
     "text": [
      "/tmp/ipykernel_872962/3906879862.py:8: FutureWarning: X.dtype being converted to np.float32 from int64. In the next version of anndata (0.9) conversion will not be automatic. Pass dtype explicitly to avoid this warning. Pass `AnnData(X, dtype=X.dtype, ...)` to get the future behavour.\n",
      "  x_sub=sc.AnnData(x_sub)\n",
      "/tmp/ipykernel_872962/3906879862.py:8: FutureWarning: X.dtype being converted to np.float32 from int64. In the next version of anndata (0.9) conversion will not be automatic. Pass dtype explicitly to avoid this warning. Pass `AnnData(X, dtype=X.dtype, ...)` to get the future behavour.\n",
      "  x_sub=sc.AnnData(x_sub)\n",
      "/tmp/ipykernel_872962/3906879862.py:8: FutureWarning: X.dtype being converted to np.float32 from int64. In the next version of anndata (0.9) conversion will not be automatic. Pass dtype explicitly to avoid this warning. Pass `AnnData(X, dtype=X.dtype, ...)` to get the future behavour.\n",
      "  x_sub=sc.AnnData(x_sub)\n",
      "/tmp/ipykernel_872962/3906879862.py:8: FutureWarning: X.dtype being converted to np.float32 from int64. In the next version of anndata (0.9) conversion will not be automatic. Pass dtype explicitly to avoid this warning. Pass `AnnData(X, dtype=X.dtype, ...)` to get the future behavour.\n",
      "  x_sub=sc.AnnData(x_sub)\n",
      "/tmp/ipykernel_872962/3906879862.py:8: FutureWarning: X.dtype being converted to np.float32 from int64. In the next version of anndata (0.9) conversion will not be automatic. Pass dtype explicitly to avoid this warning. Pass `AnnData(X, dtype=X.dtype, ...)` to get the future behavour.\n",
      "  x_sub=sc.AnnData(x_sub)\n",
      "/tmp/ipykernel_872962/3906879862.py:8: FutureWarning: X.dtype being converted to np.float32 from int64. In the next version of anndata (0.9) conversion will not be automatic. Pass dtype explicitly to avoid this warning. Pass `AnnData(X, dtype=X.dtype, ...)` to get the future behavour.\n",
      "  x_sub=sc.AnnData(x_sub)\n",
      "/tmp/ipykernel_872962/3906879862.py:8: FutureWarning: X.dtype being converted to np.float32 from int64. In the next version of anndata (0.9) conversion will not be automatic. Pass dtype explicitly to avoid this warning. Pass `AnnData(X, dtype=X.dtype, ...)` to get the future behavour.\n",
      "  x_sub=sc.AnnData(x_sub)\n",
      "/tmp/ipykernel_872962/3906879862.py:8: FutureWarning: X.dtype being converted to np.float32 from int64. In the next version of anndata (0.9) conversion will not be automatic. Pass dtype explicitly to avoid this warning. Pass `AnnData(X, dtype=X.dtype, ...)` to get the future behavour.\n",
      "  x_sub=sc.AnnData(x_sub)\n",
      "/tmp/ipykernel_872962/3906879862.py:8: FutureWarning: X.dtype being converted to np.float32 from int64. In the next version of anndata (0.9) conversion will not be automatic. Pass dtype explicitly to avoid this warning. Pass `AnnData(X, dtype=X.dtype, ...)` to get the future behavour.\n",
      "  x_sub=sc.AnnData(x_sub)\n"
     ]
    }
   ],
   "source": [
    "adata=[]\n",
    "for donor in obs.donor.unique():\n",
    "    files=glob.glob(path_ds+'*_'+donor+'.down.gene_exon_tagged.cleaned.dge.txt.gz')\n",
    "    if len(files)!=1:\n",
    "        raise ValueError('Not exactly 1 file per donor')\n",
    "    x_sub=pd.read_table(files[0], index_col=0).T\n",
    "    x_sub.index=[i+'_'+donor for i in x_sub.index]\n",
    "    x_sub=sc.AnnData(x_sub)\n",
    "    x_sub.X=csr_matrix(x_sub.X)\n",
    "    adata.append(x_sub)\n",
    "adata=sc.concat(adata,join='outer')"
   ]
  },
  {
   "cell_type": "code",
   "execution_count": 83,
   "id": "501a0268-d911-4b33-879b-854e5810e78d",
   "metadata": {},
   "outputs": [],
   "source": [
    "# Add obs\n",
    "adata.obs=obs.reindex(adata.obs_names)\n",
    "# Fill ct info if not present\n",
    "adata.obs['cell_type'].fillna('dropped',inplace=True)\n",
    "# Save orginal X\n",
    "adata.layers['raw']=adata.X.copy()"
   ]
  },
  {
   "cell_type": "code",
   "execution_count": 85,
   "id": "a719781d-3161-4b7b-a49f-58cc0fb01bd2",
   "metadata": {},
   "outputs": [
    {
     "name": "stderr",
     "output_type": "stream",
     "text": [
      "/gpfs/gibbs/project/krishnaswamy_smita/av622/conda_envs/gspa/lib/python3.8/site-packages/scanpy/preprocessing/_normalization.py:197: UserWarning: Some cells have zero counts\n",
      "  warn(UserWarning('Some cells have zero counts'))\n"
     ]
    }
   ],
   "source": [
    "# normalise\n",
    "sc.pp.normalize_total(adata)"
   ]
  },
  {
   "cell_type": "code",
   "execution_count": 86,
   "id": "a4fbaf9e-5bd8-4b70-a20f-faf0723057dd",
   "metadata": {},
   "outputs": [],
   "source": [
    "# Sqrt normalize (to match our analysis)\n",
    "sc.pp.sqrt(adata)"
   ]
  },
  {
   "cell_type": "code",
   "execution_count": 90,
   "id": "90513d5d-3914-4b0e-b3de-75a30dfb4c1e",
   "metadata": {},
   "outputs": [],
   "source": [
    "adata_subset = adata[(adata.obs['disease'].isin(['control','T2D'])) & (adata.obs['cell_type'] == 'beta')]"
   ]
  }
 ],
 "metadata": {
  "kernelspec": {
   "display_name": "Python 3 (ipykernel)",
   "language": "python",
   "name": "python3"
  },
  "language_info": {
   "codemirror_mode": {
    "name": "ipython",
    "version": 3
   },
   "file_extension": ".py",
   "mimetype": "text/x-python",
   "name": "python",
   "nbconvert_exporter": "python",
   "pygments_lexer": "ipython3",
   "version": "3.8.18"
  }
 },
 "nbformat": 4,
 "nbformat_minor": 5
}

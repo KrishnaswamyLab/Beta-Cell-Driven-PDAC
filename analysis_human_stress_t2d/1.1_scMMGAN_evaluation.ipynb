{
 "cells": [
  {
   "cell_type": "code",
   "execution_count": 1,
   "id": "adb2808b-24e8-49b6-b167-45c81469ae43",
   "metadata": {},
   "outputs": [],
   "source": [
    "import scib, scanpy, scprep\n",
    "import numpy as np\n",
    "import pandas as pd\n",
    "from sklearn.metrics.pairwise import cosine_similarity\n",
    "from tqdm import tqdm"
   ]
  },
  {
   "cell_type": "code",
   "execution_count": 2,
   "id": "b6a41f82-336f-492e-a9db-355d46fc8778",
   "metadata": {},
   "outputs": [],
   "source": [
    "adata_beta = scanpy.read_h5ad('../data/beta_run_2.h5ad')\n",
    "all_adatas = scanpy.read_h5ad('results/all_mapped_human_datasets.h5ad')"
   ]
  },
  {
   "cell_type": "code",
   "execution_count": 3,
   "id": "dabc271c-22f9-4465-9875-95c29b1719be",
   "metadata": {},
   "outputs": [],
   "source": [
    "all_adatas.obsm['X_scmmgan_gene'] = pd.DataFrame(all_adatas.obsm['X_scmmgan_gene'],\n",
    "                                                 index=all_adatas.obs_names,\n",
    "                                                 columns=adata_beta.var['names'])"
   ]
  },
  {
   "cell_type": "code",
   "execution_count": 4,
   "id": "beda245c-9226-4bf9-83e2-be10e0987285",
   "metadata": {},
   "outputs": [
    {
     "name": "stderr",
     "output_type": "stream",
     "text": [
      "/gpfs/gibbs/project/krishnaswamy_smita/av622/conda_envs/gspa/lib/python3.8/site-packages/anndata/_core/anndata.py:121: ImplicitModificationWarning: Transforming to str index.\n",
      "  warnings.warn(\"Transforming to str index.\", ImplicitModificationWarning)\n"
     ]
    }
   ],
   "source": [
    "adata_post_all = scanpy.concat((all_adatas, adata_beta), label='batch')"
   ]
  },
  {
   "cell_type": "code",
   "execution_count": 5,
   "id": "8d29c344-300e-45f8-b04a-7ffdb2188b16",
   "metadata": {},
   "outputs": [],
   "source": [
    "adata_post_all.obsm['X_pc'] = np.vstack((adata_beta.obsm['X_pca'], all_adatas.obsm['X_scmmgan_pca']))\n",
    "adata_post_all.obs['cell_type'] = 'beta cell' # cell type necessary for batch ASW (compares per cell type)"
   ]
  },
  {
   "cell_type": "code",
   "execution_count": 6,
   "id": "4fb16d9f-ce60-44e7-bca8-399034abab9f",
   "metadata": {},
   "outputs": [],
   "source": [
    "evaluation_summary = pd.DataFrame(columns=['pre_post_corr'])"
   ]
  },
  {
   "cell_type": "code",
   "execution_count": 7,
   "id": "6174957b-6dd2-422a-bf26-688847e11702",
   "metadata": {},
   "outputs": [
    {
     "name": "stdout",
     "output_type": "stream",
     "text": [
      "mean silhouette per group:            silhouette_score\n",
      "group                      \n",
      "beta cell          0.971123\n"
     ]
    }
   ],
   "source": [
    "evaluation_summary.loc['Batch ASW'] = scib.me.silhouette_batch(adata_post_all, batch_key='batch', label_key='cell_type', embed='X_pc')"
   ]
  },
  {
   "cell_type": "code",
   "execution_count": 8,
   "id": "d7249cdc-65aa-4685-9063-661d25e43843",
   "metadata": {},
   "outputs": [],
   "source": [
    "all_adatas.obsm['X_scmmgan_gene'].columns = adata_beta.var['human_name']"
   ]
  },
  {
   "cell_type": "code",
   "execution_count": 9,
   "id": "79251dbf-7d70-46a8-956c-6eed134ba4c4",
   "metadata": {},
   "outputs": [],
   "source": [
    "intersection = list(set(all_adatas.var_names).intersection(all_adatas.obsm['X_scmmgan_gene'].columns))\n",
    "all_gene_space = all_adatas.obsm['X_scmmgan_gene'].iloc[:, ~all_adatas.obsm['X_scmmgan_gene'].columns.duplicated()]"
   ]
  },
  {
   "cell_type": "code",
   "execution_count": 10,
   "id": "4d2cc04a-b407-4bfb-a6d7-20c8306837a1",
   "metadata": {},
   "outputs": [],
   "source": [
    "ref_x = all_adatas[:, intersection].X.toarray()\n",
    "post_x = all_gene_space[intersection].values"
   ]
  },
  {
   "cell_type": "code",
   "execution_count": 11,
   "id": "6ce9c074-c3ab-4195-bf20-737098b82331",
   "metadata": {},
   "outputs": [
    {
     "name": "stderr",
     "output_type": "stream",
     "text": [
      "100%|██████████| 10663/10663 [00:03<00:00, 3544.56it/s]\n"
     ]
    }
   ],
   "source": [
    "pre_post_corr = []\n",
    "for i in tqdm(range(all_adatas.n_obs)):\n",
    "    pre_post_corr.append(cosine_similarity(ref_x[i].reshape(1,-1), post_x[i].reshape(1,-1))[0][0])"
   ]
  },
  {
   "cell_type": "code",
   "execution_count": 12,
   "id": "4f70c843-998a-4654-a25c-d2bbc0dc5e65",
   "metadata": {},
   "outputs": [],
   "source": [
    "evaluation_summary.loc['Mean cell cosine similarity pre- and post-alignment'] = np.mean(pre_post_corr)"
   ]
  },
  {
   "cell_type": "code",
   "execution_count": 13,
   "id": "5c21fc2f-1b55-46b6-8a46-7057e0832a44",
   "metadata": {},
   "outputs": [],
   "source": [
    "all_adatas.obs['pre_post_corr'] = pre_post_corr"
   ]
  },
  {
   "cell_type": "code",
   "execution_count": 14,
   "id": "33f80f11-e2d4-4725-89f9-84b60fe93114",
   "metadata": {},
   "outputs": [],
   "source": [
    "evaluation_summary = pd.concat((evaluation_summary, all_adatas.obs[['disease', 'pre_post_corr']].groupby('disease').mean()))\n",
    "evaluation_summary = pd.concat((evaluation_summary, all_adatas.obs[['sex', 'pre_post_corr']].groupby('sex').mean()))\n",
    "evaluation_summary = pd.concat((evaluation_summary, all_adatas.obs[['AT_committment', 'pre_post_corr']].groupby('AT_committment').mean()))"
   ]
  },
  {
   "cell_type": "code",
   "execution_count": 16,
   "id": "8b3d1fde-f641-45ed-b9f0-0748bc181a79",
   "metadata": {},
   "outputs": [],
   "source": [
    "evaluation_summary.to_csv('results/scMMGAN_stats.csv')"
   ]
  }
 ],
 "metadata": {
  "kernelspec": {
   "display_name": "Python 3 (ipykernel)",
   "language": "python",
   "name": "python3"
  },
  "language_info": {
   "codemirror_mode": {
    "name": "ipython",
    "version": 3
   },
   "file_extension": ".py",
   "mimetype": "text/x-python",
   "name": "python",
   "nbconvert_exporter": "python",
   "pygments_lexer": "ipython3",
   "version": "3.8.18"
  }
 },
 "nbformat": 4,
 "nbformat_minor": 5
}
